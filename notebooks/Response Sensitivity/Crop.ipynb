{
 "cells": [
  {
   "cell_type": "code",
   "execution_count": null,
   "id": "55528847-10e6-4cb6-b71c-bde0d7cf9c1b",
   "metadata": {},
   "outputs": [],
   "source": [
    "import requests\n",
    "import xml.etree.ElementTree as ET\n",
    "import json\n",
    "import geopandas as gpd\n",
    "from shapely.geometry import Polygon, Point, box\n",
    "from shapely.ops import unary_union\n",
    "import numpy as np\n",
    "from rtree import index  # Spatial indexing\n",
    "import ipyparallel as ipp"
   ]
  },
  {
   "cell_type": "code",
   "execution_count": 23,
   "id": "45116057-2ea9-461a-87dd-084cd78b3bf8",
   "metadata": {
    "execution": {
     "iopub.execute_input": "2025-03-12T19:27:13.493117Z",
     "iopub.status.busy": "2025-03-12T19:27:13.492764Z",
     "iopub.status.idle": "2025-03-12T19:27:13.899990Z",
     "shell.execute_reply": "2025-03-12T19:27:13.899384Z",
     "shell.execute_reply.started": "2025-03-12T19:27:13.493094Z"
    }
   },
   "outputs": [
    {
     "name": "stdout",
     "output_type": "stream",
     "text": [
      "{'x': 1551565.363, 'y': 1909363.537, 'value': 1, 'category': 'Corn', 'color': '#FFD400'}\n"
     ]
    }
   ],
   "source": [
    "url = \"https://nassgeodata.gmu.edu/axis2/services/CDLService/GetCDLValue?year=2018&x=1551565.363&y=1909363.537\"\n",
    "\n",
    "# Send a GET request to the URL\n",
    "response = requests.get(url)\n",
    "\n",
    "# Check if the request was successful\n",
    "if response.status_code == 200:\n",
    "    # Parse the XML content\n",
    "    root = ET.fromstring(response.content)\n",
    "\n",
    "    # Extract the Result element\n",
    "    result_element = root.find(\".//Result\")  # No namespace needed\n",
    "\n",
    "    if result_element is not None:\n",
    "        # Get the text content of the Result element\n",
    "        result_string = result_element.text\n",
    "\n",
    "        # Fix the dictionary format by adding quotes around keys\n",
    "        # Replace single quotes with double quotes for JSON compatibility\n",
    "        result_string = result_string.replace(\"{\", \"{\\\"\").replace(\":\", \"\\\":\").replace(\", \", \", \\\"\")\n",
    "\n",
    "        # Convert the fixed string to a dictionary using json.loads\n",
    "        result_dict = json.loads(result_string)\n",
    "\n",
    "        print(result_dict)\n",
    "    else:\n",
    "        print(\"Result element not found in the XML response.\")\n",
    "else:\n",
    "    print(f\"Failed to fetch data. Status code: {response.status_code}\")"
   ]
  },
  {
   "cell_type": "code",
   "execution_count": 25,
   "id": "17cb2dfc-0d3e-40bf-88ec-c0b0ec383c2e",
   "metadata": {
    "execution": {
     "iopub.execute_input": "2025-03-12T19:29:09.996867Z",
     "iopub.status.busy": "2025-03-12T19:29:09.996577Z",
     "iopub.status.idle": "2025-03-12T19:29:10.002559Z",
     "shell.execute_reply": "2025-03-12T19:29:10.001915Z",
     "shell.execute_reply.started": "2025-03-12T19:29:09.996844Z"
    }
   },
   "outputs": [],
   "source": [
    "def get_cdl_value(year, x, y):\n",
    "    \"\"\"\n",
    "    Fetches and parses the CDL value for a given year, x, and y coordinates.\n",
    "\n",
    "    Args:\n",
    "        year (int): The year of the data.\n",
    "        x (float): The x-coordinate.\n",
    "        y (float): The y-coordinate.\n",
    "\n",
    "    Returns:\n",
    "        dict: A dictionary containing the result data.\n",
    "              Returns None if the request fails or the Result element is not found.\n",
    "    \"\"\"\n",
    "    # Construct the URL with the provided year, x, and y\n",
    "    url = f\"https://nassgeodata.gmu.edu/axis2/services/CDLService/GetCDLValue?year={year}&x={x}&y={y}\"\n",
    "\n",
    "    # Send a GET request to the URL\n",
    "    response = requests.get(url)\n",
    "\n",
    "    # Check if the request was successful\n",
    "    if response.status_code == 200:\n",
    "        # Parse the XML content\n",
    "        root = ET.fromstring(response.content)\n",
    "\n",
    "        # Extract the Result element\n",
    "        result_element = root.find(\".//Result\")  # No namespace needed\n",
    "\n",
    "        if result_element is not None:\n",
    "            # Get the text content of the Result element\n",
    "            result_string = result_element.text\n",
    "\n",
    "            # Fix the dictionary format by adding quotes around keys\n",
    "            # Replace single quotes with double quotes for JSON compatibility\n",
    "            result_string = result_string.replace(\"{\", \"{\\\"\").replace(\":\", \"\\\":\").replace(\", \", \", \\\"\")\n",
    "\n",
    "            # Convert the fixed string to a dictionary using json.loads\n",
    "            result_dict = json.loads(result_string)\n",
    "\n",
    "            return result_dict\n",
    "        else:\n",
    "            print(\"Result element not found in the XML response.\")\n",
    "            return None\n",
    "    else:\n",
    "        print(f\"Failed to fetch data. Status code: {response.status_code}\")\n",
    "        return None"
   ]
  },
  {
   "cell_type": "code",
   "execution_count": 26,
   "id": "28b0e648-7483-43f8-be4a-069b7b6c1d55",
   "metadata": {
    "execution": {
     "iopub.execute_input": "2025-03-12T19:29:23.277173Z",
     "iopub.status.busy": "2025-03-12T19:29:23.276671Z",
     "iopub.status.idle": "2025-03-12T19:29:24.686184Z",
     "shell.execute_reply": "2025-03-12T19:29:24.685595Z",
     "shell.execute_reply.started": "2025-03-12T19:29:23.277152Z"
    }
   },
   "outputs": [
    {
     "name": "stdout",
     "output_type": "stream",
     "text": [
      "{'x': 1551565.363, 'y': 1909363.537, 'value': 1, 'category': 'Corn', 'color': '#FFD400'}\n"
     ]
    }
   ],
   "source": [
    "# Example usage\n",
    "year = 2018\n",
    "x = 1551565.363\n",
    "y = 1909363.537\n",
    "\n",
    "result = get_cdl_value(year, x, y)\n",
    "if result:\n",
    "    print(result)\n",
    "else:\n",
    "    print(\"No result found.\")"
   ]
  },
  {
   "cell_type": "code",
   "execution_count": 32,
   "id": "0a805439-231b-4fae-b1dc-f3acc568d794",
   "metadata": {
    "execution": {
     "iopub.execute_input": "2025-03-12T19:40:04.431199Z",
     "iopub.status.busy": "2025-03-12T19:40:04.430906Z",
     "iopub.status.idle": "2025-03-12T19:40:04.654927Z",
     "shell.execute_reply": "2025-03-12T19:40:04.654387Z",
     "shell.execute_reply.started": "2025-03-12T19:40:04.431176Z"
    }
   },
   "outputs": [],
   "source": [
    "SGMA = \"../data/GWBasins.shp\"\n",
    "gdf = gpd.read_file(SGMA)\n",
    "gdf.set_crs(epsg=3857, inplace=True)\n",
    "gdf.set_index('OBJECTID', inplace=True)\n",
    "gdf['Basin_Prefix'] = gdf['Basin_Numb'].str.split('-').str[0].astype(int)\n",
    "gdf_5021 = gdf[gdf['Basin_Numb'] == '5-021']\n",
    "combined_polygon = unary_union(gdf_5021.geometry)"
   ]
  },
  {
   "cell_type": "code",
   "execution_count": null,
   "id": "5dbd7381-1131-4e81-b341-a4c7e46ee319",
   "metadata": {
    "execution": {
     "iopub.execute_input": "2025-03-12T19:58:22.213138Z",
     "iopub.status.busy": "2025-03-12T19:58:22.212888Z"
    }
   },
   "outputs": [
    {
     "name": "stdout",
     "output_type": "stream",
     "text": [
      "grid created\n",
      "boxes created\n",
      "grid_gdf created\n"
     ]
    }
   ],
   "source": [
    "combined_polygon = gpd.GeoSeries([combined_polygon], crs='EPSG:3857').to_crs('EPSG:32610').geometry[0]\n",
    "\n",
    "# Get the bounds of the combined polygon\n",
    "xmin, ymin, xmax, ymax = combined_polygon.bounds\n",
    "\n",
    "# Create a grid of 100m x 100m squares\n",
    "x = np.arange(xmin, xmax, 100)\n",
    "y = np.arange(ymin, ymax, 100)\n",
    "\n",
    "print(\"grid created\")\n",
    "\n",
    "grid_polygons = []\n",
    "for xi in range(len(x) - 1):\n",
    "    for yi in range(len(y) - 1):\n",
    "        grid_polygons.append(box(x[xi], y[yi], x[xi + 1], y[yi + 1]))\n",
    "\n",
    "print(\"boxes created\")\n",
    "\n",
    "# Create a GeoDataFrame for the grid\n",
    "grid_gdf = gpd.GeoDataFrame({'geometry': grid_polygons}, crs='EPSG:32610')\n",
    "\n",
    "print(\"grid_gdf created\")\n",
    "\n",
    "# Intersect the grid with the combined polygon\n",
    "intersected_gdf = gpd.overlay(grid_gdf, gpd.GeoDataFrame({'geometry': [combined_polygon]}, crs='EPSG:32610'), how='intersection')"
   ]
  },
  {
   "cell_type": "code",
   "execution_count": null,
   "id": "ea8cadb7-3b82-48c4-b8fe-a40f7780df71",
   "metadata": {},
   "outputs": [],
   "source": []
  }
 ],
 "metadata": {
  "kernelspec": {
   "display_name": "Python 3 (ipykernel)",
   "language": "python",
   "name": "python3"
  },
  "language_info": {
   "codemirror_mode": {
    "name": "ipython",
    "version": 3
   },
   "file_extension": ".py",
   "mimetype": "text/x-python",
   "name": "python",
   "nbconvert_exporter": "python",
   "pygments_lexer": "ipython3",
   "version": "3.11.7"
  }
 },
 "nbformat": 4,
 "nbformat_minor": 5
}
