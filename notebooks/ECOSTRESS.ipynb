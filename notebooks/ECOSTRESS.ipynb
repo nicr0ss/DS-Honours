{
 "cells": [
  {
   "cell_type": "code",
   "execution_count": 15,
   "id": "f17d54d1-01aa-4eeb-b669-51780b5369e8",
   "metadata": {
    "execution": {
     "iopub.execute_input": "2025-04-09T02:21:20.474927Z",
     "iopub.status.busy": "2025-04-09T02:21:20.474355Z",
     "iopub.status.idle": "2025-04-09T02:21:20.479423Z",
     "shell.execute_reply": "2025-04-09T02:21:20.478590Z",
     "shell.execute_reply.started": "2025-04-09T02:21:20.474904Z"
    }
   },
   "outputs": [],
   "source": [
    "import pandas as pd\n",
    "import numpy as np\n",
    "import os\n",
    "import glob\n",
    "import rasterio\n",
    "import matplotlib.pyplot as plt\n",
    "from tqdm import tqdm\n",
    "import requests\n",
    "from pyproj import Transformer\n",
    "import xml.etree.ElementTree as ET\n",
    "import json\n",
    "import ipyparallel as ipp\n",
    "import boto3\n",
    "import pickle\n",
    "import io\n",
    "import geopandas as gpd\n",
    "from shapely.geometry import Point\n",
    "from joblib import Parallel, delayed\n",
    "import matplotlib.pyplot as plt\n",
    "import seaborn as sns\n",
    "from scipy.stats import linregress"
   ]
  },
  {
   "cell_type": "code",
   "execution_count": 2,
   "id": "c63d42cd-230e-4ca9-b4ab-bafa980751a2",
   "metadata": {
    "execution": {
     "iopub.execute_input": "2025-04-07T18:47:36.071136Z",
     "iopub.status.busy": "2025-04-07T18:47:36.070824Z",
     "iopub.status.idle": "2025-04-07T18:47:36.075350Z",
     "shell.execute_reply": "2025-04-07T18:47:36.074989Z",
     "shell.execute_reply.started": "2025-04-07T18:47:36.071117Z"
    }
   },
   "outputs": [],
   "source": [
    "def get_cdl_value(year, lon, lat):\n",
    "    \"\"\"\n",
    "    Fetches and parses the CDL value for a given year, lon, and lat coordinates.\n",
    "\n",
    "    Args:\n",
    "        year (int): The year of the data.\n",
    "        lon (float): The longitude.\n",
    "        lat (float): The latitude.\n",
    "\n",
    "    Returns:\n",
    "        dict: A dictionary containing the result data.\n",
    "              Returns None if the request fails or the Result element is not found.\n",
    "    \"\"\"\n",
    "    transformer = Transformer.from_crs(\"epsg:4326\", \"epsg:5070\", always_xy=True)\n",
    "    x, y = transformer.transform(lon, lat)\n",
    "    url = f\"https://nassgeodata.gmu.edu/axis2/services/CDLService/GetCDLValue?year={year}&x={x}&y={y}\"\n",
    "    response = requests.get(url)\n",
    "\n",
    "    if response.status_code == 200: # success\n",
    "        root = ET.fromstring(response.content)\n",
    "        result_element = root.find(\".//Result\")\n",
    "\n",
    "        if result_element is not None:\n",
    "            result_string = result_element.text\n",
    "            # weird xml format fix\n",
    "            result_string = result_string.replace(\"{\", \"{\\\"\").replace(\":\", \"\\\":\").replace(\", \", \", \\\"\")\n",
    "            result_dict = json.loads(result_string)\n",
    "            return result_dict\n",
    "        else:\n",
    "            print(\"Result element not found in the XML response.\")\n",
    "            return None\n",
    "    else:\n",
    "        print(f\"Failed to fetch data. Status code: {response.status_code}\")\n",
    "        return None"
   ]
  },
  {
   "cell_type": "code",
   "execution_count": 4,
   "id": "f8ec5f3c-b826-4670-8363-aadcce2f8455",
   "metadata": {},
   "outputs": [],
   "source": [
    "central_5021 = pd.read_csv(\"../data/central_stations_observations.csv\")\n",
    "central_5021 = central_5021[central_5021.Basin_Subb.str.startswith(\"5-021\")]"
   ]
  },
  {
   "cell_type": "code",
   "execution_count": 5,
   "id": "f6c01dae-abef-4262-b5aa-8c42d09a4cec",
   "metadata": {},
   "outputs": [
    {
     "data": {
      "text/html": [
       "<div>\n",
       "<style scoped>\n",
       "    .dataframe tbody tr th:only-of-type {\n",
       "        vertical-align: middle;\n",
       "    }\n",
       "\n",
       "    .dataframe tbody tr th {\n",
       "        vertical-align: top;\n",
       "    }\n",
       "\n",
       "    .dataframe thead th {\n",
       "        text-align: right;\n",
       "    }\n",
       "</style>\n",
       "<table border=\"1\" class=\"dataframe\">\n",
       "  <thead>\n",
       "    <tr style=\"text-align: right;\">\n",
       "      <th></th>\n",
       "      <th>site_code</th>\n",
       "      <th>latitude</th>\n",
       "      <th>longitude</th>\n",
       "      <th>well_depth</th>\n",
       "      <th>well_use</th>\n",
       "      <th>geology</th>\n",
       "      <th>Region_Off</th>\n",
       "      <th>Basin_Subb</th>\n",
       "      <th>observations_2010</th>\n",
       "      <th>observations_2011</th>\n",
       "      <th>...</th>\n",
       "      <th>observations_2015</th>\n",
       "      <th>observations_2016</th>\n",
       "      <th>observations_2017</th>\n",
       "      <th>observations_2018</th>\n",
       "      <th>observations_2019</th>\n",
       "      <th>observations_2020</th>\n",
       "      <th>observations_2021</th>\n",
       "      <th>observations_2022</th>\n",
       "      <th>observations_2023</th>\n",
       "      <th>observations_2024</th>\n",
       "    </tr>\n",
       "  </thead>\n",
       "  <tbody>\n",
       "    <tr>\n",
       "      <th>2039</th>\n",
       "      <td>366909N1221638W001</td>\n",
       "      <td>39.69090</td>\n",
       "      <td>-122.16384</td>\n",
       "      <td>320.0</td>\n",
       "      <td>Irrigation</td>\n",
       "      <td>['Q']</td>\n",
       "      <td>NRO</td>\n",
       "      <td>5-021.52</td>\n",
       "      <td>0</td>\n",
       "      <td>0</td>\n",
       "      <td>...</td>\n",
       "      <td>4</td>\n",
       "      <td>3</td>\n",
       "      <td>3</td>\n",
       "      <td>3</td>\n",
       "      <td>3</td>\n",
       "      <td>3</td>\n",
       "      <td>3</td>\n",
       "      <td>3</td>\n",
       "      <td>3</td>\n",
       "      <td>5</td>\n",
       "    </tr>\n",
       "    <tr>\n",
       "      <th>3433</th>\n",
       "      <td>380926N1215871W001</td>\n",
       "      <td>38.11300</td>\n",
       "      <td>-121.58719</td>\n",
       "      <td>23.0</td>\n",
       "      <td>Observation</td>\n",
       "      <td>['Q']</td>\n",
       "      <td>NCRO</td>\n",
       "      <td>5-021.66</td>\n",
       "      <td>0</td>\n",
       "      <td>0</td>\n",
       "      <td>...</td>\n",
       "      <td>0</td>\n",
       "      <td>0</td>\n",
       "      <td>0</td>\n",
       "      <td>0</td>\n",
       "      <td>0</td>\n",
       "      <td>0</td>\n",
       "      <td>0</td>\n",
       "      <td>0</td>\n",
       "      <td>0</td>\n",
       "      <td>0</td>\n",
       "    </tr>\n",
       "    <tr>\n",
       "      <th>3434</th>\n",
       "      <td>380926N1215871W002</td>\n",
       "      <td>38.11300</td>\n",
       "      <td>-121.58719</td>\n",
       "      <td>102.0</td>\n",
       "      <td>Observation</td>\n",
       "      <td>['Q']</td>\n",
       "      <td>NCRO</td>\n",
       "      <td>5-021.66</td>\n",
       "      <td>0</td>\n",
       "      <td>0</td>\n",
       "      <td>...</td>\n",
       "      <td>0</td>\n",
       "      <td>0</td>\n",
       "      <td>0</td>\n",
       "      <td>0</td>\n",
       "      <td>0</td>\n",
       "      <td>0</td>\n",
       "      <td>0</td>\n",
       "      <td>0</td>\n",
       "      <td>0</td>\n",
       "      <td>0</td>\n",
       "    </tr>\n",
       "    <tr>\n",
       "      <th>3458</th>\n",
       "      <td>381132N1216951W001</td>\n",
       "      <td>38.11322</td>\n",
       "      <td>-121.69513</td>\n",
       "      <td>416.0</td>\n",
       "      <td>Other</td>\n",
       "      <td>['Q']</td>\n",
       "      <td>NCRO</td>\n",
       "      <td>5-021.66</td>\n",
       "      <td>0</td>\n",
       "      <td>0</td>\n",
       "      <td>...</td>\n",
       "      <td>2</td>\n",
       "      <td>2</td>\n",
       "      <td>2</td>\n",
       "      <td>2</td>\n",
       "      <td>2</td>\n",
       "      <td>1</td>\n",
       "      <td>2</td>\n",
       "      <td>0</td>\n",
       "      <td>2</td>\n",
       "      <td>2</td>\n",
       "    </tr>\n",
       "    <tr>\n",
       "      <th>3462</th>\n",
       "      <td>381150N1215899W001</td>\n",
       "      <td>38.81150</td>\n",
       "      <td>-121.58993</td>\n",
       "      <td>340.0</td>\n",
       "      <td>Irrigation</td>\n",
       "      <td>['Q']</td>\n",
       "      <td>NCRO</td>\n",
       "      <td>5-021.64</td>\n",
       "      <td>0</td>\n",
       "      <td>0</td>\n",
       "      <td>...</td>\n",
       "      <td>23</td>\n",
       "      <td>3</td>\n",
       "      <td>0</td>\n",
       "      <td>0</td>\n",
       "      <td>0</td>\n",
       "      <td>0</td>\n",
       "      <td>0</td>\n",
       "      <td>0</td>\n",
       "      <td>0</td>\n",
       "      <td>0</td>\n",
       "    </tr>\n",
       "    <tr>\n",
       "      <th>...</th>\n",
       "      <td>...</td>\n",
       "      <td>...</td>\n",
       "      <td>...</td>\n",
       "      <td>...</td>\n",
       "      <td>...</td>\n",
       "      <td>...</td>\n",
       "      <td>...</td>\n",
       "      <td>...</td>\n",
       "      <td>...</td>\n",
       "      <td>...</td>\n",
       "      <td>...</td>\n",
       "      <td>...</td>\n",
       "      <td>...</td>\n",
       "      <td>...</td>\n",
       "      <td>...</td>\n",
       "      <td>...</td>\n",
       "      <td>...</td>\n",
       "      <td>...</td>\n",
       "      <td>...</td>\n",
       "      <td>...</td>\n",
       "      <td>...</td>\n",
       "    </tr>\n",
       "    <tr>\n",
       "      <th>5862</th>\n",
       "      <td>402341N1222533W002</td>\n",
       "      <td>40.23410</td>\n",
       "      <td>-122.25329</td>\n",
       "      <td>140.0</td>\n",
       "      <td>Industrial</td>\n",
       "      <td>['QPc']</td>\n",
       "      <td>NRO</td>\n",
       "      <td>5-021.50</td>\n",
       "      <td>0</td>\n",
       "      <td>0</td>\n",
       "      <td>...</td>\n",
       "      <td>0</td>\n",
       "      <td>0</td>\n",
       "      <td>0</td>\n",
       "      <td>0</td>\n",
       "      <td>0</td>\n",
       "      <td>0</td>\n",
       "      <td>4</td>\n",
       "      <td>9</td>\n",
       "      <td>10</td>\n",
       "      <td>4</td>\n",
       "    </tr>\n",
       "    <tr>\n",
       "      <th>5865</th>\n",
       "      <td>402522N1222082W001</td>\n",
       "      <td>40.25221</td>\n",
       "      <td>-122.20818</td>\n",
       "      <td>200.0</td>\n",
       "      <td>Residential</td>\n",
       "      <td>['Tvp']</td>\n",
       "      <td>NRO</td>\n",
       "      <td>5-021.53</td>\n",
       "      <td>0</td>\n",
       "      <td>0</td>\n",
       "      <td>...</td>\n",
       "      <td>0</td>\n",
       "      <td>5</td>\n",
       "      <td>3</td>\n",
       "      <td>2</td>\n",
       "      <td>3</td>\n",
       "      <td>2</td>\n",
       "      <td>2</td>\n",
       "      <td>3</td>\n",
       "      <td>3</td>\n",
       "      <td>1</td>\n",
       "    </tr>\n",
       "    <tr>\n",
       "      <th>5866</th>\n",
       "      <td>402653N1222348W002</td>\n",
       "      <td>40.26517</td>\n",
       "      <td>-122.25339</td>\n",
       "      <td>320.0</td>\n",
       "      <td>Residential</td>\n",
       "      <td>['QPc']</td>\n",
       "      <td>NRO</td>\n",
       "      <td>5-021.50</td>\n",
       "      <td>0</td>\n",
       "      <td>0</td>\n",
       "      <td>...</td>\n",
       "      <td>0</td>\n",
       "      <td>0</td>\n",
       "      <td>0</td>\n",
       "      <td>0</td>\n",
       "      <td>0</td>\n",
       "      <td>0</td>\n",
       "      <td>3</td>\n",
       "      <td>0</td>\n",
       "      <td>0</td>\n",
       "      <td>0</td>\n",
       "    </tr>\n",
       "    <tr>\n",
       "      <th>5964</th>\n",
       "      <td>410921N1210855W001</td>\n",
       "      <td>40.09211</td>\n",
       "      <td>-122.08555</td>\n",
       "      <td>680.0</td>\n",
       "      <td>Observation</td>\n",
       "      <td>['QPc']</td>\n",
       "      <td>NRO</td>\n",
       "      <td>5-021.56</td>\n",
       "      <td>0</td>\n",
       "      <td>0</td>\n",
       "      <td>...</td>\n",
       "      <td>0</td>\n",
       "      <td>0</td>\n",
       "      <td>0</td>\n",
       "      <td>0</td>\n",
       "      <td>0</td>\n",
       "      <td>0</td>\n",
       "      <td>176</td>\n",
       "      <td>244</td>\n",
       "      <td>340</td>\n",
       "      <td>371</td>\n",
       "    </tr>\n",
       "    <tr>\n",
       "      <th>6037</th>\n",
       "      <td>417895N1210549W002</td>\n",
       "      <td>39.78953</td>\n",
       "      <td>-122.05494</td>\n",
       "      <td>250.0</td>\n",
       "      <td>Irrigation</td>\n",
       "      <td>['Q']</td>\n",
       "      <td>NRO</td>\n",
       "      <td>5-021.51</td>\n",
       "      <td>0</td>\n",
       "      <td>0</td>\n",
       "      <td>...</td>\n",
       "      <td>0</td>\n",
       "      <td>0</td>\n",
       "      <td>0</td>\n",
       "      <td>0</td>\n",
       "      <td>3</td>\n",
       "      <td>3</td>\n",
       "      <td>2</td>\n",
       "      <td>3</td>\n",
       "      <td>2</td>\n",
       "      <td>5</td>\n",
       "    </tr>\n",
       "  </tbody>\n",
       "</table>\n",
       "<p>2102 rows × 23 columns</p>\n",
       "</div>"
      ],
      "text/plain": [
       "               site_code  latitude  longitude  well_depth     well_use  \\\n",
       "2039  366909N1221638W001  39.69090 -122.16384       320.0   Irrigation   \n",
       "3433  380926N1215871W001  38.11300 -121.58719        23.0  Observation   \n",
       "3434  380926N1215871W002  38.11300 -121.58719       102.0  Observation   \n",
       "3458  381132N1216951W001  38.11322 -121.69513       416.0        Other   \n",
       "3462  381150N1215899W001  38.81150 -121.58993       340.0   Irrigation   \n",
       "...                  ...       ...        ...         ...          ...   \n",
       "5862  402341N1222533W002  40.23410 -122.25329       140.0   Industrial   \n",
       "5865  402522N1222082W001  40.25221 -122.20818       200.0  Residential   \n",
       "5866  402653N1222348W002  40.26517 -122.25339       320.0  Residential   \n",
       "5964  410921N1210855W001  40.09211 -122.08555       680.0  Observation   \n",
       "6037  417895N1210549W002  39.78953 -122.05494       250.0   Irrigation   \n",
       "\n",
       "      geology Region_Off Basin_Subb  observations_2010  observations_2011  \\\n",
       "2039    ['Q']        NRO   5-021.52                  0                  0   \n",
       "3433    ['Q']       NCRO   5-021.66                  0                  0   \n",
       "3434    ['Q']       NCRO   5-021.66                  0                  0   \n",
       "3458    ['Q']       NCRO   5-021.66                  0                  0   \n",
       "3462    ['Q']       NCRO   5-021.64                  0                  0   \n",
       "...       ...        ...        ...                ...                ...   \n",
       "5862  ['QPc']        NRO   5-021.50                  0                  0   \n",
       "5865  ['Tvp']        NRO   5-021.53                  0                  0   \n",
       "5866  ['QPc']        NRO   5-021.50                  0                  0   \n",
       "5964  ['QPc']        NRO   5-021.56                  0                  0   \n",
       "6037    ['Q']        NRO   5-021.51                  0                  0   \n",
       "\n",
       "      ...  observations_2015  observations_2016  observations_2017  \\\n",
       "2039  ...                  4                  3                  3   \n",
       "3433  ...                  0                  0                  0   \n",
       "3434  ...                  0                  0                  0   \n",
       "3458  ...                  2                  2                  2   \n",
       "3462  ...                 23                  3                  0   \n",
       "...   ...                ...                ...                ...   \n",
       "5862  ...                  0                  0                  0   \n",
       "5865  ...                  0                  5                  3   \n",
       "5866  ...                  0                  0                  0   \n",
       "5964  ...                  0                  0                  0   \n",
       "6037  ...                  0                  0                  0   \n",
       "\n",
       "      observations_2018  observations_2019  observations_2020  \\\n",
       "2039                  3                  3                  3   \n",
       "3433                  0                  0                  0   \n",
       "3434                  0                  0                  0   \n",
       "3458                  2                  2                  1   \n",
       "3462                  0                  0                  0   \n",
       "...                 ...                ...                ...   \n",
       "5862                  0                  0                  0   \n",
       "5865                  2                  3                  2   \n",
       "5866                  0                  0                  0   \n",
       "5964                  0                  0                  0   \n",
       "6037                  0                  3                  3   \n",
       "\n",
       "      observations_2021  observations_2022  observations_2023  \\\n",
       "2039                  3                  3                  3   \n",
       "3433                  0                  0                  0   \n",
       "3434                  0                  0                  0   \n",
       "3458                  2                  0                  2   \n",
       "3462                  0                  0                  0   \n",
       "...                 ...                ...                ...   \n",
       "5862                  4                  9                 10   \n",
       "5865                  2                  3                  3   \n",
       "5866                  3                  0                  0   \n",
       "5964                176                244                340   \n",
       "6037                  2                  3                  2   \n",
       "\n",
       "      observations_2024  \n",
       "2039                  5  \n",
       "3433                  0  \n",
       "3434                  0  \n",
       "3458                  2  \n",
       "3462                  0  \n",
       "...                 ...  \n",
       "5862                  4  \n",
       "5865                  1  \n",
       "5866                  0  \n",
       "5964                371  \n",
       "6037                  5  \n",
       "\n",
       "[2102 rows x 23 columns]"
      ]
     },
     "execution_count": 5,
     "metadata": {},
     "output_type": "execute_result"
    }
   ],
   "source": [
    "central_5021"
   ]
  },
  {
   "cell_type": "code",
   "execution_count": 2,
   "id": "31a8a2ce-7895-4e47-a863-b49e63d9d28b",
   "metadata": {
    "execution": {
     "iopub.execute_input": "2025-04-07T19:15:41.836474Z",
     "iopub.status.busy": "2025-04-07T19:15:41.836237Z",
     "iopub.status.idle": "2025-04-07T19:15:46.087433Z",
     "shell.execute_reply": "2025-04-07T19:15:46.087009Z",
     "shell.execute_reply.started": "2025-04-07T19:15:41.836458Z"
    }
   },
   "outputs": [
    {
     "name": "stdout",
     "output_type": "stream",
     "text": [
      "Year folders found: ['ECOSTRESS/2018/', 'ECOSTRESS/2019/', 'ECOSTRESS/2020/', 'ECOSTRESS/2021/', 'ECOSTRESS/2022/']\n"
     ]
    }
   ],
   "source": [
    "s3_bucket = 'ds-h-ca-bigdata'\n",
    "s3_prefix = 'ECOSTRESS/'\n",
    "\n",
    "session = boto3.Session(profile_name='default')\n",
    "s3 = session.client('s3', region_name='us-east-2')\n",
    "\n",
    "response = s3.list_objects_v2(Bucket=s3_bucket, Prefix=s3_prefix, Delimiter='/')\n",
    "year_folders = [prefix['Prefix'] for prefix in response.get('CommonPrefixes', [])]\n",
    "print(\"Year folders found:\", year_folders)"
   ]
  },
  {
   "cell_type": "code",
   "execution_count": 3,
   "id": "ca4c3f27-9063-44a7-bd2b-ed5b2170985f",
   "metadata": {
    "execution": {
     "iopub.execute_input": "2025-04-07T19:15:46.100617Z",
     "iopub.status.busy": "2025-04-07T19:15:46.100489Z",
     "iopub.status.idle": "2025-04-07T19:25:26.095699Z",
     "shell.execute_reply": "2025-04-07T19:25:26.095171Z",
     "shell.execute_reply.started": "2025-04-07T19:15:46.100605Z"
    }
   },
   "outputs": [
    {
     "name": "stderr",
     "output_type": "stream",
     "text": [
      "                                                                                      \r"
     ]
    }
   ],
   "source": [
    "yearly_dfs = {}\n",
    "\n",
    "for folder in year_folders:\n",
    "    tif_response = s3.list_objects_v2(Bucket=s3_bucket, Prefix=folder, Delimiter='/')\n",
    "    tif_files = [obj['Key'] for obj in tif_response.get('Contents', []) if obj['Key'].endswith('.tif')]\n",
    "    df_list = []\n",
    "    for tif_file in tqdm(tif_files, desc=f\"Processing files in {folder}\", leave=False):\n",
    "        s3_path = f'/vsis3/{s3_bucket}/{tif_file}'\n",
    "        with rasterio.open(s3_path) as src:\n",
    "            data = src.read(1)\n",
    "            transform = src.transform\n",
    "        \n",
    "        rows, cols = data.shape\n",
    "        row_inds, col_inds = np.indices((rows, cols))\n",
    "        xs, ys = rasterio.transform.xy(transform, row_inds, col_inds)\n",
    "        xs = np.array(xs)\n",
    "        ys = np.array(ys)\n",
    "        \n",
    "        df = pd.DataFrame({\n",
    "            'x': xs.flatten(),\n",
    "            'y': ys.flatten(),\n",
    "            'value': data.flatten()\n",
    "        })\n",
    "        df_list.append(df)\n",
    "    \n",
    "    if df_list:\n",
    "        combined_df = pd.concat(df_list, ignore_index=True)\n",
    "        parts = folder.split('/')\n",
    "        if len(parts) >= 2:\n",
    "            year = parts[1]\n",
    "        else:\n",
    "            year = folder\n",
    "        yearly_dfs[year] = combined_df"
   ]
  },
  {
   "cell_type": "code",
   "execution_count": 13,
   "id": "7677f6e4-015e-4e61-bea1-adfde1641a55",
   "metadata": {},
   "outputs": [],
   "source": [
    "obs_cols = [col for col in central_5021 if col.split(\"_\")[0] == \"observations\"]\n",
    "obs_cols = [col for col in obs_cols if int(col.split(\"_\")[1]) >= 2018]"
   ]
  },
  {
   "cell_type": "code",
   "execution_count": 14,
   "id": "a7833c4e-6276-4674-9baf-7e9acfca4f66",
   "metadata": {},
   "outputs": [],
   "source": [
    "central_5021 = central_5021[central_5021[obs_cols].ge(25).all(axis=1)]"
   ]
  },
  {
   "cell_type": "code",
   "execution_count": 24,
   "id": "a73a9fac-0ee5-4a0d-b798-49020dc86ff3",
   "metadata": {},
   "outputs": [],
   "source": [
    "def parallel_fetch(args):\n",
    "    \"\"\"\n",
    "    Helper that receives a tuple (index, row).  \n",
    "    For each year from 2018 to 2024, it calls `get_cdl_value`.\n",
    "    Returns (index, {year: <the CDL dictionary or None>}).\n",
    "    \"\"\"\n",
    "    idx, row = args\n",
    "    lon = row['longitude']\n",
    "    lat = row['latitude']\n",
    "    \n",
    "    results = {}\n",
    "    for year in range(2018, 2025):\n",
    "        cdl_dict = get_cdl_value(year, lon, lat)\n",
    "        results[year] = cdl_dict\n",
    "    return idx, results\n",
    "\n",
    "rc = ipp.Client()\n",
    "lview = rc.load_balanced_view()\n",
    "rc[:].push({\"get_cdl_value\":get_cdl_value})\n",
    "rc[:].execute(\"\"\"\n",
    "import requests\n",
    "from pyproj import Transformer\n",
    "import xml.etree.ElementTree as ET\n",
    "import json\n",
    "\"\"\")\n",
    "rows_to_process = [(idx, row) for idx, row in central_5021.iterrows()]\n",
    "async_result = lview.map_async(parallel_fetch, rows_to_process)\n",
    "results_list = async_result.get()\n",
    "\n",
    "for idx, year_dict in results_list:\n",
    "    for year, cdl in year_dict.items():\n",
    "        col_name = f\"CDL_{year}\"\n",
    "        if cdl is not None:\n",
    "            central_5021.loc[idx, col_name] = str(cdl.get(\"category\"))\n",
    "        else:\n",
    "            central_5021.loc[idx, col_name] = None"
   ]
  },
  {
   "cell_type": "code",
   "execution_count": 25,
   "id": "f89dd051-59c1-45e3-bfda-640b4a11f192",
   "metadata": {},
   "outputs": [
    {
     "data": {
      "text/html": [
       "<div>\n",
       "<style scoped>\n",
       "    .dataframe tbody tr th:only-of-type {\n",
       "        vertical-align: middle;\n",
       "    }\n",
       "\n",
       "    .dataframe tbody tr th {\n",
       "        vertical-align: top;\n",
       "    }\n",
       "\n",
       "    .dataframe thead th {\n",
       "        text-align: right;\n",
       "    }\n",
       "</style>\n",
       "<table border=\"1\" class=\"dataframe\">\n",
       "  <thead>\n",
       "    <tr style=\"text-align: right;\">\n",
       "      <th></th>\n",
       "      <th>site_code</th>\n",
       "      <th>latitude</th>\n",
       "      <th>longitude</th>\n",
       "      <th>well_depth</th>\n",
       "      <th>well_use</th>\n",
       "      <th>geology</th>\n",
       "      <th>Region_Off</th>\n",
       "      <th>Basin_Subb</th>\n",
       "      <th>observations_2010</th>\n",
       "      <th>observations_2011</th>\n",
       "      <th>...</th>\n",
       "      <th>observations_2022</th>\n",
       "      <th>observations_2023</th>\n",
       "      <th>observations_2024</th>\n",
       "      <th>CDL_2018</th>\n",
       "      <th>CDL_2019</th>\n",
       "      <th>CDL_2020</th>\n",
       "      <th>CDL_2021</th>\n",
       "      <th>CDL_2022</th>\n",
       "      <th>CDL_2023</th>\n",
       "      <th>CDL_2024</th>\n",
       "    </tr>\n",
       "  </thead>\n",
       "  <tbody>\n",
       "    <tr>\n",
       "      <th>3750</th>\n",
       "      <td>384159N1217303W001</td>\n",
       "      <td>38.41590</td>\n",
       "      <td>-121.73030</td>\n",
       "      <td>43.0</td>\n",
       "      <td>Observation</td>\n",
       "      <td>['Q']</td>\n",
       "      <td>NCRO</td>\n",
       "      <td>5-021.66</td>\n",
       "      <td>391</td>\n",
       "      <td>384</td>\n",
       "      <td>...</td>\n",
       "      <td>384</td>\n",
       "      <td>378</td>\n",
       "      <td>257</td>\n",
       "      <td>Developed/Open Space</td>\n",
       "      <td>Broccoli</td>\n",
       "      <td>Almonds</td>\n",
       "      <td>Almonds</td>\n",
       "      <td>Almonds</td>\n",
       "      <td>Prunes</td>\n",
       "      <td>Grapes</td>\n",
       "    </tr>\n",
       "    <tr>\n",
       "      <th>3751</th>\n",
       "      <td>384159N1217303W002</td>\n",
       "      <td>38.41585</td>\n",
       "      <td>-121.73034</td>\n",
       "      <td>243.0</td>\n",
       "      <td>Observation</td>\n",
       "      <td>['Q']</td>\n",
       "      <td>NCRO</td>\n",
       "      <td>5-021.66</td>\n",
       "      <td>306</td>\n",
       "      <td>358</td>\n",
       "      <td>...</td>\n",
       "      <td>384</td>\n",
       "      <td>269</td>\n",
       "      <td>197</td>\n",
       "      <td>Developed/Open Space</td>\n",
       "      <td>Broccoli</td>\n",
       "      <td>Almonds</td>\n",
       "      <td>Almonds</td>\n",
       "      <td>Almonds</td>\n",
       "      <td>Prunes</td>\n",
       "      <td>Grapes</td>\n",
       "    </tr>\n",
       "    <tr>\n",
       "      <th>3752</th>\n",
       "      <td>384159N1217303W003</td>\n",
       "      <td>38.41590</td>\n",
       "      <td>-121.73030</td>\n",
       "      <td>445.0</td>\n",
       "      <td>Observation</td>\n",
       "      <td>['Q']</td>\n",
       "      <td>NCRO</td>\n",
       "      <td>5-021.66</td>\n",
       "      <td>364</td>\n",
       "      <td>384</td>\n",
       "      <td>...</td>\n",
       "      <td>384</td>\n",
       "      <td>378</td>\n",
       "      <td>197</td>\n",
       "      <td>Developed/Open Space</td>\n",
       "      <td>Broccoli</td>\n",
       "      <td>Almonds</td>\n",
       "      <td>Almonds</td>\n",
       "      <td>Almonds</td>\n",
       "      <td>Prunes</td>\n",
       "      <td>Grapes</td>\n",
       "    </tr>\n",
       "    <tr>\n",
       "      <th>4119</th>\n",
       "      <td>386464N1216675W002</td>\n",
       "      <td>38.64640</td>\n",
       "      <td>-121.66750</td>\n",
       "      <td>150.0</td>\n",
       "      <td>Observation</td>\n",
       "      <td>['Q']</td>\n",
       "      <td>NCRO</td>\n",
       "      <td>5-021.67</td>\n",
       "      <td>374</td>\n",
       "      <td>377</td>\n",
       "      <td>...</td>\n",
       "      <td>302</td>\n",
       "      <td>280</td>\n",
       "      <td>341</td>\n",
       "      <td>Walnuts</td>\n",
       "      <td>Fallow/Idle Cropland</td>\n",
       "      <td>Sunflowers</td>\n",
       "      <td>Winter Wheat</td>\n",
       "      <td>Safflower</td>\n",
       "      <td>Winter Wheat</td>\n",
       "      <td>Developed/Low Intensity</td>\n",
       "    </tr>\n",
       "    <tr>\n",
       "      <th>4120</th>\n",
       "      <td>386464N1216675W003</td>\n",
       "      <td>38.64640</td>\n",
       "      <td>-121.66750</td>\n",
       "      <td>280.0</td>\n",
       "      <td>Observation</td>\n",
       "      <td>['Q']</td>\n",
       "      <td>NCRO</td>\n",
       "      <td>5-021.67</td>\n",
       "      <td>374</td>\n",
       "      <td>377</td>\n",
       "      <td>...</td>\n",
       "      <td>163</td>\n",
       "      <td>262</td>\n",
       "      <td>341</td>\n",
       "      <td>Walnuts</td>\n",
       "      <td>Fallow/Idle Cropland</td>\n",
       "      <td>Sunflowers</td>\n",
       "      <td>Winter Wheat</td>\n",
       "      <td>Safflower</td>\n",
       "      <td>Winter Wheat</td>\n",
       "      <td>Developed/Low Intensity</td>\n",
       "    </tr>\n",
       "  </tbody>\n",
       "</table>\n",
       "<p>5 rows × 30 columns</p>\n",
       "</div>"
      ],
      "text/plain": [
       "               site_code  latitude  longitude  well_depth     well_use  \\\n",
       "3750  384159N1217303W001  38.41590 -121.73030        43.0  Observation   \n",
       "3751  384159N1217303W002  38.41585 -121.73034       243.0  Observation   \n",
       "3752  384159N1217303W003  38.41590 -121.73030       445.0  Observation   \n",
       "4119  386464N1216675W002  38.64640 -121.66750       150.0  Observation   \n",
       "4120  386464N1216675W003  38.64640 -121.66750       280.0  Observation   \n",
       "\n",
       "     geology Region_Off Basin_Subb  observations_2010  observations_2011  ...  \\\n",
       "3750   ['Q']       NCRO   5-021.66                391                384  ...   \n",
       "3751   ['Q']       NCRO   5-021.66                306                358  ...   \n",
       "3752   ['Q']       NCRO   5-021.66                364                384  ...   \n",
       "4119   ['Q']       NCRO   5-021.67                374                377  ...   \n",
       "4120   ['Q']       NCRO   5-021.67                374                377  ...   \n",
       "\n",
       "      observations_2022  observations_2023  observations_2024  \\\n",
       "3750                384                378                257   \n",
       "3751                384                269                197   \n",
       "3752                384                378                197   \n",
       "4119                302                280                341   \n",
       "4120                163                262                341   \n",
       "\n",
       "                  CDL_2018              CDL_2019    CDL_2020      CDL_2021  \\\n",
       "3750  Developed/Open Space              Broccoli     Almonds       Almonds   \n",
       "3751  Developed/Open Space              Broccoli     Almonds       Almonds   \n",
       "3752  Developed/Open Space              Broccoli     Almonds       Almonds   \n",
       "4119               Walnuts  Fallow/Idle Cropland  Sunflowers  Winter Wheat   \n",
       "4120               Walnuts  Fallow/Idle Cropland  Sunflowers  Winter Wheat   \n",
       "\n",
       "       CDL_2022      CDL_2023                 CDL_2024  \n",
       "3750    Almonds        Prunes                   Grapes  \n",
       "3751    Almonds        Prunes                   Grapes  \n",
       "3752    Almonds        Prunes                   Grapes  \n",
       "4119  Safflower  Winter Wheat  Developed/Low Intensity  \n",
       "4120  Safflower  Winter Wheat  Developed/Low Intensity  \n",
       "\n",
       "[5 rows x 30 columns]"
      ]
     },
     "execution_count": 25,
     "metadata": {},
     "output_type": "execute_result"
    }
   ],
   "source": [
    "central_5021.head()"
   ]
  },
  {
   "cell_type": "code",
   "execution_count": 26,
   "id": "f2928cf0-3033-4b20-a1df-500b745d5115",
   "metadata": {},
   "outputs": [],
   "source": [
    "def fetch_all_records(site_code, year):\n",
    "    all_records = []\n",
    "    offset = 0\n",
    "    limit = 1000\n",
    "    while True:\n",
    "        url = f\"https://data.cnra.ca.gov/api/3/action/datastore_search?resource_id=bfa9f262-24a1-45bd-8dc8-138bc8107266&q={site_code} {year}&limit={limit}&offset={offset}\"\n",
    "        response = requests.get(url)\n",
    "        if response.status_code == 200:\n",
    "            data = response.json()\n",
    "            records = data['result']['records']\n",
    "            all_records.extend(records)\n",
    "            if len(records) < limit:\n",
    "                break\n",
    "            offset += limit\n",
    "        else:\n",
    "            print(f\"Failed to fetch data for {site_code} in {year}\")\n",
    "            break\n",
    "    return all_records\n",
    "\n",
    "def get_readings_for_site(site_code, years):\n",
    "    all_readings = []\n",
    "    for year in years:\n",
    "        records = fetch_all_records(site_code, year)\n",
    "        for record in records:\n",
    "            reading = {\n",
    "                'site_code': record.get('site_code'),\n",
    "                'msmt_date': record.get('msmt_date'),\n",
    "                'wlm_rpe': record.get('wlm_rpe'),\n",
    "                'wlm_gse': record.get('wlm_gse'),\n",
    "                'gwe': record.get('gwe')\n",
    "            }\n",
    "            all_readings.append(reading)\n",
    "    return pd.DataFrame(all_readings)\n",
    "\n",
    "def interpolate_gwe(site_code, years, readings_df):\n",
    "    site_data = readings_df\n",
    "    site_data.rename(columns={\"msmt_date\": \"ds\", \"gwe\": \"y\"}, inplace=True)\n",
    "    site_data['ds'] = pd.to_datetime(site_data['ds'])\n",
    "\n",
    "    full_date_range = pd.date_range(start=f\"{min(years)}-01-01\", end=f\"{max(years)}-12-31\", freq=\"D\")\n",
    "    full_df = pd.DataFrame({'ds': full_date_range})\n",
    "    full_df = full_df.merge(site_data, on='ds', how='left')\n",
    "\n",
    "    m = Prophet(\n",
    "        changepoint_prior_scale=0.01,\n",
    "        seasonality_prior_scale=0.01,\n",
    "        yearly_seasonality=True\n",
    "    )\n",
    "    m.fit(site_data.dropna())\n",
    "\n",
    "    forecast = m.predict(full_df)\n",
    "\n",
    "    full_df['y_interpolated'] = forecast['yhat']\n",
    "\n",
    "    result_df = full_df[['ds', 'y_interpolated']].copy()\n",
    "    result_df.rename(columns={\"ds\": \"date\", \"y_interpolated\": \"gwe_interpolated\"}, inplace=True)\n",
    "\n",
    "    return result_df\n",
    "\n",
    "def gwe_trend(site_code, start_yr, end_yr):\n",
    "    years = range(start_yr, end_yr + 1)\n",
    "    readings_df = get_readings_for_site(site_code, years)\n",
    "    predicted = interpolate_gwe(site_code, years, readings_df)\n",
    "\n",
    "    predicted['date'] = pd.to_datetime(predicted['date'])\n",
    "    predicted.set_index('date', inplace=True)\n",
    "\n",
    "    monthly_avg = predicted.resample('ME').mean()\n",
    "    \n",
    "    return monthly_avg"
   ]
  },
  {
   "cell_type": "code",
   "execution_count": 29,
   "id": "07f58924-907b-4720-bc8d-adb70f563fbd",
   "metadata": {},
   "outputs": [],
   "source": [
    "client = ipp.Client()\n",
    "dview = client[:]\n",
    "dview.push({'fetch_all_records': fetch_all_records,\n",
    "           'get_readings_for_site':get_readings_for_site,\n",
    "           'interpolate_gwe':interpolate_gwe,\n",
    "           'gwe_trend':gwe_trend})\n",
    "\n",
    "dview.execute(\"\"\"\n",
    "import pandas as pd\n",
    "import requests\n",
    "from prophet import Prophet\n",
    "import logging\n",
    "logging.getLogger(\"cmdstanpy\").setLevel(logging.ERROR)\n",
    "\"\"\")\n",
    "\n",
    "view = client.load_balanced_view()\n",
    "\n",
    "well_gwe_trends = {}\n",
    "\n",
    "def process_well(well):\n",
    "    return well, gwe_trend(well, 2018, 2025)\n",
    "\n",
    "async_results = []\n",
    "for well in central_5021.site_code.unique():\n",
    "    async_result = view.apply_async(process_well, well)\n",
    "    async_results.append(async_result)\n",
    "\n",
    "for async_result in async_results:\n",
    "    try:\n",
    "        well, result = async_result.get()\n",
    "        well_gwe_trends[well] = result\n",
    "    except Exception as e:\n",
    "        print(f\"Error processing well {well}: {e}\")"
   ]
  },
  {
   "cell_type": "code",
   "execution_count": 32,
   "id": "b657b4ff-2cb9-400f-8f86-cfbaa7a34bc1",
   "metadata": {},
   "outputs": [],
   "source": [
    "def calculate_groundwater_changes(data_dict):\n",
    "    result_dict = {}\n",
    "    for year in range(2018, 2025):\n",
    "        year_dict = {}\n",
    "\n",
    "        for site_code, df in data_dict.items():\n",
    "            try:\n",
    "                october_value = df.loc[f'{year}-10-31'].iloc[0]\n",
    "                september_value = df.loc[f'{year+1}-09-30'].iloc[0]\n",
    "                change = october_value - september_value\n",
    "                year_dict[site_code] = change\n",
    "            except KeyError:\n",
    "                print(f\"Warning: Missing data for site {site_code} in year {year} or {year+1}.\")\n",
    "                year_dict[site_code] = None\n",
    "\n",
    "        result_dict[year] = year_dict\n",
    "\n",
    "    return result_dict"
   ]
  },
  {
   "cell_type": "code",
   "execution_count": 33,
   "id": "728f9c4b-2a7d-4d25-9812-a3b83e9a6798",
   "metadata": {},
   "outputs": [],
   "source": [
    "well_changes = calculate_groundwater_changes(well_gwe_trends)"
   ]
  },
  {
   "cell_type": "code",
   "execution_count": 35,
   "id": "a498f105-8d84-4708-a989-f3515311a706",
   "metadata": {
    "scrolled": true
   },
   "outputs": [],
   "source": [
    "for year, site_map in well_changes.items():\n",
    "    col_name = f\"GWE_{year}\"\n",
    "    central_5021[col_name] = central_5021['site_code'].map(site_map)"
   ]
  },
  {
   "cell_type": "code",
   "execution_count": 37,
   "id": "42f5148b-e9aa-4b6e-b092-f01999c4d6b5",
   "metadata": {},
   "outputs": [],
   "source": [
    "cdl_cols = [col for col in central_5021.columns if col.split(\"_\")[0] == \"CDL\"]"
   ]
  },
  {
   "cell_type": "code",
   "execution_count": 39,
   "id": "bab15afc-25b3-4ab2-b897-8c8a2964ee13",
   "metadata": {},
   "outputs": [],
   "source": [
    "mask = (\n",
    "    central_5021[cdl_cols]\n",
    "    .apply(lambda row: row.astype(str).str.contains('almonds', case=False, na=False))\n",
    "    .any(axis=1)\n",
    ")"
   ]
  },
  {
   "cell_type": "code",
   "execution_count": 52,
   "id": "1d7bbd5d-c768-46d0-9c03-437a65d7244f",
   "metadata": {},
   "outputs": [
    {
     "name": "stderr",
     "output_type": "stream",
     "text": [
      "/var/folders/cm/7q16kyx93zs34t0y4j49dt000000gn/T/ipykernel_56671/1798174882.py:1: UserWarning: Boolean Series key will be reindexed to match DataFrame index.\n",
      "  central_5021 = central_5021[mask].copy()\n"
     ]
    }
   ],
   "source": [
    "central_5021 = central_5021[mask].copy()"
   ]
  },
  {
   "cell_type": "code",
   "execution_count": 46,
   "id": "71457837-eb92-4823-97c4-2e71c042e756",
   "metadata": {},
   "outputs": [],
   "source": [
    "def get_precipitation_data(latitude, longitude, start_date, end_date, parameter=\"PRECTOTCORR\"):\n",
    "    base_url = \"https://power.larc.nasa.gov/api/temporal/daily/point\"\n",
    "    \n",
    "    params = {\n",
    "        \"parameters\": parameter,\n",
    "        \"community\": \"AG\",\n",
    "        \"longitude\": longitude,\n",
    "        \"latitude\": latitude,\n",
    "        \"start\": start_date,\n",
    "        \"end\": end_date,\n",
    "        \"format\": \"JSON\"\n",
    "    }\n",
    "\n",
    "    response = requests.get(base_url, params=params)\n",
    "    response.raise_for_status()\n",
    "\n",
    "    data = response.json()\n",
    "\n",
    "    try:\n",
    "        precip_data = data[\"properties\"][\"parameter\"][parameter]\n",
    "    except KeyError as e:\n",
    "        raise ValueError(f\"Unable to retrieve parameter '{parameter}' from response: {e}\")\n",
    "\n",
    "    return precip_data\n",
    "\n",
    "def process_precipitation_data(precip_data):\n",
    "    df = pd.DataFrame.from_dict(precip_data, orient=\"index\", columns=[\"precipitation\"])\n",
    "    df.index = pd.to_datetime(df.index)\n",
    "    monthly_avg = df.resample(\"ME\").mean()\n",
    "    \n",
    "    return monthly_avg\n",
    "\n",
    "def get_monthly_precipitation_for_sites(df, start_date=2008, end_date=2024):\n",
    "    result_dict = {}\n",
    "\n",
    "    for index, row in tqdm(df.iterrows(), total=len(df), desc=\"Processing sites\"):\n",
    "        site_code = row[\"site_code\"]\n",
    "        latitude = row[\"latitude\"]\n",
    "        longitude = row[\"longitude\"]\n",
    "\n",
    "        try:\n",
    "            precip_data = get_precipitation_data(latitude, longitude, start_date, end_date)\n",
    "            monthly_avg = process_precipitation_data(precip_data)\n",
    "            result_dict[site_code] = monthly_avg\n",
    "\n",
    "        except Exception as e:\n",
    "            print(f\"Error processing site {site_code}: {e}\")\n",
    "            result_dict[site_code] = None\n",
    "\n",
    "    return result_dict"
   ]
  },
  {
   "cell_type": "code",
   "execution_count": 47,
   "id": "e5068435-abdd-4cd6-9f7a-a3e8935a0b19",
   "metadata": {},
   "outputs": [
    {
     "name": "stderr",
     "output_type": "stream",
     "text": [
      "Processing sites: 100%|█████████████████████████| 47/47 [02:32<00:00,  3.24s/it]\n"
     ]
    }
   ],
   "source": [
    "precipitation_data = get_monthly_precipitation_for_sites(central_5021)"
   ]
  },
  {
   "cell_type": "code",
   "execution_count": 48,
   "id": "137d9815-dbcf-4d8f-a11c-b391fa0fe4e6",
   "metadata": {},
   "outputs": [],
   "source": [
    "def calculate_annual_precipitation_averages(precipitation_dict):\n",
    "    result_dict = {}\n",
    "    for year in range(2018, 2025):\n",
    "        year_dict = {}\n",
    "        for site_code, monthly_avg in precipitation_dict.items():\n",
    "            if monthly_avg is not None:\n",
    "                try:\n",
    "                    start_date = f\"{year}-10-31\"\n",
    "                    end_date = f\"{year+1}-09-30\"\n",
    "                    period_data = monthly_avg.loc[start_date:end_date]\n",
    "                    average_precip = period_data[\"precipitation\"].mean()\n",
    "                    year_dict[site_code] = average_precip\n",
    "                except KeyError:\n",
    "                    print(f\"Warning: Missing data for site {site_code} in year {year}.\")\n",
    "                    year_dict[site_code] = None\n",
    "        result_dict[year] = year_dict\n",
    "    return result_dict"
   ]
  },
  {
   "cell_type": "code",
   "execution_count": 49,
   "id": "df1b737b-7c3b-4746-b764-4f79c2988757",
   "metadata": {},
   "outputs": [],
   "source": [
    "well_precipitation = calculate_annual_precipitation_averages(precipitation_data)"
   ]
  },
  {
   "cell_type": "code",
   "execution_count": 51,
   "id": "1a17a411-cb73-4b40-b032-68e5a64b6526",
   "metadata": {
    "scrolled": true
   },
   "outputs": [
    {
     "name": "stderr",
     "output_type": "stream",
     "text": [
      "/var/folders/cm/7q16kyx93zs34t0y4j49dt000000gn/T/ipykernel_56671/3762711494.py:3: SettingWithCopyWarning: \n",
      "A value is trying to be set on a copy of a slice from a DataFrame.\n",
      "Try using .loc[row_indexer,col_indexer] = value instead\n",
      "\n",
      "See the caveats in the documentation: https://pandas.pydata.org/pandas-docs/stable/user_guide/indexing.html#returning-a-view-versus-a-copy\n",
      "  central_5021[col_name] = central_5021['site_code'].map(site_precip_map)\n",
      "/var/folders/cm/7q16kyx93zs34t0y4j49dt000000gn/T/ipykernel_56671/3762711494.py:3: SettingWithCopyWarning: \n",
      "A value is trying to be set on a copy of a slice from a DataFrame.\n",
      "Try using .loc[row_indexer,col_indexer] = value instead\n",
      "\n",
      "See the caveats in the documentation: https://pandas.pydata.org/pandas-docs/stable/user_guide/indexing.html#returning-a-view-versus-a-copy\n",
      "  central_5021[col_name] = central_5021['site_code'].map(site_precip_map)\n",
      "/var/folders/cm/7q16kyx93zs34t0y4j49dt000000gn/T/ipykernel_56671/3762711494.py:3: SettingWithCopyWarning: \n",
      "A value is trying to be set on a copy of a slice from a DataFrame.\n",
      "Try using .loc[row_indexer,col_indexer] = value instead\n",
      "\n",
      "See the caveats in the documentation: https://pandas.pydata.org/pandas-docs/stable/user_guide/indexing.html#returning-a-view-versus-a-copy\n",
      "  central_5021[col_name] = central_5021['site_code'].map(site_precip_map)\n",
      "/var/folders/cm/7q16kyx93zs34t0y4j49dt000000gn/T/ipykernel_56671/3762711494.py:3: SettingWithCopyWarning: \n",
      "A value is trying to be set on a copy of a slice from a DataFrame.\n",
      "Try using .loc[row_indexer,col_indexer] = value instead\n",
      "\n",
      "See the caveats in the documentation: https://pandas.pydata.org/pandas-docs/stable/user_guide/indexing.html#returning-a-view-versus-a-copy\n",
      "  central_5021[col_name] = central_5021['site_code'].map(site_precip_map)\n",
      "/var/folders/cm/7q16kyx93zs34t0y4j49dt000000gn/T/ipykernel_56671/3762711494.py:3: SettingWithCopyWarning: \n",
      "A value is trying to be set on a copy of a slice from a DataFrame.\n",
      "Try using .loc[row_indexer,col_indexer] = value instead\n",
      "\n",
      "See the caveats in the documentation: https://pandas.pydata.org/pandas-docs/stable/user_guide/indexing.html#returning-a-view-versus-a-copy\n",
      "  central_5021[col_name] = central_5021['site_code'].map(site_precip_map)\n",
      "/var/folders/cm/7q16kyx93zs34t0y4j49dt000000gn/T/ipykernel_56671/3762711494.py:3: SettingWithCopyWarning: \n",
      "A value is trying to be set on a copy of a slice from a DataFrame.\n",
      "Try using .loc[row_indexer,col_indexer] = value instead\n",
      "\n",
      "See the caveats in the documentation: https://pandas.pydata.org/pandas-docs/stable/user_guide/indexing.html#returning-a-view-versus-a-copy\n",
      "  central_5021[col_name] = central_5021['site_code'].map(site_precip_map)\n",
      "/var/folders/cm/7q16kyx93zs34t0y4j49dt000000gn/T/ipykernel_56671/3762711494.py:3: SettingWithCopyWarning: \n",
      "A value is trying to be set on a copy of a slice from a DataFrame.\n",
      "Try using .loc[row_indexer,col_indexer] = value instead\n",
      "\n",
      "See the caveats in the documentation: https://pandas.pydata.org/pandas-docs/stable/user_guide/indexing.html#returning-a-view-versus-a-copy\n",
      "  central_5021[col_name] = central_5021['site_code'].map(site_precip_map)\n"
     ]
    }
   ],
   "source": [
    "for year, site_precip_map in well_precipitation.items():\n",
    "    col_name = f\"precip_{year}\"\n",
    "    central_5021[col_name] = central_5021['site_code'].map(site_precip_map)"
   ]
  },
  {
   "cell_type": "code",
   "execution_count": 47,
   "id": "4e293b67-a350-463c-b2bd-ac476fba6d60",
   "metadata": {
    "execution": {
     "iopub.execute_input": "2025-04-07T22:45:31.593637Z",
     "iopub.status.busy": "2025-04-07T22:45:31.593382Z",
     "iopub.status.idle": "2025-04-07T22:45:31.656936Z",
     "shell.execute_reply": "2025-04-07T22:45:31.656560Z",
     "shell.execute_reply.started": "2025-04-07T22:45:31.593618Z"
    },
    "scrolled": true
   },
   "outputs": [],
   "source": [
    "central_5021 = pd.read_csv(\"../data/almonds.csv\")"
   ]
  },
  {
   "cell_type": "code",
   "execution_count": null,
   "id": "b572d0cc-eb80-454d-ad64-3fda01056adc",
   "metadata": {
    "execution": {
     "iopub.execute_input": "2025-03-21T16:48:18.874080Z",
     "iopub.status.busy": "2025-03-21T16:48:18.873783Z"
    }
   },
   "outputs": [
    {
     "name": "stderr",
     "output_type": "stream",
     "text": [
      "  0%|          | 0/5 [00:00<?, ?it/s]"
     ]
    }
   ],
   "source": [
    "central_gdf = gpd.GeoDataFrame(\n",
    "    central_5021,\n",
    "    geometry=gpd.points_from_xy(central_5021.longitude, central_5021.latitude),\n",
    "    crs=\"EPSG:4326\"  # Original lat/lon CRS\n",
    ")\n",
    "# Reproject to a metric CRS (EPSG:3857 in this example)\n",
    "central_gdf = central_gdf.to_crs(\"EPSG:3857\")\n",
    "\n",
    "# --- Step 2: Create 1km buffers around each central point ---\n",
    "central_gdf['buffer'] = central_gdf.geometry.buffer(1000)  # 1000 meters = 1 km\n",
    "# Use the buffer geometry for the spatial join:\n",
    "buffers_gdf = central_gdf.copy()\n",
    "buffers_gdf = buffers_gdf.set_geometry('buffer')\n",
    "\n",
    "# --- Step 3: Process each year's dataframe ---\n",
    "for year, df in tqdm(yearly_dfs.items()):\n",
    "    # Convert the yearly dataframe to a GeoDataFrame.\n",
    "    # Here x and y are also lat and lon, so we start with EPSG:4326.\n",
    "    year_gdf = gpd.GeoDataFrame(\n",
    "        df,\n",
    "        geometry=gpd.points_from_xy(df.x, df.y),\n",
    "        crs=\"EPSG:4326\"\n",
    "    )\n",
    "    # Reproject to the same CRS as central_gdf\n",
    "    year_gdf = year_gdf.to_crs(\"EPSG:3857\")\n",
    "    \n",
    "    # Spatial join: find points in year_gdf that lie within each central buffer.\n",
    "    joined = gpd.sjoin(year_gdf, buffers_gdf[['buffer']], how='inner', predicate='within')\n",
    "    \n",
    "    # Group by the central point index (given by 'index_right' in the join) and calculate the average 'value'\n",
    "    avg_values = joined.groupby('index_right')['value'].mean()\n",
    "    \n",
    "    # Save the results in central_gdf under a column for this year\n",
    "    col_name = f'avg_value_{year}'\n",
    "    central_gdf[col_name] = avg_values"
   ]
  },
  {
   "cell_type": "code",
   "execution_count": 8,
   "id": "6c2f7b37-5514-4d9c-992f-f67bbf61d2f0",
   "metadata": {
    "execution": {
     "iopub.execute_input": "2025-04-07T19:26:29.540549Z",
     "iopub.status.busy": "2025-04-07T19:26:29.540367Z",
     "iopub.status.idle": "2025-04-07T19:26:29.543534Z",
     "shell.execute_reply": "2025-04-07T19:26:29.543175Z",
     "shell.execute_reply.started": "2025-04-07T19:26:29.540538Z"
    }
   },
   "outputs": [
    {
     "data": {
      "text/plain": [
       "-9999999827968.0"
      ]
     },
     "execution_count": 8,
     "metadata": {},
     "output_type": "execute_result"
    }
   ],
   "source": [
    "yearly_dfs.get(\"2020\").head().iloc[1].value"
   ]
  },
  {
   "cell_type": "code",
   "execution_count": 9,
   "id": "b2902c85-6a9c-4b88-8de8-557095d0b428",
   "metadata": {
    "execution": {
     "iopub.execute_input": "2025-04-07T19:27:07.036407Z",
     "iopub.status.busy": "2025-04-07T19:27:07.036162Z",
     "iopub.status.idle": "2025-04-07T19:27:07.038651Z",
     "shell.execute_reply": "2025-04-07T19:27:07.038270Z",
     "shell.execute_reply.started": "2025-04-07T19:27:07.036394Z"
    }
   },
   "outputs": [],
   "source": [
    "stress_2020 = yearly_dfs.get(\"2020\")"
   ]
  },
  {
   "cell_type": "code",
   "execution_count": 16,
   "id": "c9e7b29d-16e4-4364-bfcc-391f27114d71",
   "metadata": {
    "execution": {
     "iopub.execute_input": "2025-04-07T19:29:44.536895Z",
     "iopub.status.busy": "2025-04-07T19:29:44.536649Z",
     "iopub.status.idle": "2025-04-07T19:29:53.299942Z",
     "shell.execute_reply": "2025-04-07T19:29:53.299504Z",
     "shell.execute_reply.started": "2025-04-07T19:29:44.536881Z"
    }
   },
   "outputs": [],
   "source": [
    "filtered = stress_2020[(stress_2020.value != -9999999827968.0) & (~stress_2020.value.isna())]"
   ]
  },
  {
   "cell_type": "code",
   "execution_count": 20,
   "id": "91aaf43a-dd11-4e57-9457-4fd4b032dffb",
   "metadata": {
    "execution": {
     "iopub.execute_input": "2025-04-07T19:34:49.074207Z",
     "iopub.status.busy": "2025-04-07T19:34:49.073973Z",
     "iopub.status.idle": "2025-04-07T19:35:17.303853Z",
     "shell.execute_reply": "2025-04-07T19:35:17.303456Z",
     "shell.execute_reply.started": "2025-04-07T19:34:49.074194Z"
    }
   },
   "outputs": [
    {
     "name": "stderr",
     "output_type": "stream",
     "text": [
      "100%|██████████| 5/5 [00:28<00:00,  5.65s/it]\n"
     ]
    }
   ],
   "source": [
    "readings_df = {}\n",
    "\n",
    "for year, df in tqdm(yearly_dfs.items()):\n",
    "    readings_df[year] = df[(df.value != -9999999827968.0) & (~df.value.isna())]"
   ]
  },
  {
   "cell_type": "code",
   "execution_count": 28,
   "id": "7291f7da-5384-4d57-a73e-22983ab17883",
   "metadata": {
    "execution": {
     "iopub.execute_input": "2025-04-07T19:47:27.838563Z",
     "iopub.status.busy": "2025-04-07T19:47:27.838330Z",
     "iopub.status.idle": "2025-04-07T21:33:43.624236Z",
     "shell.execute_reply": "2025-04-07T21:33:43.623600Z",
     "shell.execute_reply.started": "2025-04-07T19:47:27.838548Z"
    }
   },
   "outputs": [
    {
     "name": "stderr",
     "output_type": "stream",
     "text": [
      "Processing 2018: 100%|██████████| 110053387/110053387 [13:13<00:00, 138757.14it/s]\n",
      "Processing 2019: 100%|██████████| 172728868/172728868 [21:09<00:00, 136105.08it/s] \n",
      "Processing 2020: 100%|██████████| 270216812/270216812 [36:52<00:00, 122121.55it/s] \n",
      "Processing 2021: 100%|██████████| 278495237/278495237 [33:30<00:00, 138532.25it/s] \n",
      "Processing 2022: 100%|██████████| 16158242/16158242 [01:27<00:00, 184789.92it/s]\n"
     ]
    }
   ],
   "source": [
    "def create_point(x, y):\n",
    "    return Point((x, y))\n",
    "\n",
    "points_dict = {}\n",
    "\n",
    "for key, df in readings_df.items():\n",
    "    points = Parallel(n_jobs=-1)(\n",
    "        delayed(create_point)(x, y)\n",
    "        for x, y in tqdm(zip(df['x'], df['y']), total=len(df), desc=f\"Processing {key}\")\n",
    "    )\n",
    "    points_dict[key] = points"
   ]
  },
  {
   "cell_type": "code",
   "execution_count": 31,
   "id": "084f1709-bf35-482e-8459-9f5c4a075672",
   "metadata": {
    "execution": {
     "iopub.execute_input": "2025-04-07T22:07:32.407592Z",
     "iopub.status.busy": "2025-04-07T22:07:32.407303Z",
     "iopub.status.idle": "2025-04-07T22:23:02.658460Z",
     "shell.execute_reply": "2025-04-07T22:23:02.657865Z",
     "shell.execute_reply.started": "2025-04-07T22:07:32.407577Z"
    }
   },
   "outputs": [
    {
     "name": "stderr",
     "output_type": "stream",
     "text": [
      "100%|██████████| 5/5 [15:30<00:00, 186.05s/it]\n"
     ]
    }
   ],
   "source": [
    "ecostress_gdf = {}\n",
    "\n",
    "for year, df in tqdm(readings_df.items()):\n",
    "    ecostress_gdf[year] = gpd.GeoDataFrame(df, geometry=points_dict.get(year), crs=\"EPSG:4326\")"
   ]
  },
  {
   "cell_type": "code",
   "execution_count": 32,
   "id": "aa8d0cf0-d485-4fb4-b044-60b15294112e",
   "metadata": {
    "execution": {
     "iopub.execute_input": "2025-04-07T22:28:40.783784Z",
     "iopub.status.busy": "2025-04-07T22:28:40.783458Z",
     "iopub.status.idle": "2025-04-07T22:28:40.864271Z",
     "shell.execute_reply": "2025-04-07T22:28:40.863863Z",
     "shell.execute_reply.started": "2025-04-07T22:28:40.783770Z"
    }
   },
   "outputs": [
    {
     "data": {
      "text/html": [
       "<div>\n",
       "<style scoped>\n",
       "    .dataframe tbody tr th:only-of-type {\n",
       "        vertical-align: middle;\n",
       "    }\n",
       "\n",
       "    .dataframe tbody tr th {\n",
       "        vertical-align: top;\n",
       "    }\n",
       "\n",
       "    .dataframe thead th {\n",
       "        text-align: right;\n",
       "    }\n",
       "</style>\n",
       "<table border=\"1\" class=\"dataframe\">\n",
       "  <thead>\n",
       "    <tr style=\"text-align: right;\">\n",
       "      <th></th>\n",
       "      <th>x</th>\n",
       "      <th>y</th>\n",
       "      <th>value</th>\n",
       "      <th>geometry</th>\n",
       "    </tr>\n",
       "  </thead>\n",
       "  <tbody>\n",
       "    <tr>\n",
       "      <th>256142</th>\n",
       "      <td>-121.402900</td>\n",
       "      <td>39.252489</td>\n",
       "      <td>117.581200</td>\n",
       "      <td>POINT (-121.4029 39.25249)</td>\n",
       "    </tr>\n",
       "    <tr>\n",
       "      <th>258813</th>\n",
       "      <td>-121.403531</td>\n",
       "      <td>39.251858</td>\n",
       "      <td>117.293106</td>\n",
       "      <td>POINT (-121.40353 39.25186)</td>\n",
       "    </tr>\n",
       "    <tr>\n",
       "      <th>258814</th>\n",
       "      <td>-121.402900</td>\n",
       "      <td>39.251858</td>\n",
       "      <td>117.293106</td>\n",
       "      <td>POINT (-121.4029 39.25186)</td>\n",
       "    </tr>\n",
       "    <tr>\n",
       "      <th>258815</th>\n",
       "      <td>-121.402269</td>\n",
       "      <td>39.251858</td>\n",
       "      <td>116.734184</td>\n",
       "      <td>POINT (-121.40227 39.25186)</td>\n",
       "    </tr>\n",
       "    <tr>\n",
       "      <th>261483</th>\n",
       "      <td>-121.404793</td>\n",
       "      <td>39.251227</td>\n",
       "      <td>116.602760</td>\n",
       "      <td>POINT (-121.40479 39.25123)</td>\n",
       "    </tr>\n",
       "    <tr>\n",
       "      <th>...</th>\n",
       "      <td>...</td>\n",
       "      <td>...</td>\n",
       "      <td>...</td>\n",
       "      <td>...</td>\n",
       "    </tr>\n",
       "    <tr>\n",
       "      <th>554421752</th>\n",
       "      <td>-122.091566</td>\n",
       "      <td>38.598296</td>\n",
       "      <td>46.363491</td>\n",
       "      <td>POINT (-122.09157 38.5983)</td>\n",
       "    </tr>\n",
       "    <tr>\n",
       "      <th>554424408</th>\n",
       "      <td>-122.102292</td>\n",
       "      <td>38.597665</td>\n",
       "      <td>53.336006</td>\n",
       "      <td>POINT (-122.10229 38.59766)</td>\n",
       "    </tr>\n",
       "    <tr>\n",
       "      <th>554424409</th>\n",
       "      <td>-122.101661</td>\n",
       "      <td>38.597665</td>\n",
       "      <td>51.686615</td>\n",
       "      <td>POINT (-122.10166 38.59766)</td>\n",
       "    </tr>\n",
       "    <tr>\n",
       "      <th>554424410</th>\n",
       "      <td>-122.101030</td>\n",
       "      <td>38.597665</td>\n",
       "      <td>52.338512</td>\n",
       "      <td>POINT (-122.10103 38.59766)</td>\n",
       "    </tr>\n",
       "    <tr>\n",
       "      <th>554427082</th>\n",
       "      <td>-122.101661</td>\n",
       "      <td>38.597034</td>\n",
       "      <td>51.686615</td>\n",
       "      <td>POINT (-122.10166 38.59703)</td>\n",
       "    </tr>\n",
       "  </tbody>\n",
       "</table>\n",
       "<p>110053387 rows × 4 columns</p>\n",
       "</div>"
      ],
      "text/plain": [
       "                    x          y       value                     geometry\n",
       "256142    -121.402900  39.252489  117.581200   POINT (-121.4029 39.25249)\n",
       "258813    -121.403531  39.251858  117.293106  POINT (-121.40353 39.25186)\n",
       "258814    -121.402900  39.251858  117.293106   POINT (-121.4029 39.25186)\n",
       "258815    -121.402269  39.251858  116.734184  POINT (-121.40227 39.25186)\n",
       "261483    -121.404793  39.251227  116.602760  POINT (-121.40479 39.25123)\n",
       "...               ...        ...         ...                          ...\n",
       "554421752 -122.091566  38.598296   46.363491   POINT (-122.09157 38.5983)\n",
       "554424408 -122.102292  38.597665   53.336006  POINT (-122.10229 38.59766)\n",
       "554424409 -122.101661  38.597665   51.686615  POINT (-122.10166 38.59766)\n",
       "554424410 -122.101030  38.597665   52.338512  POINT (-122.10103 38.59766)\n",
       "554427082 -122.101661  38.597034   51.686615  POINT (-122.10166 38.59703)\n",
       "\n",
       "[110053387 rows x 4 columns]"
      ]
     },
     "execution_count": 32,
     "metadata": {},
     "output_type": "execute_result"
    }
   ],
   "source": [
    "ecostress_gdf.get(\"2018\")"
   ]
  },
  {
   "cell_type": "code",
   "execution_count": 38,
   "id": "1ba9908d-a291-412d-9b34-829f6e18838c",
   "metadata": {
    "execution": {
     "iopub.execute_input": "2025-04-07T22:32:31.430608Z",
     "iopub.status.busy": "2025-04-07T22:32:31.430326Z",
     "iopub.status.idle": "2025-04-07T22:32:34.547890Z",
     "shell.execute_reply": "2025-04-07T22:32:34.547448Z",
     "shell.execute_reply.started": "2025-04-07T22:32:31.430592Z"
    }
   },
   "outputs": [],
   "source": [
    "SGMA = \"../data/GWBasins.shp\"\n",
    "gdf = gpd.read_file(SGMA)\n",
    "gdf.set_crs(epsg=3857, inplace=True)\n",
    "gdf.set_index('OBJECTID', inplace=True)\n",
    "gdf['Basin_Prefix'] = gdf['Basin_Numb'].str.split('-').str[0].astype(int)\n",
    "gdf = gdf[gdf['Basin_Numb'] == '5-021']"
   ]
  },
  {
   "cell_type": "code",
   "execution_count": 41,
   "id": "56f93cb5-9e08-4675-91a2-554478c2769c",
   "metadata": {
    "execution": {
     "iopub.execute_input": "2025-04-07T22:33:28.265468Z",
     "iopub.status.busy": "2025-04-07T22:33:28.265195Z",
     "iopub.status.idle": "2025-04-07T22:33:28.278070Z",
     "shell.execute_reply": "2025-04-07T22:33:28.277661Z",
     "shell.execute_reply.started": "2025-04-07T22:33:28.265453Z"
    }
   },
   "outputs": [],
   "source": [
    "gdf = gdf.to_crs(ecostress_gdf.get(\"2018\").crs)"
   ]
  },
  {
   "cell_type": "code",
   "execution_count": 51,
   "id": "06473536-bd36-4b42-a0cd-daf4736248f0",
   "metadata": {
    "execution": {
     "iopub.execute_input": "2025-04-07T22:51:20.294535Z",
     "iopub.status.busy": "2025-04-07T22:51:20.294041Z",
     "iopub.status.idle": "2025-04-07T22:51:20.301445Z",
     "shell.execute_reply": "2025-04-07T22:51:20.301046Z",
     "shell.execute_reply.started": "2025-04-07T22:51:20.294519Z"
    }
   },
   "outputs": [],
   "source": [
    "central_gdf = gpd.GeoDataFrame(\n",
    "    central_5021,\n",
    "    geometry=gpd.points_from_xy(central_5021.longitude, central_5021.latitude),\n",
    "    crs=\"EPSG:4326\"\n",
    ")\n",
    "central_gdf = central_gdf.to_crs(\"EPSG:3857\")\n",
    "\n",
    "central_gdf['buffer'] = central_gdf.geometry.buffer(1000)\n",
    "buffers_gdf = central_gdf.copy()\n",
    "buffers_gdf = buffers_gdf.set_geometry('buffer')"
   ]
  },
  {
   "cell_type": "code",
   "execution_count": 50,
   "id": "166b0ce5-20db-4130-99e3-896a19a5d111",
   "metadata": {
    "execution": {
     "iopub.execute_input": "2025-04-07T22:50:59.051524Z",
     "iopub.status.busy": "2025-04-07T22:50:59.051088Z",
     "iopub.status.idle": "2025-04-07T22:50:59.053711Z",
     "shell.execute_reply": "2025-04-07T22:50:59.053339Z",
     "shell.execute_reply.started": "2025-04-07T22:50:59.051509Z"
    },
    "scrolled": true
   },
   "outputs": [],
   "source": [
    "points_gdf = ecostress_gdf.get(\"2018\")"
   ]
  },
  {
   "cell_type": "code",
   "execution_count": 56,
   "id": "98b83e14-7e85-4543-9ab3-1890ada94b9b",
   "metadata": {
    "execution": {
     "iopub.execute_input": "2025-04-07T22:59:00.531801Z",
     "iopub.status.busy": "2025-04-07T22:59:00.531596Z",
     "iopub.status.idle": "2025-04-07T22:59:00.535269Z",
     "shell.execute_reply": "2025-04-07T22:59:00.534854Z",
     "shell.execute_reply.started": "2025-04-07T22:59:00.531789Z"
    }
   },
   "outputs": [],
   "source": [
    "buffers_gdf = buffers_gdf.to_crs(points_gdf.crs)"
   ]
  },
  {
   "cell_type": "code",
   "execution_count": null,
   "id": "12d935ca-7f1c-4af3-aaab-d484b678fc46",
   "metadata": {
    "execution": {
     "iopub.execute_input": "2025-04-07T23:07:31.324721Z",
     "iopub.status.busy": "2025-04-07T23:07:31.324450Z"
    }
   },
   "outputs": [
    {
     "name": "stderr",
     "output_type": "stream",
     "text": [
      "\n",
      "  0%|          | 0/5 [00:00<?, ?it/s]\u001b[A\n",
      " 20%|██        | 1/5 [00:01<00:05,  1.29s/it]\u001b[A"
     ]
    }
   ],
   "source": [
    "for year, points_gdf in tqdm(ecostress_gdf.items()):\n",
    "    joined = gpd.sjoin(points_gdf, buffers_gdf, how=\"inner\", predicate=\"within\")\n",
    "    mean_values = joined.groupby(\"index_right\")[\"value\"].mean()\n",
    "    col_name = f\"evapo_{year}\"\n",
    "    buffers_gdf.loc[mean_values.index, col_name] = mean_values"
   ]
  },
  {
   "cell_type": "code",
   "execution_count": 2,
   "id": "6f7e68a9-06a0-434b-b064-2f8a39d3e80b",
   "metadata": {
    "execution": {
     "iopub.execute_input": "2025-04-09T02:18:34.851171Z",
     "iopub.status.busy": "2025-04-09T02:18:34.850870Z",
     "iopub.status.idle": "2025-04-09T02:18:34.860986Z",
     "shell.execute_reply": "2025-04-09T02:18:34.860403Z",
     "shell.execute_reply.started": "2025-04-09T02:18:34.851144Z"
    }
   },
   "outputs": [],
   "source": [
    "with open('almonds_ECOSTRESS.pkl', 'rb') as file:\n",
    "    buffers_gdf = pickle.load(file)"
   ]
  },
  {
   "cell_type": "code",
   "execution_count": 3,
   "id": "fe1b6f65-5514-4f17-9920-589cb6864fbd",
   "metadata": {
    "execution": {
     "iopub.execute_input": "2025-04-09T02:18:48.435048Z",
     "iopub.status.busy": "2025-04-09T02:18:48.434750Z",
     "iopub.status.idle": "2025-04-09T02:18:48.442270Z",
     "shell.execute_reply": "2025-04-09T02:18:48.441419Z",
     "shell.execute_reply.started": "2025-04-09T02:18:48.435021Z"
    }
   },
   "outputs": [],
   "source": [
    "ecostress_2 = buffers_gdf[[\"site_code\", \"latitude\", \"well_use\", 'GWE_2018',\n",
    "       'GWE_2019', 'GWE_2020', 'GWE_2021', 'GWE_2022', 'GWE_2023', 'GWE_2024',\n",
    "       'precip_2018', 'precip_2019', 'precip_2020', 'precip_2021',\n",
    "       'precip_2022', 'precip_2023', 'precip_2024', 'geometry', 'buffer',\n",
    "       'evapo_2018', 'evapo_2019', 'evapo_2020', 'evapo_2021', 'evapo_2022']].copy()"
   ]
  },
  {
   "cell_type": "code",
   "execution_count": 4,
   "id": "70cad369-fc34-4425-add9-ffe725f7ced7",
   "metadata": {
    "execution": {
     "iopub.execute_input": "2025-04-09T02:18:49.383456Z",
     "iopub.status.busy": "2025-04-09T02:18:49.383025Z",
     "iopub.status.idle": "2025-04-09T02:18:49.408432Z",
     "shell.execute_reply": "2025-04-09T02:18:49.407723Z",
     "shell.execute_reply.started": "2025-04-09T02:18:49.383430Z"
    }
   },
   "outputs": [],
   "source": [
    "cols_gwe = ['GWE_2018', 'GWE_2019', 'GWE_2020', 'GWE_2021', 'GWE_2022', 'GWE_2023', 'GWE_2024']\n",
    "ecostress_2[cols_gwe] = (ecostress_2[cols_gwe] - ecostress_2[cols_gwe].mean()) / ecostress_2[cols_gwe].std()\n",
    "\n",
    "cols_precip = ['precip_2018', 'precip_2019', 'precip_2020', 'precip_2021', 'precip_2022', 'precip_2023', 'precip_2024']\n",
    "ecostress_2[cols_precip] = (ecostress_2[cols_precip] - ecostress_2[cols_precip].mean()) / ecostress_2[cols_precip].std()\n",
    "\n",
    "cols_evapo = ['evapo_2018', 'evapo_2019', 'evapo_2020', 'evapo_2021', 'evapo_2022']\n",
    "ecostress_2[cols_evapo] = (ecostress_2[cols_evapo] - ecostress_2[cols_evapo].mean()) / ecostress_2[cols_evapo].std()"
   ]
  },
  {
   "cell_type": "code",
   "execution_count": 5,
   "id": "05e2105b-93dd-4a9a-af3f-6f55ca8ad04d",
   "metadata": {
    "execution": {
     "iopub.execute_input": "2025-04-09T02:18:49.998900Z",
     "iopub.status.busy": "2025-04-09T02:18:49.998686Z",
     "iopub.status.idle": "2025-04-09T02:18:50.006248Z",
     "shell.execute_reply": "2025-04-09T02:18:50.005626Z",
     "shell.execute_reply.started": "2025-04-09T02:18:49.998878Z"
    }
   },
   "outputs": [],
   "source": [
    "for year in range(2018, 2023):\n",
    "    ecostress_2[f'-Irr(Z)_{year}'] = (ecostress_2[f'precip_{year}'] - ecostress_2[f'evapo_{year}']\n",
    "                                   + ecostress_2[f'GWE_{year}'])"
   ]
  },
  {
   "cell_type": "code",
   "execution_count": 6,
   "id": "2b59cf7b-16e1-481f-846e-4b417f54531d",
   "metadata": {
    "execution": {
     "iopub.execute_input": "2025-04-09T02:18:50.951665Z",
     "iopub.status.busy": "2025-04-09T02:18:50.951449Z",
     "iopub.status.idle": "2025-04-09T02:18:51.394795Z",
     "shell.execute_reply": "2025-04-09T02:18:51.394358Z",
     "shell.execute_reply.started": "2025-04-09T02:18:50.951643Z"
    }
   },
   "outputs": [
    {
     "data": {
      "image/png": "[encoded data removed]",
      "text/plain": [
       "<Figure size 640x480 with 1 Axes>"
      ]
     },
     "metadata": {},
     "output_type": "display_data"
    }
   ],
   "source": [
    "plt.scatter(x=ecostress_2[\"precip_2018\"], y=ecostress_2[\"-Irr(Z)_2018\"], label=\"2018\")\n",
    "plt.scatter(x=ecostress_2[\"precip_2019\"], y=ecostress_2[\"-Irr(Z)_2019\"], label=\"2019\")\n",
    "plt.scatter(x=ecostress_2[\"precip_2020\"], y=ecostress_2[\"-Irr(Z)_2020\"], label=\"2020\")\n",
    "plt.scatter(x=ecostress_2[\"precip_2021\"], y=ecostress_2[\"-Irr(Z)_2021\"], label=\"2021\")\n",
    "plt.scatter(x=ecostress_2[\"precip_2022\"], y=ecostress_2[\"-Irr(Z)_2022\"], label=\"2022\")\n",
    "plt.xlabel(\"Precipitation\")\n",
    "plt.ylabel(\"-Irr\")\n",
    "plt.title(\"Column-wise Z\")\n",
    "plt.legend()\n",
    "plt.show()"
   ]
  },
  {
   "cell_type": "code",
   "execution_count": 28,
   "id": "807737dd-efcb-4569-9877-bb502fa0a97a",
   "metadata": {
    "execution": {
     "iopub.execute_input": "2025-04-09T02:27:50.823093Z",
     "iopub.status.busy": "2025-04-09T02:27:50.822825Z",
     "iopub.status.idle": "2025-04-09T02:27:50.831951Z",
     "shell.execute_reply": "2025-04-09T02:27:50.831405Z",
     "shell.execute_reply.started": "2025-04-09T02:27:50.823071Z"
    }
   },
   "outputs": [],
   "source": [
    "ecostress_2 = ecostress_2.dropna()\n",
    "precip_Z = np.concatenate([\n",
    "    ecostress_2[\"precip_2018\"],\n",
    "    ecostress_2[\"precip_2019\"],\n",
    "    ecostress_2[\"precip_2020\"],\n",
    "    ecostress_2[\"precip_2021\"],\n",
    "    ecostress_2[\"precip_2022\"]\n",
    "])\n",
    "\n",
    "irr_Z = np.concatenate([\n",
    "    ecostress_2[\"-Irr(Z)_2018\"],\n",
    "    ecostress_2[\"-Irr(Z)_2019\"],\n",
    "    ecostress_2[\"-Irr(Z)_2020\"],\n",
    "    ecostress_2[\"-Irr(Z)_2021\"],\n",
    "    ecostress_2[\"-Irr(Z)_2022\"]\n",
    "])\n",
    "\n",
    "evapo_Z = np.concatenate([\n",
    "    ecostress_2[\"evapo_2018\"],\n",
    "    ecostress_2[\"evapo_2019\"],\n",
    "    ecostress_2[\"evapo_2020\"],\n",
    "    ecostress_2[\"evapo_2021\"],\n",
    "    ecostress_2[\"evapo_2022\"]\n",
    "])\n",
    "\n",
    "GWE_Z = np.concatenate([\n",
    "    ecostress_2[\"GWE_2018\"],\n",
    "    ecostress_2[\"GWE_2019\"],\n",
    "    ecostress_2[\"GWE_2020\"],\n",
    "    ecostress_2[\"GWE_2021\"],\n",
    "    ecostress_2[\"GWE_2022\"]\n",
    "])"
   ]
  },
  {
   "cell_type": "code",
   "execution_count": 20,
   "id": "1e8a2972-e758-4dd3-a60d-bcc159f54384",
   "metadata": {
    "execution": {
     "iopub.execute_input": "2025-04-09T02:23:00.479675Z",
     "iopub.status.busy": "2025-04-09T02:23:00.479378Z",
     "iopub.status.idle": "2025-04-09T02:23:00.485002Z",
     "shell.execute_reply": "2025-04-09T02:23:00.484453Z",
     "shell.execute_reply.started": "2025-04-09T02:23:00.479651Z"
    }
   },
   "outputs": [
    {
     "data": {
      "text/plain": [
       "(0.6282064141885122, 9.88344354783843e-49)"
      ]
     },
     "execution_count": 20,
     "metadata": {},
     "output_type": "execute_result"
    }
   ],
   "source": [
    "precip_irr = linregress(precip_Z, irr_Z)\n",
    "precip_irr.rvalue ** 2, precip_irr.pvalue"
   ]
  },
  {
   "cell_type": "code",
   "execution_count": 26,
   "id": "727ccd26-4447-42bd-95d3-67548fab4d6d",
   "metadata": {
    "execution": {
     "iopub.execute_input": "2025-04-09T02:26:45.288413Z",
     "iopub.status.busy": "2025-04-09T02:26:45.288174Z",
     "iopub.status.idle": "2025-04-09T02:26:45.728526Z",
     "shell.execute_reply": "2025-04-09T02:26:45.727883Z",
     "shell.execute_reply.started": "2025-04-09T02:26:45.288392Z"
    }
   },
   "outputs": [
    {
     "data": {
      "image/png": "[encoded data removed]",
      "text/plain": [
       "<Figure size 640x480 with 1 Axes>"
      ]
     },
     "metadata": {},
     "output_type": "display_data"
    }
   ],
   "source": [
    "sns.regplot(x=precip_Z, y=irr_Z)\n",
    "plt.xlabel(\"Precipitation\")\n",
    "plt.ylabel(\"- Irrigation\")\n",
    "plt.show()"
   ]
  },
  {
   "cell_type": "code",
   "execution_count": 27,
   "id": "5feeb294-2c5b-4c15-b573-ffe39554bda4",
   "metadata": {
    "execution": {
     "iopub.execute_input": "2025-04-09T02:27:07.408711Z",
     "iopub.status.busy": "2025-04-09T02:27:07.408358Z",
     "iopub.status.idle": "2025-04-09T02:27:07.413520Z",
     "shell.execute_reply": "2025-04-09T02:27:07.412932Z",
     "shell.execute_reply.started": "2025-04-09T02:27:07.408678Z"
    }
   },
   "outputs": [
    {
     "data": {
      "text/plain": [
       "(0.6538965457346736, 3.952458473351625e-52)"
      ]
     },
     "execution_count": 27,
     "metadata": {},
     "output_type": "execute_result"
    }
   ],
   "source": [
    "evapo_irr = linregress(evapo_Z, irr_Z)\n",
    "evapo_irr.rvalue ** 2, evapo_irr.pvalue"
   ]
  },
  {
   "cell_type": "code",
   "execution_count": 25,
   "id": "f4884965-2b01-4e6d-942b-469276aa1653",
   "metadata": {
    "execution": {
     "iopub.execute_input": "2025-04-09T02:25:46.000894Z",
     "iopub.status.busy": "2025-04-09T02:25:46.000686Z",
     "iopub.status.idle": "2025-04-09T02:25:46.285935Z",
     "shell.execute_reply": "2025-04-09T02:25:46.285392Z",
     "shell.execute_reply.started": "2025-04-09T02:25:46.000874Z"
    }
   },
   "outputs": [
    {
     "data": {
      "image/png": "[encoded data removed]",
      "text/plain": [
       "<Figure size 640x480 with 1 Axes>"
      ]
     },
     "metadata": {},
     "output_type": "display_data"
    }
   ],
   "source": [
    "sns.regplot(x=evapo_Z, y=irr_Z)\n",
    "plt.xlabel(\"Evapotranspiration\")\n",
    "plt.ylabel(\"- Irrigation\")\n",
    "plt.show()"
   ]
  },
  {
   "cell_type": "code",
   "execution_count": 30,
   "id": "f413b6ff-7f21-4451-80a7-db00dfe2d17e",
   "metadata": {
    "execution": {
     "iopub.execute_input": "2025-04-09T02:28:13.763296Z",
     "iopub.status.busy": "2025-04-09T02:28:13.763097Z",
     "iopub.status.idle": "2025-04-09T02:28:13.767987Z",
     "shell.execute_reply": "2025-04-09T02:28:13.767468Z",
     "shell.execute_reply.started": "2025-04-09T02:28:13.763277Z"
    }
   },
   "outputs": [
    {
     "data": {
      "text/plain": [
       "(0.2967924278629973, 2.106368381809862e-18)"
      ]
     },
     "execution_count": 30,
     "metadata": {},
     "output_type": "execute_result"
    }
   ],
   "source": [
    "GWE_irr = linregress(GWE_Z, irr_Z)\n",
    "GWE_irr.rvalue ** 2, GWE_irr.pvalue"
   ]
  },
  {
   "cell_type": "code",
   "execution_count": 32,
   "id": "62a2e433-ae2d-452a-b825-f352f1cb829e",
   "metadata": {
    "execution": {
     "iopub.execute_input": "2025-04-09T02:30:13.732336Z",
     "iopub.status.busy": "2025-04-09T02:30:13.732084Z",
     "iopub.status.idle": "2025-04-09T02:30:14.010321Z",
     "shell.execute_reply": "2025-04-09T02:30:14.009858Z",
     "shell.execute_reply.started": "2025-04-09T02:30:13.732314Z"
    }
   },
   "outputs": [
    {
     "data": {
      "image/png": "[encoded data removed]",
      "text/plain": [
       "<Figure size 640x480 with 1 Axes>"
      ]
     },
     "metadata": {},
     "output_type": "display_data"
    }
   ],
   "source": [
    "sns.regplot(x=GWE_Z, y=irr_Z)\n",
    "plt.xlabel(\"GWE Drop\")\n",
    "plt.ylabel(\"- Irrigation\")\n",
    "plt.show()"
   ]
  },
  {
   "cell_type": "code",
   "execution_count": null,
   "id": "49c9d25c-1968-4f32-9532-395f0db076be",
   "metadata": {},
   "outputs": [],
   "source": []
  }
 ],
 "metadata": {
  "kernelspec": {
   "display_name": "Python 3 (ipykernel)",
   "language": "python",
   "name": "python3"
  },
  "language_info": {
   "codemirror_mode": {
    "name": "ipython",
    "version": 3
   },
   "file_extension": ".py",
   "mimetype": "text/x-python",
   "name": "python",
   "nbconvert_exporter": "python",
   "pygments_lexer": "ipython3",
   "version": "3.11.7"
  }
 },
 "nbformat": 4,
 "nbformat_minor": 5
}
