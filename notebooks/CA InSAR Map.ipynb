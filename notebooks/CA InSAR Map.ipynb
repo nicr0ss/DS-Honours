{
 "cells": [
  {
   "cell_type": "code",
   "execution_count": 4,
   "id": "1763ac0e-9949-4c16-98f1-c560d5a5697c",
   "metadata": {},
   "outputs": [],
   "source": [
    "import scipy.io\n",
    "import pandas as pd\n",
    "\n",
    "# Load the .mat file\n",
    "mat_data = scipy.io.loadmat('../data/InSAR_vertical_wholeCV_downsample500mx500m.mat')\n",
    "\n",
    "# Print the contents of the .mat file\n",
    "DZ = mat_data['DZ'].flatten()  # Convert to 1D array\n",
    "Z = mat_data['Z'].flatten()    # Convert to 1D array\n",
    "lnx = mat_data['lnx'].flatten()  # Convert to 1D array\n",
    "lty = mat_data['lty'].flatten()  # Convert to 1D array\n",
    "\n",
    "# Create a DataFrame\n",
    "df = pd.DataFrame({\n",
    "    'Longitude': lnx,\n",
    "    'Latitude': lty,\n",
    "    'Z': Z,\n",
    "    'DZ': DZ\n",
    "})"
   ]
  },
  {
   "cell_type": "code",
   "execution_count": 5,
   "id": "b4e54666-da6d-43f6-9336-cc49001f3f93",
   "metadata": {},
   "outputs": [
    {
     "data": {
      "text/html": [
       "<div>\n",
       "<style scoped>\n",
       "    .dataframe tbody tr th:only-of-type {\n",
       "        vertical-align: middle;\n",
       "    }\n",
       "\n",
       "    .dataframe tbody tr th {\n",
       "        vertical-align: top;\n",
       "    }\n",
       "\n",
       "    .dataframe thead th {\n",
       "        text-align: right;\n",
       "    }\n",
       "</style>\n",
       "<table border=\"1\" class=\"dataframe\">\n",
       "  <thead>\n",
       "    <tr style=\"text-align: right;\">\n",
       "      <th></th>\n",
       "      <th>Longitude</th>\n",
       "      <th>Latitude</th>\n",
       "      <th>Z</th>\n",
       "      <th>DZ</th>\n",
       "    </tr>\n",
       "  </thead>\n",
       "  <tbody>\n",
       "    <tr>\n",
       "      <th>0</th>\n",
       "      <td>-122.541102</td>\n",
       "      <td>39.859374</td>\n",
       "      <td>0.566691</td>\n",
       "      <td>0.069111</td>\n",
       "    </tr>\n",
       "    <tr>\n",
       "      <th>1</th>\n",
       "      <td>-122.540790</td>\n",
       "      <td>39.863396</td>\n",
       "      <td>0.776471</td>\n",
       "      <td>0.064225</td>\n",
       "    </tr>\n",
       "    <tr>\n",
       "      <th>2</th>\n",
       "      <td>-122.536195</td>\n",
       "      <td>39.855112</td>\n",
       "      <td>0.510672</td>\n",
       "      <td>0.061217</td>\n",
       "    </tr>\n",
       "    <tr>\n",
       "      <th>3</th>\n",
       "      <td>-122.535884</td>\n",
       "      <td>39.859134</td>\n",
       "      <td>0.194299</td>\n",
       "      <td>0.078462</td>\n",
       "    </tr>\n",
       "    <tr>\n",
       "      <th>4</th>\n",
       "      <td>-122.535572</td>\n",
       "      <td>39.863156</td>\n",
       "      <td>0.520263</td>\n",
       "      <td>0.056262</td>\n",
       "    </tr>\n",
       "    <tr>\n",
       "      <th>...</th>\n",
       "      <td>...</td>\n",
       "      <td>...</td>\n",
       "      <td>...</td>\n",
       "      <td>...</td>\n",
       "    </tr>\n",
       "    <tr>\n",
       "      <th>265323</th>\n",
       "      <td>-118.606756</td>\n",
       "      <td>35.283054</td>\n",
       "      <td>0.542738</td>\n",
       "      <td>0.101017</td>\n",
       "    </tr>\n",
       "    <tr>\n",
       "      <th>265324</th>\n",
       "      <td>-118.606143</td>\n",
       "      <td>35.286905</td>\n",
       "      <td>0.641504</td>\n",
       "      <td>0.082334</td>\n",
       "    </tr>\n",
       "    <tr>\n",
       "      <th>265325</th>\n",
       "      <td>-118.605529</td>\n",
       "      <td>35.290757</td>\n",
       "      <td>0.753156</td>\n",
       "      <td>0.089112</td>\n",
       "    </tr>\n",
       "    <tr>\n",
       "      <th>265326</th>\n",
       "      <td>-118.604915</td>\n",
       "      <td>35.294608</td>\n",
       "      <td>0.603030</td>\n",
       "      <td>0.098666</td>\n",
       "    </tr>\n",
       "    <tr>\n",
       "      <th>265327</th>\n",
       "      <td>-118.604302</td>\n",
       "      <td>35.298460</td>\n",
       "      <td>0.833355</td>\n",
       "      <td>0.108416</td>\n",
       "    </tr>\n",
       "  </tbody>\n",
       "</table>\n",
       "<p>265328 rows × 4 columns</p>\n",
       "</div>"
      ],
      "text/plain": [
       "         Longitude   Latitude         Z        DZ\n",
       "0      -122.541102  39.859374  0.566691  0.069111\n",
       "1      -122.540790  39.863396  0.776471  0.064225\n",
       "2      -122.536195  39.855112  0.510672  0.061217\n",
       "3      -122.535884  39.859134  0.194299  0.078462\n",
       "4      -122.535572  39.863156  0.520263  0.056262\n",
       "...            ...        ...       ...       ...\n",
       "265323 -118.606756  35.283054  0.542738  0.101017\n",
       "265324 -118.606143  35.286905  0.641504  0.082334\n",
       "265325 -118.605529  35.290757  0.753156  0.089112\n",
       "265326 -118.604915  35.294608  0.603030  0.098666\n",
       "265327 -118.604302  35.298460  0.833355  0.108416\n",
       "\n",
       "[265328 rows x 4 columns]"
      ]
     },
     "execution_count": 5,
     "metadata": {},
     "output_type": "execute_result"
    }
   ],
   "source": [
    "df"
   ]
  },
  {
   "cell_type": "code",
   "execution_count": 6,
   "id": "3c7f1f33-5c10-4d3d-916b-19915da585c1",
   "metadata": {},
   "outputs": [
    {
     "data": {
      "text/plain": [
       "265328"
      ]
     },
     "execution_count": 6,
     "metadata": {},
     "output_type": "execute_result"
    }
   ],
   "source": [
    "len(df.Longitude.unique())"
   ]
  },
  {
   "cell_type": "code",
   "execution_count": null,
   "id": "bc134ab3-277a-4065-a780-9474b928d16e",
   "metadata": {},
   "outputs": [],
   "source": []
  }
 ],
 "metadata": {
  "kernelspec": {
   "display_name": "Python 3 (ipykernel)",
   "language": "python",
   "name": "python3"
  },
  "language_info": {
   "codemirror_mode": {
    "name": "ipython",
    "version": 3
   },
   "file_extension": ".py",
   "mimetype": "text/x-python",
   "name": "python",
   "nbconvert_exporter": "python",
   "pygments_lexer": "ipython3",
   "version": "3.10.16"
  }
 },
 "nbformat": 4,
 "nbformat_minor": 5
}
