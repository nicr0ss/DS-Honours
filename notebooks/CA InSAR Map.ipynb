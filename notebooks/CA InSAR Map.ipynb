{
 "cells": [
  {
   "cell_type": "code",
   "execution_count": 4,
   "id": "93235304-9170-4e9b-9202-ce94505e9099",
   "metadata": {},
   "outputs": [],
   "source": [
    "import scipy.io\n",
    "import pandas as pd\n",
    "import geopandas as gpd\n",
    "from shapely.geometry import Point\n",
    "import plotly.express as px\n",
    "import numpy as np\n",
    "import matplotlib.pyplot as plt\n",
    "import contextily as ctx\n",
    "from pykrige.ok import OrdinaryKriging\n",
    "import os"
   ]
  },
  {
   "cell_type": "code",
   "execution_count": 3,
   "id": "16c6adbd-d123-41f2-8fea-bd0ef0dbcb0b",
   "metadata": {},
   "outputs": [],
   "source": [
    "SGMA = \"../data/GWBasins.shp\"\n",
    "gdf = gpd.read_file(SGMA)\n",
    "gdf.set_crs(epsg=3857, inplace=True)\n",
    "gdf.set_index('OBJECTID', inplace=True)\n",
    "gdf['Basin_Prefix'] = gdf['Basin_Numb'].str.split('-').str[0].astype(int)"
   ]
  },
  {
   "cell_type": "code",
   "execution_count": null,
   "id": "5dc4faaf-d318-47d0-9d5e-7df9a063a804",
   "metadata": {},
   "outputs": [],
   "source": [
    "s3_sar_5021 = \"https://ds-h-ca-bigdata.s3.us-east-2.amazonaws.com/CA_DWR_VERT.csv\"\n",
    "sar_5021 = pd.read_csv(s3_sar_5021)"
   ]
  },
  {
   "cell_type": "code",
   "execution_count": null,
   "id": "232ca0fd-1f59-4066-8df0-b23bdef8d4e9",
   "metadata": {},
   "outputs": [],
   "source": []
  }
 ],
 "metadata": {
  "kernelspec": {
   "display_name": "Python 3 (ipykernel)",
   "language": "python",
   "name": "python3"
  },
  "language_info": {
   "codemirror_mode": {
    "name": "ipython",
    "version": 3
   },
   "file_extension": ".py",
   "mimetype": "text/x-python",
   "name": "python",
   "nbconvert_exporter": "python",
   "pygments_lexer": "ipython3",
   "version": "3.10.16"
  }
 },
 "nbformat": 4,
 "nbformat_minor": 5
}
