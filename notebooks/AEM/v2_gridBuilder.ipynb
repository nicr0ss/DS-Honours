{
 "cells": [
  {
   "cell_type": "code",
   "execution_count": 1,
   "id": "cf60d236-f7fe-4aa0-8f4e-e9c4062ad164",
   "metadata": {
    "execution": {
     "iopub.execute_input": "2025-04-12T20:40:55.444007Z",
     "iopub.status.busy": "2025-04-12T20:40:55.443792Z",
     "iopub.status.idle": "2025-04-12T20:41:02.132006Z",
     "shell.execute_reply": "2025-04-12T20:41:02.131613Z",
     "shell.execute_reply.started": "2025-04-12T20:40:55.443994Z"
    }
   },
   "outputs": [],
   "source": [
    "import pandas as pd\n",
    "from datetime import datetime\n",
    "import numpy as np\n",
    "from tqdm import tqdm\n",
    "import geopandas as gpd\n",
    "import matplotlib.pyplot as plt\n",
    "import contextily as ctx\n",
    "from shapely.geometry import Point\n",
    "from pyproj import Transformer\n",
    "import ipyparallel as ipp\n",
    "from scipy.stats import linregress\n",
    "import seaborn as sns\n",
    "from scipy.spatial.distance import cdist\n",
    "from sklearn.linear_model import LinearRegression\n",
    "import xml.etree.ElementTree as ET\n",
    "import json\n",
    "from pyproj import Transformer\n",
    "from sklearn.decomposition import PCA\n",
    "import pickle"
   ]
  },
  {
   "cell_type": "code",
   "execution_count": 2,
   "id": "271f9830-bbe9-436d-a57a-05e106e81910",
   "metadata": {
    "execution": {
     "iopub.execute_input": "2025-04-05T06:23:36.736317Z",
     "iopub.status.busy": "2025-04-05T06:23:36.735909Z",
     "iopub.status.idle": "2025-04-05T06:24:31.392572Z",
     "shell.execute_reply": "2025-04-05T06:24:31.391789Z",
     "shell.execute_reply.started": "2025-04-05T06:23:36.736299Z"
    }
   },
   "outputs": [],
   "source": [
    "s3_sar_5021 = \"https://ds-h-ca-bigdata.s3.us-east-2.amazonaws.com/CA_DWR_VERT.csv\"\n",
    "sar_5021 = pd.read_csv(s3_sar_5021)"
   ]
  },
  {
   "cell_type": "code",
   "execution_count": 3,
   "id": "c012dc24-1080-4ced-81f6-46f56aad880d",
   "metadata": {
    "execution": {
     "iopub.execute_input": "2025-04-05T06:24:31.393487Z",
     "iopub.status.busy": "2025-04-05T06:24:31.393264Z",
     "iopub.status.idle": "2025-04-05T06:24:31.553155Z",
     "shell.execute_reply": "2025-04-05T06:24:31.552715Z",
     "shell.execute_reply.started": "2025-04-05T06:24:31.393467Z"
    }
   },
   "outputs": [],
   "source": [
    "with open(\"grid_large_std.pkl\", \"rb\") as f:\n",
    "    grid = pickle.load(f)"
   ]
  },
  {
   "cell_type": "code",
   "execution_count": 4,
   "id": "3995598a-52d2-4275-8fb0-d88862d6b9b8",
   "metadata": {
    "execution": {
     "iopub.execute_input": "2025-04-05T06:24:31.553871Z",
     "iopub.status.busy": "2025-04-05T06:24:31.553640Z",
     "iopub.status.idle": "2025-04-05T06:24:31.556331Z",
     "shell.execute_reply": "2025-04-05T06:24:31.555969Z",
     "shell.execute_reply.started": "2025-04-05T06:24:31.553855Z"
    }
   },
   "outputs": [],
   "source": [
    "dry = [\"2017\", \"2019\", \"2020\", \"2021\"]\n",
    "wet = [\"2015\", \"2016\", \"2018\", \"2022\", \"2023\"]"
   ]
  },
  {
   "cell_type": "code",
   "execution_count": 5,
   "id": "ee664407-39c6-4abc-afd3-fbebec732619",
   "metadata": {
    "execution": {
     "iopub.execute_input": "2025-04-05T06:24:31.556926Z",
     "iopub.status.busy": "2025-04-05T06:24:31.556703Z",
     "iopub.status.idle": "2025-04-05T06:24:31.572793Z",
     "shell.execute_reply": "2025-04-05T06:24:31.572412Z",
     "shell.execute_reply.started": "2025-04-05T06:24:31.556913Z"
    }
   },
   "outputs": [],
   "source": [
    "def is_oct_2015_or_later(col_name):\n",
    "    if col_name.startswith('D') and len(col_name) == 9:\n",
    "        try:\n",
    "            date_str = col_name[1:]\n",
    "            date = datetime.strptime(date_str, '%Y%m%d')\n",
    "            return date >= datetime(2015, 10, 1)\n",
    "        except ValueError:\n",
    "            return False\n",
    "    return True"
   ]
  },
  {
   "cell_type": "code",
   "execution_count": 6,
   "id": "be9dcb05-4e23-4f6f-a65b-db1b0df54854",
   "metadata": {
    "execution": {
     "iopub.execute_input": "2025-04-05T06:24:31.573302Z",
     "iopub.status.busy": "2025-04-05T06:24:31.573154Z",
     "iopub.status.idle": "2025-04-05T06:24:31.593357Z",
     "shell.execute_reply": "2025-04-05T06:24:31.592996Z",
     "shell.execute_reply.started": "2025-04-05T06:24:31.573289Z"
    }
   },
   "outputs": [],
   "source": [
    "wy_2015_or_later = [col for col in sar_5021.columns if is_oct_2015_or_later(col)]"
   ]
  },
  {
   "cell_type": "code",
   "execution_count": 7,
   "id": "a126731b-a235-434a-acf7-437779c9030b",
   "metadata": {
    "execution": {
     "iopub.execute_input": "2025-04-05T06:24:33.773797Z",
     "iopub.status.busy": "2025-04-05T06:24:33.773626Z",
     "iopub.status.idle": "2025-04-05T06:24:35.914730Z",
     "shell.execute_reply": "2025-04-05T06:24:35.914296Z",
     "shell.execute_reply.started": "2025-04-05T06:24:33.773785Z"
    }
   },
   "outputs": [],
   "source": [
    "sar_5021_2015 = sar_5021[wy_2015_or_later].copy()"
   ]
  },
  {
   "cell_type": "code",
   "execution_count": 8,
   "id": "a67437f0-60e0-4cba-aac6-9e5894b5e62f",
   "metadata": {
    "execution": {
     "iopub.execute_input": "2025-04-05T06:24:35.915416Z",
     "iopub.status.busy": "2025-04-05T06:24:35.915219Z",
     "iopub.status.idle": "2025-04-05T06:29:33.168024Z",
     "shell.execute_reply": "2025-04-05T06:29:33.167451Z",
     "shell.execute_reply.started": "2025-04-05T06:24:35.915402Z"
    }
   },
   "outputs": [
    {
     "name": "stderr",
     "output_type": "stream",
     "text": [
      "Processing rows: 100%|██████████| 707344/707344 [04:56<00:00, 2389.25it/s]\n"
     ]
    }
   ],
   "source": [
    "def extract_year_month(col_name):\n",
    "    if col_name.startswith('D') and len(col_name) == 9:\n",
    "        try:\n",
    "            date_str = col_name[1:]\n",
    "            date = datetime.strptime(date_str, '%Y%m%d')\n",
    "            return date.year, date.month\n",
    "        except ValueError:\n",
    "            pass\n",
    "    return None, None\n",
    "\n",
    "year_month_columns = {}\n",
    "for col in sar_5021_2015.columns:\n",
    "    year, month = extract_year_month(col)\n",
    "    if year is not None:\n",
    "        year_month_columns.setdefault((year, month), []).append(col)\n",
    "\n",
    "def calculate_average(row, columns):\n",
    "    valid_values = [row[col] for col in columns if not pd.isna(row[col])]\n",
    "    return np.mean(valid_values) if valid_values else np.nan\n",
    "\n",
    "results = []\n",
    "for index, row in tqdm(sar_5021_2015.iterrows(), total=len(sar_5021_2015), desc=\"Processing rows\"):\n",
    "    row_results = {'CODE': row['CODE']}\n",
    "    for (year, month), columns in year_month_columns.items():\n",
    "        if month == 10:\n",
    "            oct_avg = calculate_average(row, columns)\n",
    "            next_year_sep_columns = year_month_columns.get((year + 1, 9), [])\n",
    "            sep_avg = calculate_average(row, next_year_sep_columns)\n",
    "            if not np.isnan(oct_avg) and not np.isnan(sep_avg):\n",
    "                row_results[f'Diff_{year}'] = oct_avg - sep_avg\n",
    "    results.append(row_results)\n",
    "\n",
    "wy_sar_5021 = pd.DataFrame(results)"
   ]
  },
  {
   "cell_type": "code",
   "execution_count": 9,
   "id": "e6c0c84a-730b-4c6e-a132-a7408817290a",
   "metadata": {
    "execution": {
     "iopub.execute_input": "2025-04-05T06:29:33.168914Z",
     "iopub.status.busy": "2025-04-05T06:29:33.168730Z",
     "iopub.status.idle": "2025-04-05T06:35:06.131493Z",
     "shell.execute_reply": "2025-04-05T06:35:06.130916Z",
     "shell.execute_reply.started": "2025-04-05T06:29:33.168897Z"
    }
   },
   "outputs": [
    {
     "name": "stdout",
     "output_type": "stream",
     "text": [
      "Dry Year Columns: ['Diff_2017', 'Diff_2020', 'Diff_2021', 'Diff_2019']\n",
      "Wet Year Columns: ['Diff_2015', 'Diff_2016', 'Diff_2018', 'Diff_2022', 'Diff_2023']\n"
     ]
    },
    {
     "name": "stderr",
     "output_type": "stream",
     "text": [
      "Processing rows: 100%|██████████| 707344/707344 [05:32<00:00, 2127.88it/s]\n"
     ]
    }
   ],
   "source": [
    "def extract_year(col_name):\n",
    "    if col_name.startswith('D') and len(col_name) == 9:\n",
    "        return col_name.split(\"_\")[1]\n",
    "    return None\n",
    "\n",
    "dry_columns = [col for col in wy_sar_5021.columns if extract_year(col) in dry]\n",
    "wet_columns = [col for col in wy_sar_5021.columns if extract_year(col) in wet]\n",
    "\n",
    "print(\"Dry Year Columns:\", dry_columns)\n",
    "print(\"Wet Year Columns:\", wet_columns)\n",
    "\n",
    "results = []\n",
    "for idx, row in tqdm(wy_sar_5021.iterrows(), total=len(wy_sar_5021), desc=\"Processing rows\"):\n",
    "    well_code = row['CODE']\n",
    "    dry_avg = row[dry_columns].mean()\n",
    "    wet_avg = row[wet_columns].mean()\n",
    "    results.append({\n",
    "        'CODE': well_code,\n",
    "        'Dry_Year_Avg': dry_avg,\n",
    "        'Wet_Year_Avg': wet_avg\n",
    "    })\n",
    "\n",
    "wy_sar_5021_dry_wet = pd.DataFrame(results)"
   ]
  },
  {
   "cell_type": "code",
   "execution_count": 10,
   "id": "5c0e7a77-2dcd-4e18-a296-1418d7e9d89c",
   "metadata": {
    "execution": {
     "iopub.execute_input": "2025-04-05T06:35:06.132355Z",
     "iopub.status.busy": "2025-04-05T06:35:06.132158Z",
     "iopub.status.idle": "2025-04-05T06:35:06.650879Z",
     "shell.execute_reply": "2025-04-05T06:35:06.650355Z",
     "shell.execute_reply.started": "2025-04-05T06:35:06.132339Z"
    }
   },
   "outputs": [],
   "source": [
    "wy_sar_5021_dry_wet = pd.merge(wy_sar_5021_dry_wet, sar_5021[[\"CODE\", \"LAT\", \"LON\"]], on=\"CODE\", how='left')"
   ]
  },
  {
   "cell_type": "code",
   "execution_count": 11,
   "id": "b9c4e6fc-c02d-4a30-a829-7b9043a10fb9",
   "metadata": {
    "execution": {
     "iopub.execute_input": "2025-04-05T06:35:06.651635Z",
     "iopub.status.busy": "2025-04-05T06:35:06.651428Z",
     "iopub.status.idle": "2025-04-05T06:35:19.640871Z",
     "shell.execute_reply": "2025-04-05T06:35:19.640415Z",
     "shell.execute_reply.started": "2025-04-05T06:35:06.651622Z"
    }
   },
   "outputs": [],
   "source": [
    "wy_sar_5021_dry_wet['geometry'] = wy_sar_5021_dry_wet.apply(lambda row: Point(row.LON, row.LAT), axis=1)\n",
    "\n",
    "gdf = gpd.GeoDataFrame(wy_sar_5021_dry_wet, geometry='geometry')\n",
    "gdf.crs = \"EPSG:4326\"\n",
    "\n",
    "gdf = gdf.to_crs(epsg=32612)"
   ]
  },
  {
   "cell_type": "code",
   "execution_count": 12,
   "id": "fc0db862-b223-4b7a-93b3-922a4a2359a6",
   "metadata": {
    "execution": {
     "iopub.execute_input": "2025-04-05T06:35:19.641557Z",
     "iopub.status.busy": "2025-04-05T06:35:19.641341Z",
     "iopub.status.idle": "2025-04-05T06:35:20.855010Z",
     "shell.execute_reply": "2025-04-05T06:35:20.854498Z",
     "shell.execute_reply.started": "2025-04-05T06:35:19.641544Z"
    }
   },
   "outputs": [],
   "source": [
    "grid = grid.to_crs(gdf.crs)\n",
    "grid['geometry_buffer'] = grid.geometry.buffer(1000)"
   ]
  },
  {
   "cell_type": "code",
   "execution_count": 13,
   "id": "26da4f4f-238e-46b2-bf0b-e7deea00c934",
   "metadata": {
    "execution": {
     "iopub.execute_input": "2025-04-05T06:35:23.505921Z",
     "iopub.status.busy": "2025-04-05T06:35:23.505667Z",
     "iopub.status.idle": "2025-04-05T06:37:36.347608Z",
     "shell.execute_reply": "2025-04-05T06:37:36.346896Z",
     "shell.execute_reply.started": "2025-04-05T06:35:23.505905Z"
    }
   },
   "outputs": [],
   "source": [
    "grid_buffered = grid.set_geometry('geometry_buffer')\n",
    "joined = gpd.sjoin(gdf, grid_buffered, predicate='within')"
   ]
  },
  {
   "cell_type": "code",
   "execution_count": 14,
   "id": "276b497f-3db0-46a6-a831-8ee491256064",
   "metadata": {
    "execution": {
     "iopub.execute_input": "2025-04-05T06:37:36.348730Z",
     "iopub.status.busy": "2025-04-05T06:37:36.348286Z",
     "iopub.status.idle": "2025-04-05T06:37:36.705766Z",
     "shell.execute_reply": "2025-04-05T06:37:36.705388Z",
     "shell.execute_reply.started": "2025-04-05T06:37:36.348714Z"
    }
   },
   "outputs": [],
   "source": [
    "averages = joined.groupby('index_right')[['Dry_Year_Avg', 'Wet_Year_Avg']].mean().reset_index()\n",
    "grid_avg = grid.merge(averages, left_index=True, right_on='index_right', how='left')"
   ]
  },
  {
   "cell_type": "code",
   "execution_count": 15,
   "id": "7377ed7f-2339-4b0f-8e2c-b58e107c15bc",
   "metadata": {
    "execution": {
     "iopub.execute_input": "2025-04-05T06:37:36.706441Z",
     "iopub.status.busy": "2025-04-05T06:37:36.706235Z",
     "iopub.status.idle": "2025-04-05T06:37:36.711325Z",
     "shell.execute_reply": "2025-04-05T06:37:36.710985Z",
     "shell.execute_reply.started": "2025-04-05T06:37:36.706427Z"
    }
   },
   "outputs": [],
   "source": [
    "mean_dry = grid_avg[\"Dry_Year_Avg\"].mean()\n",
    "std_dry = grid_avg[\"Dry_Year_Avg\"].std()\n",
    "grid_avg[\"Dry_Year_Avg_Z\"] = (grid_avg[\"Dry_Year_Avg\"] - mean_dry) / std_dry\n",
    "\n",
    "mean_wet = grid_avg[\"Wet_Year_Avg\"].mean()\n",
    "std_wet = grid_avg[\"Wet_Year_Avg\"].std()\n",
    "grid_avg[\"Wet_Year_Avg_Z\"] = (grid_avg[\"Wet_Year_Avg\"] - mean_wet) / std_wet"
   ]
  },
  {
   "cell_type": "code",
   "execution_count": 16,
   "id": "68e6cdc8-74fe-41c6-ad27-9328cd13efe3",
   "metadata": {
    "execution": {
     "iopub.execute_input": "2025-04-05T06:37:36.711942Z",
     "iopub.status.busy": "2025-04-05T06:37:36.711741Z",
     "iopub.status.idle": "2025-04-05T06:37:36.729344Z",
     "shell.execute_reply": "2025-04-05T06:37:36.728989Z",
     "shell.execute_reply.started": "2025-04-05T06:37:36.711929Z"
    }
   },
   "outputs": [],
   "source": [
    "grid_avg[\"Difference\"] = grid_avg[\"Wet_Year_Avg\"] - grid_avg[\"Dry_Year_Avg\"]\n",
    "mean_diff = grid_avg[\"Difference\"].mean()\n",
    "std_diff = grid_avg[\"Difference\"].std()\n",
    "grid_avg[\"Difference_Z\"] = (grid_avg[\"Difference\"] - mean_diff) / std_diff"
   ]
  },
  {
   "cell_type": "code",
   "execution_count": 17,
   "id": "395b91f5-bf22-4d35-a27a-109cdba0c0db",
   "metadata": {
    "execution": {
     "iopub.execute_input": "2025-04-05T06:37:36.730058Z",
     "iopub.status.busy": "2025-04-05T06:37:36.729845Z",
     "iopub.status.idle": "2025-04-05T06:37:36.850728Z",
     "shell.execute_reply": "2025-04-05T06:37:36.850309Z",
     "shell.execute_reply.started": "2025-04-05T06:37:36.730044Z"
    }
   },
   "outputs": [],
   "source": [
    "grid_avg.drop(columns=[\"Dry_Year_Avg\", \"Wet_Year_Avg\", \"Difference\"], inplace=True)"
   ]
  },
  {
   "cell_type": "code",
   "execution_count": 18,
   "id": "173ad760-07a1-4f28-9f1a-341d6a535d20",
   "metadata": {
    "execution": {
     "iopub.execute_input": "2025-04-05T06:37:36.851414Z",
     "iopub.status.busy": "2025-04-05T06:37:36.851207Z",
     "iopub.status.idle": "2025-04-05T06:37:36.982133Z",
     "shell.execute_reply": "2025-04-05T06:37:36.981708Z",
     "shell.execute_reply.started": "2025-04-05T06:37:36.851400Z"
    }
   },
   "outputs": [],
   "source": [
    "cvhm = pd.read_csv(\"GA-sklearn/cvhm_PC.csv\")[[\"X_COORD\", \"Y_COORD\", \"PC_D25\"]]"
   ]
  },
  {
   "cell_type": "code",
   "execution_count": 19,
   "id": "0036fa26-2d51-4ca4-886d-438a22e69ba0",
   "metadata": {
    "execution": {
     "iopub.execute_input": "2025-04-05T06:37:36.982850Z",
     "iopub.status.busy": "2025-04-05T06:37:36.982622Z",
     "iopub.status.idle": "2025-04-05T06:37:37.005485Z",
     "shell.execute_reply": "2025-04-05T06:37:37.005140Z",
     "shell.execute_reply.started": "2025-04-05T06:37:36.982835Z"
    }
   },
   "outputs": [
    {
     "data": {
      "text/html": [
       "<div>\n",
       "<style scoped>\n",
       "    .dataframe tbody tr th:only-of-type {\n",
       "        vertical-align: middle;\n",
       "    }\n",
       "\n",
       "    .dataframe tbody tr th {\n",
       "        vertical-align: top;\n",
       "    }\n",
       "\n",
       "    .dataframe thead th {\n",
       "        text-align: right;\n",
       "    }\n",
       "</style>\n",
       "<table border=\"1\" class=\"dataframe\">\n",
       "  <thead>\n",
       "    <tr style=\"text-align: right;\">\n",
       "      <th></th>\n",
       "      <th>X_COORD</th>\n",
       "      <th>Y_COORD</th>\n",
       "      <th>PC_D25</th>\n",
       "      <th>geometry</th>\n",
       "    </tr>\n",
       "  </thead>\n",
       "  <tbody>\n",
       "    <tr>\n",
       "      <th>0</th>\n",
       "      <td>-193663.0</td>\n",
       "      <td>1964850.0</td>\n",
       "      <td>25.29</td>\n",
       "      <td>POINT (-193663 1964850)</td>\n",
       "    </tr>\n",
       "    <tr>\n",
       "      <th>1</th>\n",
       "      <td>-195623.0</td>\n",
       "      <td>1961830.0</td>\n",
       "      <td>30.11</td>\n",
       "      <td>POINT (-195623 1961830)</td>\n",
       "    </tr>\n",
       "    <tr>\n",
       "      <th>2</th>\n",
       "      <td>-194235.0</td>\n",
       "      <td>1962650.0</td>\n",
       "      <td>26.48</td>\n",
       "      <td>POINT (-194235 1962650)</td>\n",
       "    </tr>\n",
       "    <tr>\n",
       "      <th>3</th>\n",
       "      <td>-192847.0</td>\n",
       "      <td>1963460.0</td>\n",
       "      <td>23.13</td>\n",
       "      <td>POINT (-192847 1963460)</td>\n",
       "    </tr>\n",
       "    <tr>\n",
       "      <th>4</th>\n",
       "      <td>-191460.0</td>\n",
       "      <td>1964280.0</td>\n",
       "      <td>16.90</td>\n",
       "      <td>POINT (-191460 1964280)</td>\n",
       "    </tr>\n",
       "    <tr>\n",
       "      <th>...</th>\n",
       "      <td>...</td>\n",
       "      <td>...</td>\n",
       "      <td>...</td>\n",
       "      <td>...</td>\n",
       "    </tr>\n",
       "    <tr>\n",
       "      <th>20528</th>\n",
       "      <td>107958.0</td>\n",
       "      <td>1324510.0</td>\n",
       "      <td>43.18</td>\n",
       "      <td>POINT (107958 1324510)</td>\n",
       "    </tr>\n",
       "    <tr>\n",
       "      <th>20529</th>\n",
       "      <td>109345.0</td>\n",
       "      <td>1325320.0</td>\n",
       "      <td>42.67</td>\n",
       "      <td>POINT (109345 1325320)</td>\n",
       "    </tr>\n",
       "    <tr>\n",
       "      <th>20530</th>\n",
       "      <td>110733.0</td>\n",
       "      <td>1326140.0</td>\n",
       "      <td>41.85</td>\n",
       "      <td>POINT (110733 1326140)</td>\n",
       "    </tr>\n",
       "    <tr>\n",
       "      <th>20531</th>\n",
       "      <td>104611.0</td>\n",
       "      <td>1320680.0</td>\n",
       "      <td>42.11</td>\n",
       "      <td>POINT (104611 1320680)</td>\n",
       "    </tr>\n",
       "    <tr>\n",
       "      <th>20532</th>\n",
       "      <td>105998.0</td>\n",
       "      <td>1321490.0</td>\n",
       "      <td>42.19</td>\n",
       "      <td>POINT (105998 1321490)</td>\n",
       "    </tr>\n",
       "  </tbody>\n",
       "</table>\n",
       "<p>20533 rows × 4 columns</p>\n",
       "</div>"
      ],
      "text/plain": [
       "        X_COORD    Y_COORD  PC_D25                 geometry\n",
       "0     -193663.0  1964850.0   25.29  POINT (-193663 1964850)\n",
       "1     -195623.0  1961830.0   30.11  POINT (-195623 1961830)\n",
       "2     -194235.0  1962650.0   26.48  POINT (-194235 1962650)\n",
       "3     -192847.0  1963460.0   23.13  POINT (-192847 1963460)\n",
       "4     -191460.0  1964280.0   16.90  POINT (-191460 1964280)\n",
       "...         ...        ...     ...                      ...\n",
       "20528  107958.0  1324510.0   43.18   POINT (107958 1324510)\n",
       "20529  109345.0  1325320.0   42.67   POINT (109345 1325320)\n",
       "20530  110733.0  1326140.0   41.85   POINT (110733 1326140)\n",
       "20531  104611.0  1320680.0   42.11   POINT (104611 1320680)\n",
       "20532  105998.0  1321490.0   42.19   POINT (105998 1321490)\n",
       "\n",
       "[20533 rows x 4 columns]"
      ]
     },
     "execution_count": 19,
     "metadata": {},
     "output_type": "execute_result"
    }
   ],
   "source": [
    "cvhm_gdf = gpd.GeoDataFrame(cvhm, geometry=gpd.points_from_xy(cvhm.X_COORD, cvhm.Y_COORD))\n",
    "\n",
    "crs_albers = {\n",
    "    'proj': 'aea',           # Albers Equal Area Conic projection\n",
    "    'lat_1': 29.5,           # First standard parallel\n",
    "    'lat_2': 45.5,           # Second standard parallel\n",
    "    'lat_0': 23.0,           # Latitude of origin\n",
    "    'lon_0': -120.0,         # Central meridian\n",
    "    'x_0': 0,                # False easting\n",
    "    'y_0': 0,                # False northing\n",
    "    'datum': 'NAD83',        # Datum\n",
    "    'units': 'm'             # Linear unit in meters\n",
    "}\n",
    "\n",
    "cvhm_gdf.set_crs(crs_albers, inplace=True)"
   ]
  },
  {
   "cell_type": "code",
   "execution_count": 20,
   "id": "94be7f0a-1d43-432f-b98c-14d50d93b3bb",
   "metadata": {
    "execution": {
     "iopub.execute_input": "2025-04-05T06:37:37.008368Z",
     "iopub.status.busy": "2025-04-05T06:37:37.008175Z",
     "iopub.status.idle": "2025-04-05T06:37:38.934406Z",
     "shell.execute_reply": "2025-04-05T06:37:38.933988Z",
     "shell.execute_reply.started": "2025-04-05T06:37:37.008356Z"
    }
   },
   "outputs": [],
   "source": [
    "cvhm_gdf = cvhm_gdf.to_crs(grid_buffered.crs)\n",
    "joined = gpd.sjoin(cvhm_gdf, grid_buffered, predicate='within')\n",
    "avg_pc_d25 = joined.groupby('index_right')['PC_D25'].mean()\n",
    "grid_buffered['avg_PC_D25'] = avg_pc_d25"
   ]
  },
  {
   "cell_type": "code",
   "execution_count": 21,
   "id": "04130947-b325-43d0-b417-a2cb4d33036a",
   "metadata": {
    "execution": {
     "iopub.execute_input": "2025-04-05T06:37:38.935076Z",
     "iopub.status.busy": "2025-04-05T06:37:38.934870Z",
     "iopub.status.idle": "2025-04-05T06:37:39.378830Z",
     "shell.execute_reply": "2025-04-05T06:37:39.378394Z",
     "shell.execute_reply.started": "2025-04-05T06:37:38.935062Z"
    }
   },
   "outputs": [],
   "source": [
    "grid_avg = grid_avg.join(grid_buffered[['avg_PC_D25']])"
   ]
  },
  {
   "cell_type": "code",
   "execution_count": 22,
   "id": "fe393b47-a012-4582-8d2f-a0d9654a1068",
   "metadata": {
    "execution": {
     "iopub.execute_input": "2025-04-05T06:37:39.379470Z",
     "iopub.status.busy": "2025-04-05T06:37:39.379282Z",
     "iopub.status.idle": "2025-04-05T06:37:39.386845Z",
     "shell.execute_reply": "2025-04-05T06:37:39.386488Z",
     "shell.execute_reply.started": "2025-04-05T06:37:39.379457Z"
    }
   },
   "outputs": [],
   "source": [
    "grid_avg['avg_PC_D25'] = grid_avg['avg_PC_D25'].fillna(-999)\n",
    "valid_mask = grid_avg['avg_PC_D25'] != -999\n",
    "valid_mean = grid_avg.loc[valid_mask, 'avg_PC_D25'].mean()\n",
    "valid_std = grid_avg.loc[valid_mask, 'avg_PC_D25'].std()\n",
    "grid_avg.loc[valid_mask, 'avg_PC_D25_z'] = (grid_avg.loc[valid_mask, 'avg_PC_D25'] - valid_mean) / valid_std\n",
    "grid_avg.loc[~valid_mask, 'avg_PC_D25_z'] = -999"
   ]
  },
  {
   "cell_type": "code",
   "execution_count": 23,
   "id": "4c1c060f-5435-498f-a0fb-4ac8646de6e1",
   "metadata": {
    "execution": {
     "iopub.execute_input": "2025-04-05T06:37:39.387454Z",
     "iopub.status.busy": "2025-04-05T06:37:39.387254Z",
     "iopub.status.idle": "2025-04-05T06:37:39.506222Z",
     "shell.execute_reply": "2025-04-05T06:37:39.505800Z",
     "shell.execute_reply.started": "2025-04-05T06:37:39.387440Z"
    }
   },
   "outputs": [],
   "source": [
    "grid_avg.drop(columns=[\"avg_PC_D25\"], inplace=True)"
   ]
  },
  {
   "cell_type": "code",
   "execution_count": 24,
   "id": "c95570f1-dc9e-4e4a-9c04-ab9d31432885",
   "metadata": {
    "execution": {
     "iopub.execute_input": "2025-04-05T06:37:39.506889Z",
     "iopub.status.busy": "2025-04-05T06:37:39.506691Z",
     "iopub.status.idle": "2025-04-05T06:37:39.512708Z",
     "shell.execute_reply": "2025-04-05T06:37:39.512298Z",
     "shell.execute_reply.started": "2025-04-05T06:37:39.506877Z"
    }
   },
   "outputs": [],
   "source": [
    "cols = ['Dry_Year_Avg_Z', 'Wet_Year_Avg_Z', 'Difference_Z', 'avg_PC_D25_z']\n",
    "for col in cols:\n",
    "    grid_avg[f'{col}_flag'] = (grid_avg[col] == -999).astype(int)"
   ]
  },
  {
   "cell_type": "code",
   "execution_count": 33,
   "id": "da28a6ec-e3e9-49f7-b194-519f37c0640e",
   "metadata": {
    "execution": {
     "iopub.execute_input": "2025-04-05T22:28:51.921489Z",
     "iopub.status.busy": "2025-04-05T22:28:51.921249Z",
     "iopub.status.idle": "2025-04-05T22:28:56.251195Z",
     "shell.execute_reply": "2025-04-05T22:28:56.250263Z",
     "shell.execute_reply.started": "2025-04-05T22:28:51.921471Z"
    }
   },
   "outputs": [],
   "source": [
    "grid_avg.replace(-9999, 0, inplace=True)\n",
    "grid_avg.replace(-999, 0, inplace=True)"
   ]
  },
  {
   "cell_type": "code",
   "execution_count": 2,
   "id": "06355603-fa54-434b-849a-ac9fc9cea592",
   "metadata": {
    "execution": {
     "iopub.execute_input": "2025-04-05T21:26:13.575893Z",
     "iopub.status.busy": "2025-04-05T21:26:13.575684Z",
     "iopub.status.idle": "2025-04-05T21:26:17.991568Z",
     "shell.execute_reply": "2025-04-05T21:26:17.990943Z",
     "shell.execute_reply.started": "2025-04-05T21:26:13.575879Z"
    }
   },
   "outputs": [],
   "source": [
    "with open('grid_large_std_v2.pkl', 'rb') as file:\n",
    "    grid_avg = pickle.load(file)"
   ]
  },
  {
   "cell_type": "code",
   "execution_count": 3,
   "id": "1fbda6f7-bdce-45ad-872c-738a99a66557",
   "metadata": {
    "execution": {
     "iopub.execute_input": "2025-04-05T20:10:25.819599Z",
     "iopub.status.busy": "2025-04-05T20:10:25.818975Z",
     "iopub.status.idle": "2025-04-05T20:10:35.016384Z",
     "shell.execute_reply": "2025-04-05T20:10:35.014944Z",
     "shell.execute_reply.started": "2025-04-05T20:10:25.819574Z"
    }
   },
   "outputs": [],
   "source": [
    "NHD_CA = gpd.read_file(\"NHD_CA.gpkg\")"
   ]
  },
  {
   "cell_type": "code",
   "execution_count": 4,
   "id": "fa1077b7-0768-4209-aa3c-d239ddfa88d4",
   "metadata": {
    "execution": {
     "iopub.execute_input": "2025-04-05T20:10:35.073072Z",
     "iopub.status.busy": "2025-04-05T20:10:35.072616Z",
     "iopub.status.idle": "2025-04-05T20:10:35.087223Z",
     "shell.execute_reply": "2025-04-05T20:10:35.086771Z",
     "shell.execute_reply.started": "2025-04-05T20:10:35.073053Z"
    }
   },
   "outputs": [
    {
     "data": {
      "text/plain": [
       "fcode  fcode_description                                                               \n",
       "48400  Wash                                                                                8947\n",
       "46006  Stream/River: Hydrographic Category = Perennial                                     1797\n",
       "40300  Inundation Area                                                                     1622\n",
       "36400  Foreshore                                                                           1427\n",
       "33600  Canal/Ditch                                                                         1287\n",
       "40308  Inundation Area: Inundation Control Status = Controlled                             1066\n",
       "43100  Rapids                                                                               358\n",
       "40309  Inundation Area: Inundation Control Status = Controlled; Stage = Flood Elevation     186\n",
       "46003  Stream/River: Hydrographic Category = Intermittent                                   183\n",
       "33601  Canal/Ditch: Canal/Ditch Type = Aqueduct                                             153\n",
       "34306  Dam/Weir: Construction Material = Nonearthen                                         112\n",
       "44500  Sea/Ocean                                                                             97\n",
       "40307  Inundation Area: Inundation Control Status = Not Controlled                           93\n",
       "34305  Dam/Weir: Construction Material = Earthen                                             89\n",
       "45500  Spillway                                                                              80\n",
       "34300  Dam/Weir                                                                              67\n",
       "46000  Stream/River                                                                          50\n",
       "46007  Stream/River: Hydrographic Category = Ephemeral                                       18\n",
       "46100  Submerged Stream                                                                      14\n",
       "36200  Flume                                                                                 10\n",
       "31200  Bay/Inlet                                                                              2\n",
       "31800  Bridge                                                                                 2\n",
       "56800  Levee                                                                                  2\n",
       "39800  Lock Chamber                                                                           1\n",
       "33603  Canal Ditch: Canal Ditch Type = Stormwater                                             1\n",
       "48500  Water Intake/Outflow                                                                   1\n",
       "53700  Area of Complex Channels                                                               1\n",
       "Name: count, dtype: int64"
      ]
     },
     "execution_count": 4,
     "metadata": {},
     "output_type": "execute_result"
    }
   ],
   "source": [
    "NHD_CA[[\"fcode\", \"fcode_description\"]].value_counts()"
   ]
  },
  {
   "cell_type": "code",
   "execution_count": 5,
   "id": "ddd0fc38-a820-4259-9005-79b26b2f2b31",
   "metadata": {
    "execution": {
     "iopub.execute_input": "2025-04-05T20:10:35.088460Z",
     "iopub.status.busy": "2025-04-05T20:10:35.088092Z",
     "iopub.status.idle": "2025-04-05T20:10:37.009762Z",
     "shell.execute_reply": "2025-04-05T20:10:37.009218Z",
     "shell.execute_reply.started": "2025-04-05T20:10:35.088441Z"
    }
   },
   "outputs": [],
   "source": [
    "NHD_CA = NHD_CA.to_crs(grid_avg.crs)"
   ]
  },
  {
   "cell_type": "code",
   "execution_count": 6,
   "id": "05780f54-5f80-4fff-b6c0-e46aad490316",
   "metadata": {
    "execution": {
     "iopub.execute_input": "2025-04-05T20:10:37.113693Z",
     "iopub.status.busy": "2025-04-05T20:10:37.113291Z",
     "iopub.status.idle": "2025-04-05T20:10:37.516055Z",
     "shell.execute_reply": "2025-04-05T20:10:37.515399Z",
     "shell.execute_reply.started": "2025-04-05T20:10:37.113674Z"
    }
   },
   "outputs": [],
   "source": [
    "SGMA = \"../data/GWBasins.shp\"\n",
    "gdf = gpd.read_file(SGMA)\n",
    "gdf.set_crs(epsg=3857, inplace=True)\n",
    "gdf.set_index('OBJECTID', inplace=True)\n",
    "gdf['Basin_Prefix'] = gdf['Basin_Numb'].str.split('-').str[0].astype(int)\n",
    "gdf = gdf[gdf['Basin_Numb'] == '5-021']"
   ]
  },
  {
   "cell_type": "code",
   "execution_count": 7,
   "id": "0d067d46-78d0-4740-ac44-174ad826de77",
   "metadata": {
    "execution": {
     "iopub.execute_input": "2025-04-05T20:10:37.573211Z",
     "iopub.status.busy": "2025-04-05T20:10:37.572935Z",
     "iopub.status.idle": "2025-04-05T20:10:37.605874Z",
     "shell.execute_reply": "2025-04-05T20:10:37.605365Z",
     "shell.execute_reply.started": "2025-04-05T20:10:37.573192Z"
    }
   },
   "outputs": [],
   "source": [
    "gdf = gdf.to_crs(NHD_CA.crs)"
   ]
  },
  {
   "cell_type": "code",
   "execution_count": 8,
   "id": "70e20eb4-828b-4a42-8c2a-9de5cc00196b",
   "metadata": {
    "execution": {
     "iopub.execute_input": "2025-04-05T20:10:43.208907Z",
     "iopub.status.busy": "2025-04-05T20:10:43.208598Z",
     "iopub.status.idle": "2025-04-05T20:10:55.869150Z",
     "shell.execute_reply": "2025-04-05T20:10:55.868361Z",
     "shell.execute_reply.started": "2025-04-05T20:10:43.208882Z"
    }
   },
   "outputs": [
    {
     "name": "stderr",
     "output_type": "stream",
     "text": [
      "/tmp/ipykernel_60328/1251911098.py:1: DeprecationWarning: The 'unary_union' attribute is deprecated, use the 'union_all()' method instead.\n",
      "  NHD_CA = NHD_CA[NHD_CA.geometry.intersects(gdf.unary_union)]\n"
     ]
    }
   ],
   "source": [
    "NHD_CA = NHD_CA[NHD_CA.geometry.intersects(gdf.unary_union)]"
   ]
  },
  {
   "cell_type": "code",
   "execution_count": 9,
   "id": "e6a3d217-3683-41dd-b9b5-e6b41fee5c21",
   "metadata": {
    "execution": {
     "iopub.execute_input": "2025-04-05T07:07:30.982495Z",
     "iopub.status.busy": "2025-04-05T07:07:30.982274Z",
     "iopub.status.idle": "2025-04-05T07:07:34.436345Z",
     "shell.execute_reply": "2025-04-05T07:07:34.435917Z",
     "shell.execute_reply.started": "2025-04-05T07:07:30.982478Z"
    }
   },
   "outputs": [
    {
     "name": "stderr",
     "output_type": "stream",
     "text": [
      "/tmp/ipykernel_174662/3088505289.py:1: DeprecationWarning: The 'unary_union' attribute is deprecated, use the 'union_all()' method instead.\n",
      "  water_5021 = NHD_CA.unary_union\n"
     ]
    }
   ],
   "source": [
    "water_5021 = NHD_CA.unary_union"
   ]
  },
  {
   "cell_type": "code",
   "execution_count": 9,
   "id": "1e9bc3fd-3d02-4d71-9b43-509f99bd9cbe",
   "metadata": {
    "execution": {
     "iopub.execute_input": "2025-04-05T20:10:58.241045Z",
     "iopub.status.busy": "2025-04-05T20:10:58.240809Z",
     "iopub.status.idle": "2025-04-05T20:11:00.934222Z",
     "shell.execute_reply": "2025-04-05T20:11:00.933589Z",
     "shell.execute_reply.started": "2025-04-05T20:10:58.241022Z"
    }
   },
   "outputs": [
    {
     "name": "stderr",
     "output_type": "stream",
     "text": [
      "  0%|          | 0/18 [00:00<?, ?it/s]/tmp/ipykernel_60328/2501136280.py:5: DeprecationWarning: The 'unary_union' attribute is deprecated, use the 'union_all()' method instead.\n",
      "  union_geom = group.geometry.unary_union\n",
      "100%|██████████| 18/18 [00:02<00:00,  6.72it/s]\n"
     ]
    }
   ],
   "source": [
    "union_dict = {}\n",
    "code_description_dict = {}\n",
    "\n",
    "for (fcode, description), group in tqdm(NHD_CA.groupby([\"fcode\", \"fcode_description\"])):\n",
    "    union_geom = group.geometry.unary_union\n",
    "    union_dict[fcode] = union_geom\n",
    "    code_description_dict[fcode] = description"
   ]
  },
  {
   "cell_type": "code",
   "execution_count": 11,
   "id": "29b0b663-d2b5-4974-8089-ff96623c87e8",
   "metadata": {
    "execution": {
     "iopub.execute_input": "2025-04-05T07:07:36.609805Z",
     "iopub.status.busy": "2025-04-05T07:07:36.609635Z",
     "iopub.status.idle": "2025-04-05T07:07:36.613395Z",
     "shell.execute_reply": "2025-04-05T07:07:36.613066Z",
     "shell.execute_reply.started": "2025-04-05T07:07:36.609790Z"
    }
   },
   "outputs": [
    {
     "data": {
      "text/plain": [
       "dict_keys([33600, 33601, 34300, 34306, 36400, 39800, 40300, 40307, 40308, 44500, 46000, 46003, 46006, 46007, 46100, 48400, 53700, 56800])"
      ]
     },
     "execution_count": 11,
     "metadata": {},
     "output_type": "execute_result"
    }
   ],
   "source": [
    "union_dict.keys()"
   ]
  },
  {
   "cell_type": "code",
   "execution_count": null,
   "id": "59807aba-cb00-4fb7-a16c-f62143482ffa",
   "metadata": {
    "execution": {
     "iopub.execute_input": "2025-04-05T07:27:23.180925Z",
     "iopub.status.busy": "2025-04-05T07:27:23.180650Z"
    },
    "scrolled": true
   },
   "outputs": [
    {
     "name": "stderr",
     "output_type": "stream",
     "text": [
      "[Parallel(n_jobs=-1)]: Using backend LokyBackend with 32 concurrent workers.\n",
      "26413it [00:56, 468.00it/s] \n",
      "26413it [00:56, 466.19it/s] \n",
      "26413it [00:57, 459.32it/s] \n",
      "26413it [00:56, 465.13it/s] \n",
      "26413it [00:56, 465.09it/s] \n",
      "26413it [00:56, 468.31it/s] \n",
      "26413it [00:57, 461.26it/s] \n",
      "20836it [01:08, 287.00it/s][Parallel(n_jobs=-1)]: Done   3 out of  18 | elapsed:  1.3min remaining:  6.6min\n",
      "26413it [00:57, 462.81it/s] \n",
      "26413it [00:56, 470.98it/s] \n",
      "21538it [01:09, 415.13it/s][Parallel(n_jobs=-1)]: Done   5 out of  18 | elapsed:  1.3min remaining:  3.5min\n",
      "26413it [00:56, 469.65it/s] \n",
      "11303it [01:03, 33.28it/s][Parallel(n_jobs=-1)]: Done   7 out of  18 | elapsed:  1.4min remaining:  2.2min\n",
      "1085it [01:15,  7.37it/s][Parallel(n_jobs=-1)]: Done   9 out of  18 | elapsed:  1.4min remaining:  1.4min\n",
      "26413it [01:04, 409.95it/s] \n",
      "1163it [01:20, 10.32it/s][Parallel(n_jobs=-1)]: Done  11 out of  18 | elapsed:  1.5min remaining:   57.0s\n",
      "26413it [01:20, 329.85it/s] \n",
      "26413it [01:53, 232.28it/s] \n",
      "1970it [02:07, 13.40it/s][Parallel(n_jobs=-1)]: Done  13 out of  18 | elapsed:  2.3min remaining:   52.8s\n",
      "26413it [08:07, 54.18it/s]  \n",
      "26413it [23:01, 19.12it/s] \n",
      "24707it [22:48, 19.58it/s][Parallel(n_jobs=-1)]: Done  15 out of  18 | elapsed: 23.2min remaining:  4.6min\n",
      "26413it [23:28, 18.75it/s] \n",
      "26413it [26:30, 16.61it/s]  \n",
      "8219it [33:10, 10.41it/s]"
     ]
    }
   ],
   "source": [
    "from joblib import Parallel, delayed\n",
    "from tqdm_joblib import tqdm_joblib\n",
    "\n",
    "def func1(fcode):\n",
    "    shape = union_dict.get(fcode)\n",
    "    mask = []\n",
    "    for index, row in tqdm(grid_avg.iterrows()):\n",
    "        if row.geometry.intersects(shape):\n",
    "            mask.append(1)\n",
    "        else:\n",
    "            mask.append(0)\n",
    "    return mask\n",
    "\n",
    "fcodes = list(union_dict.keys())\n",
    "\n",
    "results = Parallel(n_jobs=-1, verbose=10)(\n",
    "    delayed(func1)(num) \n",
    "    for num in fcodes\n",
    ")\n",
    "\n",
    "with open('water_masks.pkl', 'wb') as file:\n",
    "    pickle.dump(results, file)"
   ]
  },
  {
   "cell_type": "code",
   "execution_count": 10,
   "id": "67979f7c-0ecd-47c6-9530-588c3a506e80",
   "metadata": {
    "execution": {
     "iopub.execute_input": "2025-04-05T20:12:10.705434Z",
     "iopub.status.busy": "2025-04-05T20:12:10.704997Z",
     "iopub.status.idle": "2025-04-05T20:12:10.859266Z",
     "shell.execute_reply": "2025-04-05T20:12:10.858557Z",
     "shell.execute_reply.started": "2025-04-05T20:12:10.705407Z"
    }
   },
   "outputs": [],
   "source": [
    "with open('water_masks.pkl', 'rb') as file:\n",
    "    water_masks = pickle.load(file)"
   ]
  },
  {
   "cell_type": "code",
   "execution_count": 15,
   "id": "a41f1971-cde0-478c-9515-ed46f63791a6",
   "metadata": {
    "execution": {
     "iopub.execute_input": "2025-04-05T20:15:06.353703Z",
     "iopub.status.busy": "2025-04-05T20:15:06.353344Z",
     "iopub.status.idle": "2025-04-05T20:15:06.357556Z",
     "shell.execute_reply": "2025-04-05T20:15:06.356850Z",
     "shell.execute_reply.started": "2025-04-05T20:15:06.353679Z"
    }
   },
   "outputs": [],
   "source": [
    "flags = dict(zip(list(union_dict.keys()), water_masks))"
   ]
  },
  {
   "cell_type": "code",
   "execution_count": 20,
   "id": "add06352-3f82-4266-87a6-05cac92a5354",
   "metadata": {
    "execution": {
     "iopub.execute_input": "2025-04-05T20:17:14.292156Z",
     "iopub.status.busy": "2025-04-05T20:17:14.291828Z",
     "iopub.status.idle": "2025-04-05T20:17:14.798117Z",
     "shell.execute_reply": "2025-04-05T20:17:14.797436Z",
     "shell.execute_reply.started": "2025-04-05T20:17:14.292130Z"
    }
   },
   "outputs": [],
   "source": [
    "grid_avg = grid_avg.assign(**{str(key): value for key, value in flags.items()})"
   ]
  },
  {
   "cell_type": "code",
   "execution_count": 41,
   "id": "90c3874d-c341-403d-9395-1f889cdf3f83",
   "metadata": {
    "execution": {
     "iopub.execute_input": "2025-04-05T20:37:51.658515Z",
     "iopub.status.busy": "2025-04-05T20:37:51.658132Z",
     "iopub.status.idle": "2025-04-05T20:37:56.500596Z",
     "shell.execute_reply": "2025-04-05T20:37:56.499788Z",
     "shell.execute_reply.started": "2025-04-05T20:37:51.658495Z"
    }
   },
   "outputs": [],
   "source": [
    "with open('grid_large_std_v2.pkl', 'wb') as file:\n",
    "    pickle.dump(grid_avg, file)"
   ]
  },
  {
   "cell_type": "code",
   "execution_count": 40,
   "id": "4b9cd58a-4628-4d4b-a40d-907b769688af",
   "metadata": {
    "execution": {
     "iopub.execute_input": "2025-04-05T20:37:45.492179Z",
     "iopub.status.busy": "2025-04-05T20:37:45.491909Z",
     "iopub.status.idle": "2025-04-05T20:37:45.501766Z",
     "shell.execute_reply": "2025-04-05T20:37:45.501188Z",
     "shell.execute_reply.started": "2025-04-05T20:37:45.492159Z"
    }
   },
   "outputs": [],
   "source": [
    "cols_to_fill = ['Dry_Year_Avg_Z', 'Wet_Year_Avg_Z', 'Difference_Z']\n",
    "grid_avg[cols_to_fill] = grid_avg[cols_to_fill].fillna(0)"
   ]
  },
  {
   "cell_type": "code",
   "execution_count": 3,
   "id": "dbc4539e-831b-44a3-80a3-abc50c9526dc",
   "metadata": {
    "execution": {
     "iopub.execute_input": "2025-04-05T21:26:58.885187Z",
     "iopub.status.busy": "2025-04-05T21:26:58.884937Z",
     "iopub.status.idle": "2025-04-05T21:26:58.907497Z",
     "shell.execute_reply": "2025-04-05T21:26:58.907133Z",
     "shell.execute_reply.started": "2025-04-05T21:26:58.885170Z"
    }
   },
   "outputs": [
    {
     "data": {
      "text/plain": [
       "439.8572816848755"
      ]
     },
     "execution_count": 3,
     "metadata": {},
     "output_type": "execute_result"
    }
   ],
   "source": [
    "grid_avg.memory_usage(deep=True).sum() / (1024 ** 2)"
   ]
  },
  {
   "cell_type": "code",
   "execution_count": 29,
   "id": "a62177cd-e917-4970-a3f1-bf561f4dc92d",
   "metadata": {
    "execution": {
     "iopub.execute_input": "2025-04-05T22:25:18.272590Z",
     "iopub.status.busy": "2025-04-05T22:25:18.272362Z",
     "iopub.status.idle": "2025-04-05T22:25:20.752788Z",
     "shell.execute_reply": "2025-04-05T22:25:20.750669Z",
     "shell.execute_reply.started": "2025-04-05T22:25:18.272570Z"
    }
   },
   "outputs": [],
   "source": [
    "with open('grid_large_std_v2.pkl', 'rb') as file:\n",
    "    grid_avg = pickle.load(file)"
   ]
  },
  {
   "cell_type": "code",
   "execution_count": 3,
   "id": "25b3f4bf-13b7-48fd-86ed-e3daa7c6e8fa",
   "metadata": {
    "execution": {
     "iopub.execute_input": "2025-04-05T22:11:57.564586Z",
     "iopub.status.busy": "2025-04-05T22:11:57.562551Z",
     "iopub.status.idle": "2025-04-05T22:11:59.421708Z",
     "shell.execute_reply": "2025-04-05T22:11:59.420950Z",
     "shell.execute_reply.started": "2025-04-05T22:11:57.564564Z"
    }
   },
   "outputs": [],
   "source": [
    "with open('grid_large_std.pkl', 'rb') as file:\n",
    "    grid = pickle.load(file)"
   ]
  },
  {
   "cell_type": "code",
   "execution_count": 4,
   "id": "1f2be11a-60c0-4507-8447-7a474190797a",
   "metadata": {
    "execution": {
     "iopub.execute_input": "2025-04-05T22:11:59.423178Z",
     "iopub.status.busy": "2025-04-05T22:11:59.422803Z",
     "iopub.status.idle": "2025-04-05T22:12:02.083494Z",
     "shell.execute_reply": "2025-04-05T22:12:02.082917Z",
     "shell.execute_reply.started": "2025-04-05T22:11:59.423158Z"
    }
   },
   "outputs": [
    {
     "data": {
      "text/plain": [
       "(461223789, 455096105)"
      ]
     },
     "execution_count": 4,
     "metadata": {},
     "output_type": "execute_result"
    }
   ],
   "source": [
    "grid_avg.memory_usage(deep=True).sum(), grid.memory_usage(deep=True).sum()"
   ]
  },
  {
   "cell_type": "code",
   "execution_count": 34,
   "id": "82d4acfd-706a-4722-b870-40f87198d639",
   "metadata": {
    "execution": {
     "iopub.execute_input": "2025-04-05T22:29:02.869812Z",
     "iopub.status.busy": "2025-04-05T22:29:02.869570Z",
     "iopub.status.idle": "2025-04-05T22:29:04.537841Z",
     "shell.execute_reply": "2025-04-05T22:29:04.537119Z",
     "shell.execute_reply.started": "2025-04-05T22:29:02.869793Z"
    }
   },
   "outputs": [],
   "source": [
    "grid_large_std_v2 = grid_avg.copy(deep=True)"
   ]
  },
  {
   "cell_type": "code",
   "execution_count": 35,
   "id": "d8c83bb5-21eb-42c2-aeb9-5f3d608f8382",
   "metadata": {
    "execution": {
     "iopub.execute_input": "2025-04-05T22:29:05.849980Z",
     "iopub.status.busy": "2025-04-05T22:29:05.849746Z",
     "iopub.status.idle": "2025-04-05T22:29:06.744814Z",
     "shell.execute_reply": "2025-04-05T22:29:06.744224Z",
     "shell.execute_reply.started": "2025-04-05T22:29:05.849961Z"
    }
   },
   "outputs": [],
   "source": [
    "grid_large_std_v2 = grid_large_std_v2.reset_index(drop=True)"
   ]
  },
  {
   "cell_type": "code",
   "execution_count": 36,
   "id": "3e07cb23-23d0-47c6-a846-163224e3e4db",
   "metadata": {
    "execution": {
     "iopub.execute_input": "2025-04-05T22:29:08.502557Z",
     "iopub.status.busy": "2025-04-05T22:29:08.502318Z",
     "iopub.status.idle": "2025-04-05T22:29:19.690211Z",
     "shell.execute_reply": "2025-04-05T22:29:19.688289Z",
     "shell.execute_reply.started": "2025-04-05T22:29:08.502538Z"
    }
   },
   "outputs": [],
   "source": [
    "for col in grid_large_std_v2.select_dtypes(include=['int']).columns:\n",
    "    grid_large_std_v2[col] = pd.to_numeric(grid_large_std_v2[col], downcast='integer')\n",
    "    \n",
    "# For float columns\n",
    "for col in grid_large_std_v2.select_dtypes(include=['float']).columns:\n",
    "    grid_large_std_v2[col] = pd.to_numeric(grid_large_std_v2[col], downcast='float')"
   ]
  },
  {
   "cell_type": "code",
   "execution_count": 37,
   "id": "2316e8d2-29ac-43cf-8d26-c8cc468038e4",
   "metadata": {
    "execution": {
     "iopub.execute_input": "2025-04-05T22:29:21.336382Z",
     "iopub.status.busy": "2025-04-05T22:29:21.336128Z",
     "iopub.status.idle": "2025-04-05T22:29:21.566424Z",
     "shell.execute_reply": "2025-04-05T22:29:21.565810Z",
     "shell.execute_reply.started": "2025-04-05T22:29:21.336361Z"
    }
   },
   "outputs": [
    {
     "data": {
      "text/plain": [
       "180532970"
      ]
     },
     "execution_count": 37,
     "metadata": {},
     "output_type": "execute_result"
    }
   ],
   "source": [
    "grid_large_std_v2.memory_usage(deep=True).sum()"
   ]
  },
  {
   "cell_type": "code",
   "execution_count": 38,
   "id": "ec678387-5420-4af9-a590-c32e23214ff1",
   "metadata": {
    "execution": {
     "iopub.execute_input": "2025-04-05T22:29:58.944419Z",
     "iopub.status.busy": "2025-04-05T22:29:58.944181Z",
     "iopub.status.idle": "2025-04-05T22:30:16.524774Z",
     "shell.execute_reply": "2025-04-05T22:30:16.523935Z",
     "shell.execute_reply.started": "2025-04-05T22:29:58.944400Z"
    }
   },
   "outputs": [],
   "source": [
    "grid_large_std_v2.to_parquet('grid_large_std_v2.parquet')"
   ]
  },
  {
   "cell_type": "code",
   "execution_count": 2,
   "id": "a670e469-13bc-44fa-8fad-c992767d819c",
   "metadata": {
    "execution": {
     "iopub.execute_input": "2025-04-05T22:58:12.146593Z",
     "iopub.status.busy": "2025-04-05T22:58:12.146190Z",
     "iopub.status.idle": "2025-04-05T22:58:14.977182Z",
     "shell.execute_reply": "2025-04-05T22:58:14.976501Z",
     "shell.execute_reply.started": "2025-04-05T22:58:12.146565Z"
    }
   },
   "outputs": [],
   "source": [
    "v2 = pd.read_parquet('grid_large_std_v2.parquet')"
   ]
  },
  {
   "cell_type": "code",
   "execution_count": 3,
   "id": "b21647d9-51bd-4143-8d89-13842d72d7e4",
   "metadata": {
    "execution": {
     "iopub.execute_input": "2025-04-05T22:58:16.516965Z",
     "iopub.status.busy": "2025-04-05T22:58:16.516712Z",
     "iopub.status.idle": "2025-04-05T22:58:16.550094Z",
     "shell.execute_reply": "2025-04-05T22:58:16.549416Z",
     "shell.execute_reply.started": "2025-04-05T22:58:16.516941Z"
    }
   },
   "outputs": [
    {
     "data": {
      "text/html": [
       "<div>\n",
       "<style scoped>\n",
       "    .dataframe tbody tr th:only-of-type {\n",
       "        vertical-align: middle;\n",
       "    }\n",
       "\n",
       "    .dataframe tbody tr th {\n",
       "        vertical-align: top;\n",
       "    }\n",
       "\n",
       "    .dataframe thead th {\n",
       "        text-align: right;\n",
       "    }\n",
       "</style>\n",
       "<table border=\"1\" class=\"dataframe\">\n",
       "  <thead>\n",
       "    <tr style=\"text-align: right;\">\n",
       "      <th></th>\n",
       "      <th>color</th>\n",
       "      <th>gradient</th>\n",
       "      <th>p_slope</th>\n",
       "      <th>ones</th>\n",
       "      <th>longitude</th>\n",
       "      <th>latitude</th>\n",
       "      <th>geometry</th>\n",
       "      <th>cdl_val_2010</th>\n",
       "      <th>cdl_val_2015</th>\n",
       "      <th>cdl_val_2020</th>\n",
       "      <th>...</th>\n",
       "      <th>46000</th>\n",
       "      <th>46003</th>\n",
       "      <th>46006</th>\n",
       "      <th>46007</th>\n",
       "      <th>46100</th>\n",
       "      <th>48400</th>\n",
       "      <th>53700</th>\n",
       "      <th>56800</th>\n",
       "      <th>gradient_flag</th>\n",
       "      <th>p_slope_flag</th>\n",
       "    </tr>\n",
       "  </thead>\n",
       "  <tbody>\n",
       "    <tr>\n",
       "      <th>0</th>\n",
       "      <td>#8c6a18</td>\n",
       "      <td>0.0</td>\n",
       "      <td>0.0</td>\n",
       "      <td>1</td>\n",
       "      <td>-122.559174</td>\n",
       "      <td>40.134506</td>\n",
       "      <td>b'\\x01\\x03\\x00\\x00\\x00\\x01\\x00\\x00\\x00\\x05\\x00...</td>\n",
       "      <td>1.128056</td>\n",
       "      <td>0.868350</td>\n",
       "      <td>0.804702</td>\n",
       "      <td>...</td>\n",
       "      <td>0</td>\n",
       "      <td>0</td>\n",
       "      <td>0</td>\n",
       "      <td>0</td>\n",
       "      <td>0</td>\n",
       "      <td>0</td>\n",
       "      <td>0</td>\n",
       "      <td>0</td>\n",
       "      <td>1</td>\n",
       "      <td>1</td>\n",
       "    </tr>\n",
       "    <tr>\n",
       "      <th>1</th>\n",
       "      <td>#1a8ed1</td>\n",
       "      <td>0.0</td>\n",
       "      <td>0.0</td>\n",
       "      <td>1</td>\n",
       "      <td>-122.559174</td>\n",
       "      <td>40.141373</td>\n",
       "      <td>b'\\x01\\x03\\x00\\x00\\x00\\x01\\x00\\x00\\x00\\x05\\x00...</td>\n",
       "      <td>0.782103</td>\n",
       "      <td>0.868350</td>\n",
       "      <td>0.804702</td>\n",
       "      <td>...</td>\n",
       "      <td>0</td>\n",
       "      <td>0</td>\n",
       "      <td>0</td>\n",
       "      <td>0</td>\n",
       "      <td>0</td>\n",
       "      <td>0</td>\n",
       "      <td>0</td>\n",
       "      <td>0</td>\n",
       "      <td>1</td>\n",
       "      <td>1</td>\n",
       "    </tr>\n",
       "    <tr>\n",
       "      <th>2</th>\n",
       "      <td>#cb43be</td>\n",
       "      <td>0.0</td>\n",
       "      <td>0.0</td>\n",
       "      <td>1</td>\n",
       "      <td>-122.559174</td>\n",
       "      <td>40.148243</td>\n",
       "      <td>b'\\x01\\x03\\x00\\x00\\x00\\x01\\x00\\x00\\x00\\x05\\x00...</td>\n",
       "      <td>1.128056</td>\n",
       "      <td>0.868350</td>\n",
       "      <td>0.804702</td>\n",
       "      <td>...</td>\n",
       "      <td>0</td>\n",
       "      <td>0</td>\n",
       "      <td>0</td>\n",
       "      <td>0</td>\n",
       "      <td>0</td>\n",
       "      <td>0</td>\n",
       "      <td>0</td>\n",
       "      <td>0</td>\n",
       "      <td>1</td>\n",
       "      <td>1</td>\n",
       "    </tr>\n",
       "    <tr>\n",
       "      <th>3</th>\n",
       "      <td>#1eded1</td>\n",
       "      <td>0.0</td>\n",
       "      <td>0.0</td>\n",
       "      <td>1</td>\n",
       "      <td>-122.559174</td>\n",
       "      <td>40.161972</td>\n",
       "      <td>b'\\x01\\x03\\x00\\x00\\x00\\x01\\x00\\x00\\x00\\x05\\x00...</td>\n",
       "      <td>1.128056</td>\n",
       "      <td>0.868350</td>\n",
       "      <td>0.804702</td>\n",
       "      <td>...</td>\n",
       "      <td>0</td>\n",
       "      <td>0</td>\n",
       "      <td>0</td>\n",
       "      <td>0</td>\n",
       "      <td>0</td>\n",
       "      <td>0</td>\n",
       "      <td>0</td>\n",
       "      <td>0</td>\n",
       "      <td>1</td>\n",
       "      <td>1</td>\n",
       "    </tr>\n",
       "    <tr>\n",
       "      <th>4</th>\n",
       "      <td>#9fdb09</td>\n",
       "      <td>0.0</td>\n",
       "      <td>0.0</td>\n",
       "      <td>1</td>\n",
       "      <td>-122.559174</td>\n",
       "      <td>40.168839</td>\n",
       "      <td>b'\\x01\\x03\\x00\\x00\\x00\\x01\\x00\\x00\\x00\\x05\\x00...</td>\n",
       "      <td>1.128056</td>\n",
       "      <td>0.868350</td>\n",
       "      <td>0.804702</td>\n",
       "      <td>...</td>\n",
       "      <td>0</td>\n",
       "      <td>0</td>\n",
       "      <td>0</td>\n",
       "      <td>0</td>\n",
       "      <td>0</td>\n",
       "      <td>0</td>\n",
       "      <td>0</td>\n",
       "      <td>0</td>\n",
       "      <td>1</td>\n",
       "      <td>1</td>\n",
       "    </tr>\n",
       "    <tr>\n",
       "      <th>...</th>\n",
       "      <td>...</td>\n",
       "      <td>...</td>\n",
       "      <td>...</td>\n",
       "      <td>...</td>\n",
       "      <td>...</td>\n",
       "      <td>...</td>\n",
       "      <td>...</td>\n",
       "      <td>...</td>\n",
       "      <td>...</td>\n",
       "      <td>...</td>\n",
       "      <td>...</td>\n",
       "      <td>...</td>\n",
       "      <td>...</td>\n",
       "      <td>...</td>\n",
       "      <td>...</td>\n",
       "      <td>...</td>\n",
       "      <td>...</td>\n",
       "      <td>...</td>\n",
       "      <td>...</td>\n",
       "      <td>...</td>\n",
       "      <td>...</td>\n",
       "    </tr>\n",
       "    <tr>\n",
       "      <th>26408</th>\n",
       "      <td>#23a270</td>\n",
       "      <td>0.0</td>\n",
       "      <td>0.0</td>\n",
       "      <td>1</td>\n",
       "      <td>-121.606964</td>\n",
       "      <td>38.501446</td>\n",
       "      <td>b\"\\x01\\x03\\x00\\x00\\x00\\x01\\x00\\x00\\x00\\x05\\x00...</td>\n",
       "      <td>-0.529636</td>\n",
       "      <td>-0.579176</td>\n",
       "      <td>-1.476969</td>\n",
       "      <td>...</td>\n",
       "      <td>0</td>\n",
       "      <td>0</td>\n",
       "      <td>0</td>\n",
       "      <td>0</td>\n",
       "      <td>0</td>\n",
       "      <td>0</td>\n",
       "      <td>0</td>\n",
       "      <td>0</td>\n",
       "      <td>1</td>\n",
       "      <td>1</td>\n",
       "    </tr>\n",
       "    <tr>\n",
       "      <th>26409</th>\n",
       "      <td>#23fe25</td>\n",
       "      <td>0.0</td>\n",
       "      <td>0.0</td>\n",
       "      <td>1</td>\n",
       "      <td>-121.606964</td>\n",
       "      <td>38.536591</td>\n",
       "      <td>b'\\x01\\x03\\x00\\x00\\x00\\x01\\x00\\x00\\x00\\x05\\x00...</td>\n",
       "      <td>-1.394518</td>\n",
       "      <td>-0.849593</td>\n",
       "      <td>-0.849126</td>\n",
       "      <td>...</td>\n",
       "      <td>0</td>\n",
       "      <td>0</td>\n",
       "      <td>0</td>\n",
       "      <td>0</td>\n",
       "      <td>0</td>\n",
       "      <td>0</td>\n",
       "      <td>0</td>\n",
       "      <td>0</td>\n",
       "      <td>1</td>\n",
       "      <td>1</td>\n",
       "    </tr>\n",
       "    <tr>\n",
       "      <th>26410</th>\n",
       "      <td>#1279cc</td>\n",
       "      <td>0.0</td>\n",
       "      <td>0.0</td>\n",
       "      <td>1</td>\n",
       "      <td>-121.606964</td>\n",
       "      <td>38.543617</td>\n",
       "      <td>b\"\\x01\\x03\\x00\\x00\\x00\\x01\\x00\\x00\\x00\\x05\\x00...</td>\n",
       "      <td>-1.365689</td>\n",
       "      <td>-1.501775</td>\n",
       "      <td>-1.476969</td>\n",
       "      <td>...</td>\n",
       "      <td>0</td>\n",
       "      <td>0</td>\n",
       "      <td>0</td>\n",
       "      <td>0</td>\n",
       "      <td>0</td>\n",
       "      <td>0</td>\n",
       "      <td>0</td>\n",
       "      <td>0</td>\n",
       "      <td>1</td>\n",
       "      <td>1</td>\n",
       "    </tr>\n",
       "    <tr>\n",
       "      <th>26411</th>\n",
       "      <td>#c8306b</td>\n",
       "      <td>0.0</td>\n",
       "      <td>0.0</td>\n",
       "      <td>1</td>\n",
       "      <td>-121.400352</td>\n",
       "      <td>38.254971</td>\n",
       "      <td>b'\\x01\\x03\\x00\\x00\\x00\\x01\\x00\\x00\\x00\\x05\\x00...</td>\n",
       "      <td>-1.365689</td>\n",
       "      <td>-0.579176</td>\n",
       "      <td>-0.971632</td>\n",
       "      <td>...</td>\n",
       "      <td>0</td>\n",
       "      <td>0</td>\n",
       "      <td>1</td>\n",
       "      <td>0</td>\n",
       "      <td>0</td>\n",
       "      <td>0</td>\n",
       "      <td>0</td>\n",
       "      <td>0</td>\n",
       "      <td>1</td>\n",
       "      <td>1</td>\n",
       "    </tr>\n",
       "    <tr>\n",
       "      <th>26412</th>\n",
       "      <td>#0d5ad9</td>\n",
       "      <td>0.0</td>\n",
       "      <td>0.0</td>\n",
       "      <td>1</td>\n",
       "      <td>-121.382385</td>\n",
       "      <td>38.276131</td>\n",
       "      <td>b'\\x01\\x03\\x00\\x00\\x00\\x01\\x00\\x00\\x00\\x05\\x00...</td>\n",
       "      <td>1.128056</td>\n",
       "      <td>1.250115</td>\n",
       "      <td>1.172220</td>\n",
       "      <td>...</td>\n",
       "      <td>0</td>\n",
       "      <td>0</td>\n",
       "      <td>0</td>\n",
       "      <td>0</td>\n",
       "      <td>0</td>\n",
       "      <td>0</td>\n",
       "      <td>0</td>\n",
       "      <td>0</td>\n",
       "      <td>1</td>\n",
       "      <td>1</td>\n",
       "    </tr>\n",
       "  </tbody>\n",
       "</table>\n",
       "<p>26413 rows × 2809 columns</p>\n",
       "</div>"
      ],
      "text/plain": [
       "         color  gradient  p_slope  ones   longitude   latitude  \\\n",
       "0      #8c6a18       0.0      0.0     1 -122.559174  40.134506   \n",
       "1      #1a8ed1       0.0      0.0     1 -122.559174  40.141373   \n",
       "2      #cb43be       0.0      0.0     1 -122.559174  40.148243   \n",
       "3      #1eded1       0.0      0.0     1 -122.559174  40.161972   \n",
       "4      #9fdb09       0.0      0.0     1 -122.559174  40.168839   \n",
       "...        ...       ...      ...   ...         ...        ...   \n",
       "26408  #23a270       0.0      0.0     1 -121.606964  38.501446   \n",
       "26409  #23fe25       0.0      0.0     1 -121.606964  38.536591   \n",
       "26410  #1279cc       0.0      0.0     1 -121.606964  38.543617   \n",
       "26411  #c8306b       0.0      0.0     1 -121.400352  38.254971   \n",
       "26412  #0d5ad9       0.0      0.0     1 -121.382385  38.276131   \n",
       "\n",
       "                                                geometry  cdl_val_2010  \\\n",
       "0      b'\\x01\\x03\\x00\\x00\\x00\\x01\\x00\\x00\\x00\\x05\\x00...      1.128056   \n",
       "1      b'\\x01\\x03\\x00\\x00\\x00\\x01\\x00\\x00\\x00\\x05\\x00...      0.782103   \n",
       "2      b'\\x01\\x03\\x00\\x00\\x00\\x01\\x00\\x00\\x00\\x05\\x00...      1.128056   \n",
       "3      b'\\x01\\x03\\x00\\x00\\x00\\x01\\x00\\x00\\x00\\x05\\x00...      1.128056   \n",
       "4      b'\\x01\\x03\\x00\\x00\\x00\\x01\\x00\\x00\\x00\\x05\\x00...      1.128056   \n",
       "...                                                  ...           ...   \n",
       "26408  b\"\\x01\\x03\\x00\\x00\\x00\\x01\\x00\\x00\\x00\\x05\\x00...     -0.529636   \n",
       "26409  b'\\x01\\x03\\x00\\x00\\x00\\x01\\x00\\x00\\x00\\x05\\x00...     -1.394518   \n",
       "26410  b\"\\x01\\x03\\x00\\x00\\x00\\x01\\x00\\x00\\x00\\x05\\x00...     -1.365689   \n",
       "26411  b'\\x01\\x03\\x00\\x00\\x00\\x01\\x00\\x00\\x00\\x05\\x00...     -1.365689   \n",
       "26412  b'\\x01\\x03\\x00\\x00\\x00\\x01\\x00\\x00\\x00\\x05\\x00...      1.128056   \n",
       "\n",
       "       cdl_val_2015  cdl_val_2020  ...  46000  46003  46006  46007  46100  \\\n",
       "0          0.868350      0.804702  ...      0      0      0      0      0   \n",
       "1          0.868350      0.804702  ...      0      0      0      0      0   \n",
       "2          0.868350      0.804702  ...      0      0      0      0      0   \n",
       "3          0.868350      0.804702  ...      0      0      0      0      0   \n",
       "4          0.868350      0.804702  ...      0      0      0      0      0   \n",
       "...             ...           ...  ...    ...    ...    ...    ...    ...   \n",
       "26408     -0.579176     -1.476969  ...      0      0      0      0      0   \n",
       "26409     -0.849593     -0.849126  ...      0      0      0      0      0   \n",
       "26410     -1.501775     -1.476969  ...      0      0      0      0      0   \n",
       "26411     -0.579176     -0.971632  ...      0      0      1      0      0   \n",
       "26412      1.250115      1.172220  ...      0      0      0      0      0   \n",
       "\n",
       "       48400  53700  56800  gradient_flag  p_slope_flag  \n",
       "0          0      0      0              1             1  \n",
       "1          0      0      0              1             1  \n",
       "2          0      0      0              1             1  \n",
       "3          0      0      0              1             1  \n",
       "4          0      0      0              1             1  \n",
       "...      ...    ...    ...            ...           ...  \n",
       "26408      0      0      0              1             1  \n",
       "26409      0      0      0              1             1  \n",
       "26410      0      0      0              1             1  \n",
       "26411      0      0      0              1             1  \n",
       "26412      0      0      0              1             1  \n",
       "\n",
       "[26413 rows x 2809 columns]"
      ]
     },
     "execution_count": 3,
     "metadata": {},
     "output_type": "execute_result"
    }
   ],
   "source": [
    "v2"
   ]
  },
  {
   "cell_type": "code",
   "execution_count": 5,
   "id": "2ad8fa4c-e948-49ef-ba9d-70833f998747",
   "metadata": {
    "execution": {
     "iopub.execute_input": "2025-04-05T22:59:50.838196Z",
     "iopub.status.busy": "2025-04-05T22:59:50.837899Z",
     "iopub.status.idle": "2025-04-05T22:59:50.865791Z",
     "shell.execute_reply": "2025-04-05T22:59:50.865111Z",
     "shell.execute_reply.started": "2025-04-05T22:59:50.838172Z"
    }
   },
   "outputs": [],
   "source": [
    "v2[[\"ones\", \"longitude\", \"latitude\", \"PercentCoarse\"]].to_parquet('ones.parquet')"
   ]
  },
  {
   "cell_type": "markdown",
   "id": "65b757a1-4eb9-48f0-abe7-01c05a55475a",
   "metadata": {},
   "source": [
    "### Doing deeper slices"
   ]
  },
  {
   "cell_type": "code",
   "execution_count": 2,
   "id": "56baf63d-359c-4942-b2db-118454de4cf0",
   "metadata": {
    "execution": {
     "iopub.execute_input": "2025-04-12T20:41:28.986814Z",
     "iopub.status.busy": "2025-04-12T20:41:28.986547Z",
     "iopub.status.idle": "2025-04-12T20:41:29.035304Z",
     "shell.execute_reply": "2025-04-12T20:41:29.034982Z",
     "shell.execute_reply.started": "2025-04-12T20:41:28.986800Z"
    }
   },
   "outputs": [],
   "source": [
    "with open('aem_15_150_grid.pkl', 'rb') as f:\n",
    "    depth_slices = pickle.load(f)"
   ]
  },
  {
   "cell_type": "code",
   "execution_count": 4,
   "id": "53c82f8e-f0b6-415e-a265-1903c7c36219",
   "metadata": {
    "execution": {
     "iopub.execute_input": "2025-04-12T20:42:06.483494Z",
     "iopub.status.busy": "2025-04-12T20:42:06.483231Z",
     "iopub.status.idle": "2025-04-12T20:42:06.765097Z",
     "shell.execute_reply": "2025-04-12T20:42:06.764711Z",
     "shell.execute_reply.started": "2025-04-12T20:42:06.483471Z"
    }
   },
   "outputs": [],
   "source": [
    "cvhm = pd.read_csv(\"GA-sklearn/cvhm_PC.csv\")"
   ]
  },
  {
   "cell_type": "code",
   "execution_count": 7,
   "id": "1083e4f2-fa6a-494a-b05d-e07a2b5c0923",
   "metadata": {
    "execution": {
     "iopub.execute_input": "2025-04-12T20:45:32.628454Z",
     "iopub.status.busy": "2025-04-12T20:45:32.628208Z",
     "iopub.status.idle": "2025-04-12T20:45:32.643997Z",
     "shell.execute_reply": "2025-04-12T20:45:32.643638Z",
     "shell.execute_reply.started": "2025-04-12T20:45:32.628439Z"
    }
   },
   "outputs": [],
   "source": [
    "cvhm_gdf = gpd.GeoDataFrame(cvhm, geometry=gpd.points_from_xy(cvhm.X_COORD, cvhm.Y_COORD))\n",
    "\n",
    "crs_albers = {\n",
    "    'proj': 'aea',           # Albers Equal Area Conic projection\n",
    "    'lat_1': 29.5,           # First standard parallel\n",
    "    'lat_2': 45.5,           # Second standard parallel\n",
    "    'lat_0': 23.0,           # Latitude of origin\n",
    "    'lon_0': -120.0,         # Central meridian\n",
    "    'x_0': 0,                # False easting\n",
    "    'y_0': 0,                # False northing\n",
    "    'datum': 'NAD83',        # Datum\n",
    "    'units': 'm'             # Linear unit in meters\n",
    "}\n",
    "\n",
    "cvhm_gdf = cvhm_gdf.set_crs(crs_albers)"
   ]
  },
  {
   "cell_type": "code",
   "execution_count": 11,
   "id": "15d340d7-cb87-481b-8d26-23d31b415a11",
   "metadata": {
    "execution": {
     "iopub.execute_input": "2025-04-12T20:51:01.398402Z",
     "iopub.status.busy": "2025-04-12T20:51:01.398233Z",
     "iopub.status.idle": "2025-04-12T20:51:01.400314Z",
     "shell.execute_reply": "2025-04-12T20:51:01.400011Z",
     "shell.execute_reply.started": "2025-04-12T20:51:01.398392Z"
    }
   },
   "outputs": [],
   "source": [
    "cvhm_cols = [\"PC_D75\", \"PC_D125\", \"PC_D175\", \"PC_D225\",\n",
    "             \"PC_D275\", \"PC_D325\", \"PC_D375\", \"PC_D425\", \"PC_D475\", \"geometry\"]"
   ]
  },
  {
   "cell_type": "code",
   "execution_count": 15,
   "id": "5b9bda58-81a5-472d-9280-fc7459ca36f5",
   "metadata": {
    "execution": {
     "iopub.execute_input": "2025-04-12T20:52:31.778294Z",
     "iopub.status.busy": "2025-04-12T20:52:31.778115Z",
     "iopub.status.idle": "2025-04-12T20:52:32.173205Z",
     "shell.execute_reply": "2025-04-12T20:52:32.172896Z",
     "shell.execute_reply.started": "2025-04-12T20:52:31.778283Z"
    }
   },
   "outputs": [],
   "source": [
    "cvhm_gdf.to_crs(depth_slices.crs, inplace=True)"
   ]
  },
  {
   "cell_type": "code",
   "execution_count": 105,
   "id": "96f7e087-3cef-44f3-891d-3c8254089816",
   "metadata": {
    "execution": {
     "iopub.execute_input": "2025-04-12T22:19:55.671252Z",
     "iopub.status.busy": "2025-04-12T22:19:55.671010Z",
     "iopub.status.idle": "2025-04-12T22:19:55.913064Z",
     "shell.execute_reply": "2025-04-12T22:19:55.912656Z",
     "shell.execute_reply.started": "2025-04-12T22:19:55.671236Z"
    }
   },
   "outputs": [],
   "source": [
    "with open('grid_large_std_v2.pkl', 'rb') as f:\n",
    "    grid_v2 = pickle.load(f)"
   ]
  },
  {
   "cell_type": "code",
   "execution_count": 106,
   "id": "ae804282-1960-4b78-9d91-687412d3fd32",
   "metadata": {
    "execution": {
     "iopub.execute_input": "2025-04-12T22:19:56.555109Z",
     "iopub.status.busy": "2025-04-12T22:19:56.554932Z",
     "iopub.status.idle": "2025-04-12T22:19:56.559008Z",
     "shell.execute_reply": "2025-04-12T22:19:56.558693Z",
     "shell.execute_reply.started": "2025-04-12T22:19:56.555096Z"
    }
   },
   "outputs": [],
   "source": [
    "cvhm_gdf.to_crs(grid_v2.crs, inplace=True)\n",
    "depth_slices.to_crs(grid_v2.crs, inplace=True)"
   ]
  },
  {
   "cell_type": "code",
   "execution_count": 25,
   "id": "59d7ac74-7279-45ca-8148-a26ae5f93a44",
   "metadata": {
    "execution": {
     "iopub.execute_input": "2025-04-12T21:01:41.674176Z",
     "iopub.status.busy": "2025-04-12T21:01:41.673969Z",
     "iopub.status.idle": "2025-04-12T21:01:41.880395Z",
     "shell.execute_reply": "2025-04-12T21:01:41.880069Z",
     "shell.execute_reply.started": "2025-04-12T21:01:41.674163Z"
    }
   },
   "outputs": [],
   "source": [
    "cvhm_gridded = gpd.sjoin_nearest(grid_v2[[\"geometry\"]], \n",
    "                           cvhm_gdf[cvhm_cols], \n",
    "                           how='left', \n",
    "                           distance_col='distance')"
   ]
  },
  {
   "cell_type": "code",
   "execution_count": 109,
   "id": "077877dd-72e3-4b92-8609-73364437c7a5",
   "metadata": {
    "execution": {
     "iopub.execute_input": "2025-04-12T22:20:20.280356Z",
     "iopub.status.busy": "2025-04-12T22:20:20.280139Z",
     "iopub.status.idle": "2025-04-12T22:20:20.421922Z",
     "shell.execute_reply": "2025-04-12T22:20:20.421517Z",
     "shell.execute_reply.started": "2025-04-12T22:20:20.280343Z"
    }
   },
   "outputs": [],
   "source": [
    "grid_v2 = grid_v2.drop(columns=[\"avg_PC_D25_z\", \"index_right\"])"
   ]
  },
  {
   "cell_type": "code",
   "execution_count": null,
   "id": "8794f4b1-1e04-4981-95c5-c487f550beb6",
   "metadata": {},
   "outputs": [],
   "source": [
    "cvhm_gridded = cvhm_gridded.drop(columns=\"distance\")"
   ]
  },
  {
   "cell_type": "code",
   "execution_count": 67,
   "id": "a25a860d-a9ff-4563-9008-0390702536ca",
   "metadata": {
    "execution": {
     "iopub.execute_input": "2025-04-12T21:54:35.041044Z",
     "iopub.status.busy": "2025-04-12T21:54:35.040848Z",
     "iopub.status.idle": "2025-04-12T21:55:19.771352Z",
     "shell.execute_reply": "2025-04-12T21:55:19.770827Z",
     "shell.execute_reply.started": "2025-04-12T21:54:35.041032Z"
    }
   },
   "outputs": [],
   "source": [
    "a = gpd.sjoin_nearest(grid_v2, \n",
    "                           cvhm_gridded[[\"PC_D75\", \"geometry\"]], \n",
    "                           how='left', \n",
    "                           distance_col='distance')\n",
    "a = a.drop(columns=[\"distance\", \"index_right\"])\n",
    "b = gpd.sjoin_nearest(a, \n",
    "                           depth_slices[[\"PercentCoarse_15_30\", \"geometry\"]],\n",
    "                           how='left', \n",
    "                           distance_col='distance')\n",
    "b = b.drop(columns=[\"index_right\", \"distance\"])\n",
    "b[\"PC_D75\"] = (b[\"PC_D75\"] - b[\"PC_D75\"].mean()) / b[\"PC_D75\"].std()"
   ]
  },
  {
   "cell_type": "code",
   "execution_count": 72,
   "id": "61dfbf76-978f-4bbf-853f-400a426ef952",
   "metadata": {
    "execution": {
     "iopub.execute_input": "2025-04-12T21:58:57.159115Z",
     "iopub.status.busy": "2025-04-12T21:58:57.158884Z",
     "iopub.status.idle": "2025-04-12T21:58:57.177784Z",
     "shell.execute_reply": "2025-04-12T21:58:57.177362Z",
     "shell.execute_reply.started": "2025-04-12T21:58:57.159101Z"
    }
   },
   "outputs": [
    {
     "ename": "TypeError",
     "evalue": "sjoin_nearest() got an unexpected keyword argument 'max_matches'",
     "output_type": "error",
     "traceback": [
      "\u001b[0;31m---------------------------------------------------------------------------\u001b[0m",
      "\u001b[0;31mTypeError\u001b[0m                                 Traceback (most recent call last)",
      "Cell \u001b[0;32mIn[72], line 1\u001b[0m\n\u001b[0;32m----> 1\u001b[0m gpd\u001b[38;5;241m.\u001b[39msjoin_nearest(grid_v2, \n\u001b[1;32m      2\u001b[0m                            cvhm_gridded[[\u001b[38;5;124m\"\u001b[39m\u001b[38;5;124mPC_D75\u001b[39m\u001b[38;5;124m\"\u001b[39m, \u001b[38;5;124m\"\u001b[39m\u001b[38;5;124mgeometry\u001b[39m\u001b[38;5;124m\"\u001b[39m]], \n\u001b[1;32m      3\u001b[0m                            how\u001b[38;5;241m=\u001b[39m\u001b[38;5;124m'\u001b[39m\u001b[38;5;124mleft\u001b[39m\u001b[38;5;124m'\u001b[39m, \n\u001b[1;32m      4\u001b[0m                            distance_col\u001b[38;5;241m=\u001b[39m\u001b[38;5;124m'\u001b[39m\u001b[38;5;124mdistance\u001b[39m\u001b[38;5;124m'\u001b[39m, max_matches\u001b[38;5;241m=\u001b[39m\u001b[38;5;241m1\u001b[39m)\n",
      "\u001b[0;31mTypeError\u001b[0m: sjoin_nearest() got an unexpected keyword argument 'max_matches'"
     ]
    }
   ],
   "source": [
    "gpd.sjoin_nearest(grid_v2, \n",
    "                           cvhm_gridded[[\"PC_D75\", \"geometry\"]], \n",
    "                           how='left', \n",
    "                           distance_col='distance')"
   ]
  },
  {
   "cell_type": "code",
   "execution_count": 48,
   "id": "febf1005-7d89-4e94-a77b-66e8934ca091",
   "metadata": {
    "execution": {
     "iopub.execute_input": "2025-04-12T21:13:08.874194Z",
     "iopub.status.busy": "2025-04-12T21:13:08.873985Z",
     "iopub.status.idle": "2025-04-12T21:13:08.876617Z",
     "shell.execute_reply": "2025-04-12T21:13:08.876304Z",
     "shell.execute_reply.started": "2025-04-12T21:13:08.874182Z"
    }
   },
   "outputs": [],
   "source": [
    "aem_depths = ['PercentCoarse_15_30', 'PercentCoarse_30_45',\n",
    "       'PercentCoarse_45_60', 'PercentCoarse_60_75', 'PercentCoarse_75_90',\n",
    "       'PercentCoarse_90_105', 'PercentCoarse_105_120',\n",
    "       'PercentCoarse_120_135', 'PercentCoarse_135_150']\n",
    "cvhm_depths = ['PC_D75', 'PC_D125', 'PC_D175', 'PC_D225', 'PC_D275', 'PC_D325',\n",
    "       'PC_D375', 'PC_D425', 'PC_D475']"
   ]
  },
  {
   "cell_type": "code",
   "execution_count": null,
   "id": "702fa593-5daa-4d1c-b6d8-8b286ae75c62",
   "metadata": {},
   "outputs": [],
   "source": []
  },
  {
   "cell_type": "code",
   "execution_count": 120,
   "id": "5db23a6b-3734-4a42-816b-a1ce17ace6a0",
   "metadata": {
    "execution": {
     "iopub.execute_input": "2025-04-12T22:31:07.907124Z",
     "iopub.status.busy": "2025-04-12T22:31:07.906878Z",
     "iopub.status.idle": "2025-04-12T22:31:48.738225Z",
     "shell.execute_reply": "2025-04-12T22:31:48.737788Z",
     "shell.execute_reply.started": "2025-04-12T22:31:07.907111Z"
    }
   },
   "outputs": [
    {
     "name": "stderr",
     "output_type": "stream",
     "text": [
      "100%|██████████| 9/9 [00:40<00:00,  4.54s/it]\n"
     ]
    }
   ],
   "source": [
    "for aem, krige in tqdm(zip(aem_depths, cvhm_depths), total=9):\n",
    "    a = gpd.sjoin_nearest(depth_slices[[\"geometry\", aem]], \n",
    "                           cvhm_gdf[[krige, \"geometry\"]],\n",
    "                           how='left',\n",
    "                           distance_col='distance')\n",
    "    a = a.drop(columns=[\"index_right\", \"distance\"])\n",
    "    b = pd.merge(grid_v2, a, on=\"geometry\", how=\"left\")\n",
    "    b[krige] = (b[krige] - b[krige].mean()) / b[krige].std()\n",
    "    b.to_parquet(\"deeper/\" + aem + \".parquet\")"
   ]
  },
  {
   "cell_type": "code",
   "execution_count": 3,
   "id": "75e42376-19a4-4d71-8516-f0b505d3a23e",
   "metadata": {
    "execution": {
     "iopub.execute_input": "2025-04-17T03:51:24.269147Z",
     "iopub.status.busy": "2025-04-17T03:51:24.268886Z",
     "iopub.status.idle": "2025-04-17T03:51:24.700717Z",
     "shell.execute_reply": "2025-04-17T03:51:24.700115Z",
     "shell.execute_reply.started": "2025-04-17T03:51:24.269126Z"
    }
   },
   "outputs": [],
   "source": [
    "import pandas as pd\n",
    "a = pd.read_parquet(\"deeper/PercentCoarse_15_30.parquet\")"
   ]
  },
  {
   "cell_type": "code",
   "execution_count": 13,
   "id": "8d3d3949-f521-4f79-8ced-f7561fb1a4a7",
   "metadata": {
    "execution": {
     "iopub.execute_input": "2025-04-17T05:20:39.580614Z",
     "iopub.status.busy": "2025-04-17T05:20:39.580062Z",
     "iopub.status.idle": "2025-04-17T05:20:39.584549Z",
     "shell.execute_reply": "2025-04-17T05:20:39.583978Z",
     "shell.execute_reply.started": "2025-04-17T05:20:39.580594Z"
    }
   },
   "outputs": [
    {
     "data": {
      "text/plain": [
       "Index(['color', 'gradient', 'p_slope', 'ones', 'longitude', 'latitude',\n",
       "       'geometry', 'cdl_val_2010', 'cdl_val_2015', 'cdl_val_2020',\n",
       "       ...\n",
       "       '2015_sep_oct_diff_Qg_idw', '2016_sep_oct_diff_Qg_idw',\n",
       "       '2017_sep_oct_diff_Qg_idw', '2018_sep_oct_diff_Qg_idw',\n",
       "       '2019_sep_oct_diff_Qg_idw', '2020_sep_oct_diff_Qg_idw',\n",
       "       '2021_sep_oct_diff_Qg_idw', '2022_sep_oct_diff_Qg_idw',\n",
       "       '2023_sep_oct_diff_Qg_idw', '2024_sep_oct_diff_Qg_idw'],\n",
       "      dtype='object', length=1200)"
      ]
     },
     "execution_count": 13,
     "metadata": {},
     "output_type": "execute_result"
    }
   ],
   "source": [
    "a.columns[:1200]"
   ]
  },
  {
   "cell_type": "code",
   "execution_count": null,
   "id": "4cdb64b3-c5c4-4d12-b935-87a38617ab35",
   "metadata": {},
   "outputs": [],
   "source": []
  }
 ],
 "metadata": {
  "kernelspec": {
   "display_name": "Python 3 (ipykernel)",
   "language": "python",
   "name": "python3"
  },
  "language_info": {
   "codemirror_mode": {
    "name": "ipython",
    "version": 3
   },
   "file_extension": ".py",
   "mimetype": "text/x-python",
   "name": "python",
   "nbconvert_exporter": "python",
   "pygments_lexer": "ipython3",
   "version": "3.11.7"
  }
 },
 "nbformat": 4,
 "nbformat_minor": 5
}
