{
 "cells": [
  {
   "cell_type": "code",
   "execution_count": 20,
   "id": "254d9bd3-8ea0-4315-8e20-3d42d042a363",
   "metadata": {},
   "outputs": [],
   "source": [
    "import pandas as pd\n",
    "import numpy as np\n",
    "import requests\n",
    "import geopandas as gpd\n",
    "from shapely.geometry import shape, Point\n",
    "from tqdm import tqdm"
   ]
  },
  {
   "cell_type": "markdown",
   "id": "e797c4fc-8a77-4fdd-8105-6e3e582df143",
   "metadata": {},
   "source": [
    "### Connecting to CA Geologic map to identify the rock type that each well sits on\n",
    "\n",
    "[Data from this map](https://maps-cadoc.opendata.arcgis.com/maps/9eba56d981df4f839769ce9a2adc01f4/explore)"
   ]
  },
  {
   "cell_type": "code",
   "execution_count": 2,
   "id": "cc291562-a011-43f6-8365-ecfd16960131",
   "metadata": {},
   "outputs": [
    {
     "name": "stdout",
     "output_type": "stream",
     "text": [
      "Number of results: 1\n",
      "{'layerId': 12, 'layerName': 'Generalized Rock Types', 'displayFieldName': 'PTYPE', 'value': 'Q', 'attributes': {'OBJECTID': '13872', 'PTYPE': 'Q', 'GENERAL_LITHOLOGY': 'marine and nonmarine (continental) sedimentary rocks', 'AGE': 'Pleistocene-Holocene', 'DESCRIPTION': 'Alluvium, lake, playa, and terrace deposits; unconsolidated and semi-consolidated. Mostly nonmarine, but includes marine deposits near the coast.', 'SHAPE': 'Polygon', 'SHAPE.STArea()': '3942876694.487556', 'SHAPE.STLength()': '1860311.283161'}}\n"
     ]
    }
   ],
   "source": [
    "def identify_geology(lat, lon):\n",
    "    identify_url = (\n",
    "        \"https://gis.conservation.ca.gov/server/rest/services/\"\n",
    "        \"CGS/Geologic_Map_of_California/MapServer/identify\"\n",
    "    )\n",
    "    \n",
    "    params = {\n",
    "        \"f\": \"json\",\n",
    "        \"geometry\": f\"{lon},{lat}\",\n",
    "        \"geometryType\": \"esriGeometryPoint\",\n",
    "        \"sr\": \"4326\",\n",
    "        \"mapExtent\": f\"{lon-0.01},{lat-0.01},{lon+0.01},{lat+0.01}\",\n",
    "        \"imageDisplay\": \"800,600,96\",\n",
    "        \"tolerance\": 1,\n",
    "        \"returnGeometry\": \"false\",\n",
    "        \"layers\": \"all\",\n",
    "    }\n",
    "    \n",
    "    headers = {\n",
    "        \"User-Agent\": (\n",
    "            \"Mozilla/5.0 (Windows NT 10.0; Win64; x64) AppleWebKit/537.36 \"\n",
    "            \"(KHTML, like Gecko) Chrome/108.0.0.0 Safari/537.36\"\n",
    "        )\n",
    "    }\n",
    "    \n",
    "    try:\n",
    "        response = requests.get(identify_url, params=params, headers=headers)\n",
    "        response.raise_for_status()\n",
    "        data = response.json()\n",
    "        return data.get(\"results\", [])\n",
    "    \n",
    "    except Exception as e:\n",
    "        print(f\"Error querying service: {e}\")\n",
    "        return None\n",
    "\n",
    "# trying it on a random point in CA to see what the response looks like\n",
    "if __name__ == \"__main__\":\n",
    "    lat = 34.0522\n",
    "    lon = -118.2437\n",
    "    \n",
    "    results = identify_geology(lat, lon)\n",
    "    if results:\n",
    "        print(\"Number of results:\", len(results))\n",
    "        for r in results:\n",
    "            print(r)\n"
   ]
  },
  {
   "cell_type": "markdown",
   "id": "9d02620a-544e-412c-898e-63b0aa1a3eed",
   "metadata": {},
   "source": [
    "### Hooking back into CA DWR wells to map rock type to depths"
   ]
  },
  {
   "cell_type": "markdown",
   "id": "70997519-32b2-49b8-ba08-7fc957fc31ea",
   "metadata": {},
   "source": [
    "Getting station IDs and performing geologic mapping top stage."
   ]
  },
  {
   "cell_type": "code",
   "execution_count": 69,
   "id": "0631164d-6d71-4f4f-a881-ad99b1b14e0a",
   "metadata": {},
   "outputs": [],
   "source": [
    "url = \"https://data.cnra.ca.gov/api/3/action/datastore_search\"\n",
    "params = {\n",
    "    \"resource_id\": \"af157380-fb42-4abf-b72a-6f9f98868077\",\n",
    "    \"limit\": 100000,\n",
    "    \"offset\": 0\n",
    "}\n",
    "response = requests.get(url, params=params)\n",
    "data = response.json()['result']['records']\n",
    "station_mapping = pd.DataFrame(data)\n",
    "station_depth = station_mapping[~station_mapping.well_depth.isna()].copy()# approx 15k stations"
   ]
  },
  {
   "cell_type": "code",
   "execution_count": 4,
   "id": "1dd2b524-efb8-4abe-8b33-87cf247e884c",
   "metadata": {},
   "outputs": [],
   "source": [
    "def station_geologic(row):\n",
    "    lat = row.latitude\n",
    "    lon = row.longitude\n",
    "    geology = identify_geology(lat, lon)\n",
    "    rock_type = [item for item in geology if item[\"layerId\"] == 12]\n",
    "    if len(rock_type) > 1:\n",
    "        print(f\"Point has multiple geology: {len(rock_type)}\")\n",
    "    elif len(rock_type) == 0:\n",
    "        return []\n",
    "    try:\n",
    "        return [rock[\"attributes\"][\"PTYPE\"] for rock in rock_type]\n",
    "    except KeyError:\n",
    "        print(f\"Warning: no geology found at {lat}, {lon} !\")\n",
    "        return None"
   ]
  },
  {
   "cell_type": "code",
   "execution_count": 5,
   "id": "9e02945a-f708-4253-a48d-af2a2e47bb55",
   "metadata": {
    "tags": []
   },
   "outputs": [
    {
     "data": {
      "text/plain": [
       "'\\ndeprecated, method gets disconnected from geology server\\n\\nrocks = []\\nfor idx, row in tqdm(station_depth.iterrows(), total=len(station_depth)):\\n    val = station_geologic(row)\\n    rocks.append(val)\\n    '"
      ]
     },
     "execution_count": 5,
     "metadata": {},
     "output_type": "execute_result"
    }
   ],
   "source": [
    "'''\n",
    "deprecated, method gets disconnected from geology server\n",
    "\n",
    "rocks = []\n",
    "for idx, row in tqdm(station_depth.iterrows(), total=len(station_depth)):\n",
    "    val = station_geologic(row)\n",
    "    rocks.append(val)\n",
    "    '''"
   ]
  },
  {
   "cell_type": "code",
   "execution_count": 52,
   "id": "271da7da-37e7-4a0a-bc82-12b11af21231",
   "metadata": {},
   "outputs": [
    {
     "name": "stdout",
     "output_type": "stream",
     "text": [
      "Fetching data from: https://gis.conservation.ca.gov/server/rest/services/CGS/Geologic_Map_of_California/MapServer/12/query?where=1=1&outFields=*&returnGeometry=true&outSR=4326&f=geojson with offset 0\n",
      "Fetching data from: https://gis.conservation.ca.gov/server/rest/services/CGS/Geologic_Map_of_California/MapServer/12/query?where=1=1&outFields=*&returnGeometry=true&outSR=4326&f=geojson with offset 2000\n",
      "Fetching data from: https://gis.conservation.ca.gov/server/rest/services/CGS/Geologic_Map_of_California/MapServer/12/query?where=1=1&outFields=*&returnGeometry=true&outSR=4326&f=geojson with offset 4000\n",
      "Fetching data from: https://gis.conservation.ca.gov/server/rest/services/CGS/Geologic_Map_of_California/MapServer/12/query?where=1=1&outFields=*&returnGeometry=true&outSR=4326&f=geojson with offset 6000\n",
      "Fetching data from: https://gis.conservation.ca.gov/server/rest/services/CGS/Geologic_Map_of_California/MapServer/12/query?where=1=1&outFields=*&returnGeometry=true&outSR=4326&f=geojson with offset 8000\n",
      "Fetching data from: https://gis.conservation.ca.gov/server/rest/services/CGS/Geologic_Map_of_California/MapServer/12/query?where=1=1&outFields=*&returnGeometry=true&outSR=4326&f=geojson with offset 10000\n",
      "Fetching data from: https://gis.conservation.ca.gov/server/rest/services/CGS/Geologic_Map_of_California/MapServer/12/query?where=1=1&outFields=*&returnGeometry=true&outSR=4326&f=geojson with offset 12000\n",
      "Fetching data from: https://gis.conservation.ca.gov/server/rest/services/CGS/Geologic_Map_of_California/MapServer/12/query?where=1=1&outFields=*&returnGeometry=true&outSR=4326&f=geojson with offset 14000\n",
      "Total polygons fetched: 13924\n"
     ]
    }
   ],
   "source": [
    "def get_geologic_polygons(url):\n",
    "    \"\"\"\n",
    "    Fetches the GeoJSON data from the given URL and returns a list of (shapely_geometry, properties).\n",
    "    Each item in the returned list is a tuple of (Polygon/MultiPolygon, attribute_dictionary).\n",
    "    \"\"\"\n",
    "    headers = {\n",
    "        \"User-Agent\": (\n",
    "            \"Mozilla/5.0 (Windows NT 10.0; Win64; x64) AppleWebKit/537.36 \"\n",
    "            \"(KHTML, like Gecko) Chrome/108.0.0.0 Safari/537.36\"\n",
    "        )\n",
    "    }\n",
    "\n",
    "    polygons = []\n",
    "    offset = 0\n",
    "    limit = 2000  # Adjust this based on the server's limit\n",
    "\n",
    "    while True:\n",
    "        print(f\"Fetching data from: {url} with offset {offset}\")\n",
    "        paginated_url = f\"{url}&resultRecordCount={limit}&resultOffset={offset}\"\n",
    "        response = requests.get(paginated_url, headers=headers)\n",
    "        response.raise_for_status()\n",
    "        \n",
    "        geojson_data = response.json()\n",
    "        features = geojson_data.get('features', [])\n",
    "        \n",
    "        if not features:\n",
    "            break  # No more features to fetch\n",
    "        \n",
    "        for feature in features:\n",
    "            geometry = shape(feature['geometry'])\n",
    "            polygons.append((geometry, feature['properties']))\n",
    "        \n",
    "        offset += limit\n",
    "    \n",
    "    return polygons\n",
    "\n",
    "def find_rock_type_for_points(points, polygons):\n",
    "    \"\"\"\n",
    "    Given a list of (lon, lat) points and a list of (shapely_geometry, properties),\n",
    "    returns a dict mapping each (lon, lat) point to a list of PTYPE values from the polygons it falls in.\n",
    "    \n",
    "    If a point does not fall in any polygon, it will map to an empty list.\n",
    "    \"\"\"\n",
    "    results = {}\n",
    "    \n",
    "    for lon, lat in tqdm(points):\n",
    "        point = Point(lon, lat)\n",
    "        ptypes = []  # List to store all PTYPE values for the point\n",
    "        \n",
    "        # Check each polygon to see if the point is contained in it\n",
    "        for polygon, props in polygons:\n",
    "            if polygon.contains(point):\n",
    "                ptype = props.get(\"PTYPE\")  # Get the PTYPE value from the properties\n",
    "                if ptype:\n",
    "                    ptypes.append(ptype)\n",
    "        \n",
    "        # Ensure every point is included in the results, even if it has no PTYPE values\n",
    "        results[(lon, lat)] = ptypes\n",
    "    \n",
    "    return results\n",
    "\n",
    "url = (\n",
    "        \"https://gis.conservation.ca.gov/server/rest/services/CGS/\"\n",
    "        \"Geologic_Map_of_California/MapServer/12/query\"\n",
    "        \"?where=1=1&outFields=*&returnGeometry=true&outSR=4326&f=geojson\"\n",
    "    )\n",
    "    \n",
    "# Fetch polygons\n",
    "polygons_data = get_geologic_polygons(url)\n",
    "print(f\"Total polygons fetched: {len(polygons_data)}\")"
   ]
  },
  {
   "cell_type": "code",
   "execution_count": 49,
   "id": "e884f117-a1a5-4372-8171-53b03ef799ae",
   "metadata": {},
   "outputs": [
    {
     "name": "stderr",
     "output_type": "stream",
     "text": [
      "100%|██████████| 14563/14563 [16:32<00:00, 14.67it/s]\n"
     ]
    }
   ],
   "source": [
    "wells = [(i,j) for i,j in zip(station_depth.longitude, station_depth.latitude)]\n",
    "geologies = find_rock_type_for_points(wells, polygons_data)"
   ]
  },
  {
   "cell_type": "code",
   "execution_count": 56,
   "id": "fc310665-397e-43f9-8bd9-5c8495a0be31",
   "metadata": {},
   "outputs": [],
   "source": [
    "def find_row_geology(row):\n",
    "    lat = row.latitude\n",
    "    lon = row.longitude\n",
    "    return geologies[(lon,lat)]"
   ]
  },
  {
   "cell_type": "code",
   "execution_count": 67,
   "id": "98600009-530a-4e59-8597-43642d27529f",
   "metadata": {},
   "outputs": [
    {
     "data": {
      "text/plain": [
       "18"
      ]
     },
     "execution_count": 67,
     "metadata": {},
     "output_type": "execute_result"
    }
   ],
   "source": [
    "station_depth.apply(find_row_geology, axis=1).apply(lambda x: len(x) == 0).sum()"
   ]
  },
  {
   "cell_type": "code",
   "execution_count": 70,
   "id": "41cbd873-1690-46be-85f0-89c0dcb5c052",
   "metadata": {},
   "outputs": [],
   "source": [
    "station_depth[\"geology\"] = station_depth.apply(find_row_geology, axis=1)"
   ]
  },
  {
   "cell_type": "code",
   "execution_count": 72,
   "id": "5e64baa0-6b63-4c4c-86c2-c30b59bc43cc",
   "metadata": {},
   "outputs": [],
   "source": [
    "station_depth.to_csv(\"stations_depth_geology.csv\", index=False)"
   ]
  },
  {
   "cell_type": "code",
   "execution_count": null,
   "id": "178b3794-bf05-4477-8096-7b0984ab2208",
   "metadata": {},
   "outputs": [],
   "source": []
  }
 ],
 "metadata": {
  "kernelspec": {
   "display_name": "Python 3",
   "language": "python",
   "name": "python3"
  },
  "language_info": {
   "codemirror_mode": {
    "name": "ipython",
    "version": 3
   },
   "file_extension": ".py",
   "mimetype": "text/x-python",
   "name": "python",
   "nbconvert_exporter": "python",
   "pygments_lexer": "ipython3",
   "version": "3.8.8"
  }
 },
 "nbformat": 4,
 "nbformat_minor": 5
}
